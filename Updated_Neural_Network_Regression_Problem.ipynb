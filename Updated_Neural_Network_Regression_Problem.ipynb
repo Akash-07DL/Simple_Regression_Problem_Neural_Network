{
  "nbformat": 4,
  "nbformat_minor": 0,
  "metadata": {
    "colab": {
      "name": "Updated_Neural_Network_Regression_Problem.ipynb",
      "provenance": [],
      "collapsed_sections": [
        "doWd_fM4uSpV",
        "2nWhtVf2mLXg"
      ]
    },
    "kernelspec": {
      "name": "python3",
      "display_name": "Python 3"
    },
    "language_info": {
      "name": "python"
    }
  },
  "cells": [
    {
      "cell_type": "code",
      "metadata": {
        "id": "k7d3qXE9AJVW"
      },
      "source": [
        "# Importing Required libraries\n",
        "import numpy as np\n",
        "import pandas as pd\n",
        "import tensorflow as tf\n",
        "import matplotlib.pyplot as plt\n"
      ],
      "execution_count": 2,
      "outputs": []
    },
    {
      "cell_type": "code",
      "metadata": {
        "id": "FEretfzmShqR"
      },
      "source": [
        "# Reading the Insurance Dataset direct from github. \n",
        "# Link to view in Raw form: https://raw.githubusercontent.com/stedy/Machine-Learning-with-R-datasets/master/insurance.csv\n",
        "\n",
        "insurance_data = pd.read_csv(\"https://raw.githubusercontent.com/stedy/Machine-Learning-with-R-datasets/master/insurance.csv\")"
      ],
      "execution_count": 3,
      "outputs": []
    },
    {
      "cell_type": "code",
      "metadata": {
        "colab": {
          "base_uri": "https://localhost:8080/",
          "height": 203
        },
        "id": "ZkuEHc7aTgew",
        "outputId": "118d299f-0837-499a-d885-a3b479527d48"
      },
      "source": [
        "# View the first five Column. \n",
        "insurance_data.head()"
      ],
      "execution_count": 4,
      "outputs": [
        {
          "output_type": "execute_result",
          "data": {
            "text/html": [
              "<div>\n",
              "<style scoped>\n",
              "    .dataframe tbody tr th:only-of-type {\n",
              "        vertical-align: middle;\n",
              "    }\n",
              "\n",
              "    .dataframe tbody tr th {\n",
              "        vertical-align: top;\n",
              "    }\n",
              "\n",
              "    .dataframe thead th {\n",
              "        text-align: right;\n",
              "    }\n",
              "</style>\n",
              "<table border=\"1\" class=\"dataframe\">\n",
              "  <thead>\n",
              "    <tr style=\"text-align: right;\">\n",
              "      <th></th>\n",
              "      <th>age</th>\n",
              "      <th>sex</th>\n",
              "      <th>bmi</th>\n",
              "      <th>children</th>\n",
              "      <th>smoker</th>\n",
              "      <th>region</th>\n",
              "      <th>charges</th>\n",
              "    </tr>\n",
              "  </thead>\n",
              "  <tbody>\n",
              "    <tr>\n",
              "      <th>0</th>\n",
              "      <td>19</td>\n",
              "      <td>female</td>\n",
              "      <td>27.900</td>\n",
              "      <td>0</td>\n",
              "      <td>yes</td>\n",
              "      <td>southwest</td>\n",
              "      <td>16884.92400</td>\n",
              "    </tr>\n",
              "    <tr>\n",
              "      <th>1</th>\n",
              "      <td>18</td>\n",
              "      <td>male</td>\n",
              "      <td>33.770</td>\n",
              "      <td>1</td>\n",
              "      <td>no</td>\n",
              "      <td>southeast</td>\n",
              "      <td>1725.55230</td>\n",
              "    </tr>\n",
              "    <tr>\n",
              "      <th>2</th>\n",
              "      <td>28</td>\n",
              "      <td>male</td>\n",
              "      <td>33.000</td>\n",
              "      <td>3</td>\n",
              "      <td>no</td>\n",
              "      <td>southeast</td>\n",
              "      <td>4449.46200</td>\n",
              "    </tr>\n",
              "    <tr>\n",
              "      <th>3</th>\n",
              "      <td>33</td>\n",
              "      <td>male</td>\n",
              "      <td>22.705</td>\n",
              "      <td>0</td>\n",
              "      <td>no</td>\n",
              "      <td>northwest</td>\n",
              "      <td>21984.47061</td>\n",
              "    </tr>\n",
              "    <tr>\n",
              "      <th>4</th>\n",
              "      <td>32</td>\n",
              "      <td>male</td>\n",
              "      <td>28.880</td>\n",
              "      <td>0</td>\n",
              "      <td>no</td>\n",
              "      <td>northwest</td>\n",
              "      <td>3866.85520</td>\n",
              "    </tr>\n",
              "  </tbody>\n",
              "</table>\n",
              "</div>"
            ],
            "text/plain": [
              "   age     sex     bmi  children smoker     region      charges\n",
              "0   19  female  27.900         0    yes  southwest  16884.92400\n",
              "1   18    male  33.770         1     no  southeast   1725.55230\n",
              "2   28    male  33.000         3     no  southeast   4449.46200\n",
              "3   33    male  22.705         0     no  northwest  21984.47061\n",
              "4   32    male  28.880         0     no  northwest   3866.85520"
            ]
          },
          "metadata": {
            "tags": []
          },
          "execution_count": 4
        }
      ]
    },
    {
      "cell_type": "code",
      "metadata": {
        "colab": {
          "base_uri": "https://localhost:8080/"
        },
        "id": "hMOWOOfXTjJr",
        "outputId": "f6612497-b117-468f-e0c6-916284d0bc97"
      },
      "source": [
        "# Information about the data and features datatype in the dataframe.\n",
        "insurance_data.info()"
      ],
      "execution_count": 5,
      "outputs": [
        {
          "output_type": "stream",
          "text": [
            "<class 'pandas.core.frame.DataFrame'>\n",
            "RangeIndex: 1338 entries, 0 to 1337\n",
            "Data columns (total 7 columns):\n",
            " #   Column    Non-Null Count  Dtype  \n",
            "---  ------    --------------  -----  \n",
            " 0   age       1338 non-null   int64  \n",
            " 1   sex       1338 non-null   object \n",
            " 2   bmi       1338 non-null   float64\n",
            " 3   children  1338 non-null   int64  \n",
            " 4   smoker    1338 non-null   object \n",
            " 5   region    1338 non-null   object \n",
            " 6   charges   1338 non-null   float64\n",
            "dtypes: float64(2), int64(2), object(3)\n",
            "memory usage: 73.3+ KB\n"
          ],
          "name": "stdout"
        }
      ]
    },
    {
      "cell_type": "code",
      "metadata": {
        "colab": {
          "base_uri": "https://localhost:8080/",
          "height": 203
        },
        "id": "7JZ_cRrbT8zR",
        "outputId": "6c57d4b2-5da3-4d6d-dfe7-087932616d4f"
      },
      "source": [
        "# In the dataframe, there are categorical variable. We can solve this problem by the method called - One Hot Encoding.\n",
        "insurance_one_hot = pd.get_dummies(insurance_data)\n",
        "insurance_one_hot.head()"
      ],
      "execution_count": 6,
      "outputs": [
        {
          "output_type": "execute_result",
          "data": {
            "text/html": [
              "<div>\n",
              "<style scoped>\n",
              "    .dataframe tbody tr th:only-of-type {\n",
              "        vertical-align: middle;\n",
              "    }\n",
              "\n",
              "    .dataframe tbody tr th {\n",
              "        vertical-align: top;\n",
              "    }\n",
              "\n",
              "    .dataframe thead th {\n",
              "        text-align: right;\n",
              "    }\n",
              "</style>\n",
              "<table border=\"1\" class=\"dataframe\">\n",
              "  <thead>\n",
              "    <tr style=\"text-align: right;\">\n",
              "      <th></th>\n",
              "      <th>age</th>\n",
              "      <th>bmi</th>\n",
              "      <th>children</th>\n",
              "      <th>charges</th>\n",
              "      <th>sex_female</th>\n",
              "      <th>sex_male</th>\n",
              "      <th>smoker_no</th>\n",
              "      <th>smoker_yes</th>\n",
              "      <th>region_northeast</th>\n",
              "      <th>region_northwest</th>\n",
              "      <th>region_southeast</th>\n",
              "      <th>region_southwest</th>\n",
              "    </tr>\n",
              "  </thead>\n",
              "  <tbody>\n",
              "    <tr>\n",
              "      <th>0</th>\n",
              "      <td>19</td>\n",
              "      <td>27.900</td>\n",
              "      <td>0</td>\n",
              "      <td>16884.92400</td>\n",
              "      <td>1</td>\n",
              "      <td>0</td>\n",
              "      <td>0</td>\n",
              "      <td>1</td>\n",
              "      <td>0</td>\n",
              "      <td>0</td>\n",
              "      <td>0</td>\n",
              "      <td>1</td>\n",
              "    </tr>\n",
              "    <tr>\n",
              "      <th>1</th>\n",
              "      <td>18</td>\n",
              "      <td>33.770</td>\n",
              "      <td>1</td>\n",
              "      <td>1725.55230</td>\n",
              "      <td>0</td>\n",
              "      <td>1</td>\n",
              "      <td>1</td>\n",
              "      <td>0</td>\n",
              "      <td>0</td>\n",
              "      <td>0</td>\n",
              "      <td>1</td>\n",
              "      <td>0</td>\n",
              "    </tr>\n",
              "    <tr>\n",
              "      <th>2</th>\n",
              "      <td>28</td>\n",
              "      <td>33.000</td>\n",
              "      <td>3</td>\n",
              "      <td>4449.46200</td>\n",
              "      <td>0</td>\n",
              "      <td>1</td>\n",
              "      <td>1</td>\n",
              "      <td>0</td>\n",
              "      <td>0</td>\n",
              "      <td>0</td>\n",
              "      <td>1</td>\n",
              "      <td>0</td>\n",
              "    </tr>\n",
              "    <tr>\n",
              "      <th>3</th>\n",
              "      <td>33</td>\n",
              "      <td>22.705</td>\n",
              "      <td>0</td>\n",
              "      <td>21984.47061</td>\n",
              "      <td>0</td>\n",
              "      <td>1</td>\n",
              "      <td>1</td>\n",
              "      <td>0</td>\n",
              "      <td>0</td>\n",
              "      <td>1</td>\n",
              "      <td>0</td>\n",
              "      <td>0</td>\n",
              "    </tr>\n",
              "    <tr>\n",
              "      <th>4</th>\n",
              "      <td>32</td>\n",
              "      <td>28.880</td>\n",
              "      <td>0</td>\n",
              "      <td>3866.85520</td>\n",
              "      <td>0</td>\n",
              "      <td>1</td>\n",
              "      <td>1</td>\n",
              "      <td>0</td>\n",
              "      <td>0</td>\n",
              "      <td>1</td>\n",
              "      <td>0</td>\n",
              "      <td>0</td>\n",
              "    </tr>\n",
              "  </tbody>\n",
              "</table>\n",
              "</div>"
            ],
            "text/plain": [
              "   age     bmi  children  ...  region_northwest  region_southeast  region_southwest\n",
              "0   19  27.900         0  ...                 0                 0                 1\n",
              "1   18  33.770         1  ...                 0                 1                 0\n",
              "2   28  33.000         3  ...                 0                 1                 0\n",
              "3   33  22.705         0  ...                 1                 0                 0\n",
              "4   32  28.880         0  ...                 1                 0                 0\n",
              "\n",
              "[5 rows x 12 columns]"
            ]
          },
          "metadata": {
            "tags": []
          },
          "execution_count": 6
        }
      ]
    },
    {
      "cell_type": "code",
      "metadata": {
        "id": "tHI50CNpfreA"
      },
      "source": [
        "# Creating the X and Y for training and testing.\n",
        "X = insurance_one_hot.drop(\"charges\", axis = 1)\n",
        "y = insurance_one_hot[\"charges\"]"
      ],
      "execution_count": 7,
      "outputs": []
    },
    {
      "cell_type": "code",
      "metadata": {
        "colab": {
          "base_uri": "https://localhost:8080/",
          "height": 203
        },
        "id": "Xqc2Bf_ogS03",
        "outputId": "6bb389b2-3963-4d52-cad3-49a953883fa1"
      },
      "source": [
        "# Viewing the X data\n",
        "X.head() "
      ],
      "execution_count": 8,
      "outputs": [
        {
          "output_type": "execute_result",
          "data": {
            "text/html": [
              "<div>\n",
              "<style scoped>\n",
              "    .dataframe tbody tr th:only-of-type {\n",
              "        vertical-align: middle;\n",
              "    }\n",
              "\n",
              "    .dataframe tbody tr th {\n",
              "        vertical-align: top;\n",
              "    }\n",
              "\n",
              "    .dataframe thead th {\n",
              "        text-align: right;\n",
              "    }\n",
              "</style>\n",
              "<table border=\"1\" class=\"dataframe\">\n",
              "  <thead>\n",
              "    <tr style=\"text-align: right;\">\n",
              "      <th></th>\n",
              "      <th>age</th>\n",
              "      <th>bmi</th>\n",
              "      <th>children</th>\n",
              "      <th>sex_female</th>\n",
              "      <th>sex_male</th>\n",
              "      <th>smoker_no</th>\n",
              "      <th>smoker_yes</th>\n",
              "      <th>region_northeast</th>\n",
              "      <th>region_northwest</th>\n",
              "      <th>region_southeast</th>\n",
              "      <th>region_southwest</th>\n",
              "    </tr>\n",
              "  </thead>\n",
              "  <tbody>\n",
              "    <tr>\n",
              "      <th>0</th>\n",
              "      <td>19</td>\n",
              "      <td>27.900</td>\n",
              "      <td>0</td>\n",
              "      <td>1</td>\n",
              "      <td>0</td>\n",
              "      <td>0</td>\n",
              "      <td>1</td>\n",
              "      <td>0</td>\n",
              "      <td>0</td>\n",
              "      <td>0</td>\n",
              "      <td>1</td>\n",
              "    </tr>\n",
              "    <tr>\n",
              "      <th>1</th>\n",
              "      <td>18</td>\n",
              "      <td>33.770</td>\n",
              "      <td>1</td>\n",
              "      <td>0</td>\n",
              "      <td>1</td>\n",
              "      <td>1</td>\n",
              "      <td>0</td>\n",
              "      <td>0</td>\n",
              "      <td>0</td>\n",
              "      <td>1</td>\n",
              "      <td>0</td>\n",
              "    </tr>\n",
              "    <tr>\n",
              "      <th>2</th>\n",
              "      <td>28</td>\n",
              "      <td>33.000</td>\n",
              "      <td>3</td>\n",
              "      <td>0</td>\n",
              "      <td>1</td>\n",
              "      <td>1</td>\n",
              "      <td>0</td>\n",
              "      <td>0</td>\n",
              "      <td>0</td>\n",
              "      <td>1</td>\n",
              "      <td>0</td>\n",
              "    </tr>\n",
              "    <tr>\n",
              "      <th>3</th>\n",
              "      <td>33</td>\n",
              "      <td>22.705</td>\n",
              "      <td>0</td>\n",
              "      <td>0</td>\n",
              "      <td>1</td>\n",
              "      <td>1</td>\n",
              "      <td>0</td>\n",
              "      <td>0</td>\n",
              "      <td>1</td>\n",
              "      <td>0</td>\n",
              "      <td>0</td>\n",
              "    </tr>\n",
              "    <tr>\n",
              "      <th>4</th>\n",
              "      <td>32</td>\n",
              "      <td>28.880</td>\n",
              "      <td>0</td>\n",
              "      <td>0</td>\n",
              "      <td>1</td>\n",
              "      <td>1</td>\n",
              "      <td>0</td>\n",
              "      <td>0</td>\n",
              "      <td>1</td>\n",
              "      <td>0</td>\n",
              "      <td>0</td>\n",
              "    </tr>\n",
              "  </tbody>\n",
              "</table>\n",
              "</div>"
            ],
            "text/plain": [
              "   age     bmi  children  ...  region_northwest  region_southeast  region_southwest\n",
              "0   19  27.900         0  ...                 0                 0                 1\n",
              "1   18  33.770         1  ...                 0                 1                 0\n",
              "2   28  33.000         3  ...                 0                 1                 0\n",
              "3   33  22.705         0  ...                 1                 0                 0\n",
              "4   32  28.880         0  ...                 1                 0                 0\n",
              "\n",
              "[5 rows x 11 columns]"
            ]
          },
          "metadata": {
            "tags": []
          },
          "execution_count": 8
        }
      ]
    },
    {
      "cell_type": "code",
      "metadata": {
        "colab": {
          "base_uri": "https://localhost:8080/"
        },
        "id": "QIMCFfFHgUjQ",
        "outputId": "5b5541ee-9516-4615-d39f-aca13272cc22"
      },
      "source": [
        "# Viewing the y data\n",
        "y.head()"
      ],
      "execution_count": 9,
      "outputs": [
        {
          "output_type": "execute_result",
          "data": {
            "text/plain": [
              "0    16884.92400\n",
              "1     1725.55230\n",
              "2     4449.46200\n",
              "3    21984.47061\n",
              "4     3866.85520\n",
              "Name: charges, dtype: float64"
            ]
          },
          "metadata": {
            "tags": []
          },
          "execution_count": 9
        }
      ]
    },
    {
      "cell_type": "code",
      "metadata": {
        "colab": {
          "base_uri": "https://localhost:8080/"
        },
        "id": "wm8YtNsngkjJ",
        "outputId": "c83e1f45-7c22-4f8f-b7d2-4db2d66d0276"
      },
      "source": [
        "# Creating training and test dataset.\n",
        "from sklearn.model_selection import train_test_split\n",
        "\n",
        "X_train, X_test, y_train, y_test = train_test_split(X, y, test_size = 0.2, random_state = 42)\n",
        "len(X_train), len(X_test), len(y_train), len(y_test)"
      ],
      "execution_count": 10,
      "outputs": [
        {
          "output_type": "execute_result",
          "data": {
            "text/plain": [
              "(1070, 268, 1070, 268)"
            ]
          },
          "metadata": {
            "tags": []
          },
          "execution_count": 10
        }
      ]
    },
    {
      "cell_type": "markdown",
      "metadata": {
        "id": "doWd_fM4uSpV"
      },
      "source": [
        "# Try a Model"
      ]
    },
    {
      "cell_type": "code",
      "metadata": {
        "colab": {
          "base_uri": "https://localhost:8080/"
        },
        "id": "7Ei6O6uhipNn",
        "outputId": "74e42d22-4d87-476d-c1f4-4402a4ec13ac"
      },
      "source": [
        "# Manually build a network.\n",
        "#set random seed.\n",
        "tf.random.set_seed(42)\n",
        "\n",
        "# Create a model.\n",
        "insurance_model = tf.keras.Sequential([tf.keras.layers.Dense(10),tf.keras.layers.Dense(5),tf.keras.layers.Dense(3),tf.keras.layers.Dense(2),tf.keras.layers.Dense(1)])\n",
        "\n",
        "# Compile the model\n",
        "insurance_model.compile(loss = tf.keras.losses.mae,\n",
        "                        optimizer = tf.keras.optimizers.Adam(),\n",
        "                        metrics = [\"mae\"])\n",
        "\n",
        "# Fit the model\n",
        "insurance_model.fit(X_train, y_train, epochs = 100)"
      ],
      "execution_count": 11,
      "outputs": [
        {
          "output_type": "stream",
          "text": [
            "Epoch 1/100\n",
            "34/34 [==============================] - 1s 2ms/step - loss: 13322.5176 - mae: 13322.5176\n",
            "Epoch 2/100\n",
            "34/34 [==============================] - 0s 1ms/step - loss: 13300.2764 - mae: 13300.2764\n",
            "Epoch 3/100\n",
            "34/34 [==============================] - 0s 1ms/step - loss: 13257.6904 - mae: 13257.6904\n",
            "Epoch 4/100\n",
            "34/34 [==============================] - 0s 1ms/step - loss: 13169.6074 - mae: 13169.6074\n",
            "Epoch 5/100\n",
            "34/34 [==============================] - 0s 2ms/step - loss: 12984.1143 - mae: 12984.1143\n",
            "Epoch 6/100\n",
            "34/34 [==============================] - 0s 2ms/step - loss: 12608.4082 - mae: 12608.4082\n",
            "Epoch 7/100\n",
            "34/34 [==============================] - 0s 2ms/step - loss: 11903.2295 - mae: 11903.2295\n",
            "Epoch 8/100\n",
            "34/34 [==============================] - 0s 1ms/step - loss: 10732.0693 - mae: 10732.0693\n",
            "Epoch 9/100\n",
            "34/34 [==============================] - 0s 1ms/step - loss: 9226.0410 - mae: 9226.0410\n",
            "Epoch 10/100\n",
            "34/34 [==============================] - 0s 1ms/step - loss: 7918.7393 - mae: 7918.7393\n",
            "Epoch 11/100\n",
            "34/34 [==============================] - 0s 1ms/step - loss: 7516.1050 - mae: 7516.1050\n",
            "Epoch 12/100\n",
            "34/34 [==============================] - 0s 1ms/step - loss: 7479.1089 - mae: 7479.1089\n",
            "Epoch 13/100\n",
            "34/34 [==============================] - 0s 2ms/step - loss: 7465.2915 - mae: 7465.2915\n",
            "Epoch 14/100\n",
            "34/34 [==============================] - 0s 2ms/step - loss: 7449.8403 - mae: 7449.8403\n",
            "Epoch 15/100\n",
            "34/34 [==============================] - 0s 2ms/step - loss: 7438.4214 - mae: 7438.4214\n",
            "Epoch 16/100\n",
            "34/34 [==============================] - 0s 2ms/step - loss: 7423.7090 - mae: 7423.7090\n",
            "Epoch 17/100\n",
            "34/34 [==============================] - 0s 2ms/step - loss: 7411.3345 - mae: 7411.3345\n",
            "Epoch 18/100\n",
            "34/34 [==============================] - 0s 2ms/step - loss: 7396.1333 - mae: 7396.1333\n",
            "Epoch 19/100\n",
            "34/34 [==============================] - 0s 1ms/step - loss: 7382.3394 - mae: 7382.3394\n",
            "Epoch 20/100\n",
            "34/34 [==============================] - 0s 1ms/step - loss: 7368.3066 - mae: 7368.3066\n",
            "Epoch 21/100\n",
            "34/34 [==============================] - 0s 1ms/step - loss: 7357.3955 - mae: 7357.3955\n",
            "Epoch 22/100\n",
            "34/34 [==============================] - 0s 2ms/step - loss: 7341.7134 - mae: 7341.7134\n",
            "Epoch 23/100\n",
            "34/34 [==============================] - 0s 2ms/step - loss: 7327.9429 - mae: 7327.9429\n",
            "Epoch 24/100\n",
            "34/34 [==============================] - 0s 3ms/step - loss: 7313.6011 - mae: 7313.6011\n",
            "Epoch 25/100\n",
            "34/34 [==============================] - 0s 2ms/step - loss: 7314.8066 - mae: 7314.8066\n",
            "Epoch 26/100\n",
            "34/34 [==============================] - 0s 1ms/step - loss: 7288.0215 - mae: 7288.0215\n",
            "Epoch 27/100\n",
            "34/34 [==============================] - 0s 1ms/step - loss: 7272.7539 - mae: 7272.7539\n",
            "Epoch 28/100\n",
            "34/34 [==============================] - 0s 2ms/step - loss: 7259.1128 - mae: 7259.1128\n",
            "Epoch 29/100\n",
            "34/34 [==============================] - 0s 2ms/step - loss: 7246.4565 - mae: 7246.4565\n",
            "Epoch 30/100\n",
            "34/34 [==============================] - 0s 2ms/step - loss: 7232.1357 - mae: 7232.1357\n",
            "Epoch 31/100\n",
            "34/34 [==============================] - 0s 2ms/step - loss: 7217.8833 - mae: 7217.8833\n",
            "Epoch 32/100\n",
            "34/34 [==============================] - 0s 2ms/step - loss: 7207.5254 - mae: 7207.5254\n",
            "Epoch 33/100\n",
            "34/34 [==============================] - 0s 1ms/step - loss: 7190.5513 - mae: 7190.5513\n",
            "Epoch 34/100\n",
            "34/34 [==============================] - 0s 2ms/step - loss: 7175.6646 - mae: 7175.6646\n",
            "Epoch 35/100\n",
            "34/34 [==============================] - 0s 2ms/step - loss: 7160.4888 - mae: 7160.4888\n",
            "Epoch 36/100\n",
            "34/34 [==============================] - 0s 2ms/step - loss: 7144.9155 - mae: 7144.9155\n",
            "Epoch 37/100\n",
            "34/34 [==============================] - 0s 2ms/step - loss: 7127.8242 - mae: 7127.8242\n",
            "Epoch 38/100\n",
            "34/34 [==============================] - 0s 1ms/step - loss: 7114.5586 - mae: 7114.5586\n",
            "Epoch 39/100\n",
            "34/34 [==============================] - 0s 2ms/step - loss: 7095.5444 - mae: 7095.5444\n",
            "Epoch 40/100\n",
            "34/34 [==============================] - 0s 3ms/step - loss: 7079.9282 - mae: 7079.9282\n",
            "Epoch 41/100\n",
            "34/34 [==============================] - 0s 2ms/step - loss: 7063.2349 - mae: 7063.2349\n",
            "Epoch 42/100\n",
            "34/34 [==============================] - 0s 2ms/step - loss: 7052.4644 - mae: 7052.4644\n",
            "Epoch 43/100\n",
            "34/34 [==============================] - 0s 2ms/step - loss: 7032.1807 - mae: 7032.1807\n",
            "Epoch 44/100\n",
            "34/34 [==============================] - 0s 2ms/step - loss: 7011.9932 - mae: 7011.9932\n",
            "Epoch 45/100\n",
            "34/34 [==============================] - 0s 2ms/step - loss: 6996.8843 - mae: 6996.8843\n",
            "Epoch 46/100\n",
            "34/34 [==============================] - 0s 2ms/step - loss: 6978.0029 - mae: 6978.0029\n",
            "Epoch 47/100\n",
            "34/34 [==============================] - 0s 2ms/step - loss: 6963.0044 - mae: 6963.0044\n",
            "Epoch 48/100\n",
            "34/34 [==============================] - 0s 2ms/step - loss: 6938.7988 - mae: 6938.7988\n",
            "Epoch 49/100\n",
            "34/34 [==============================] - 0s 2ms/step - loss: 6922.6792 - mae: 6922.6792\n",
            "Epoch 50/100\n",
            "34/34 [==============================] - 0s 2ms/step - loss: 6901.1353 - mae: 6901.1353\n",
            "Epoch 51/100\n",
            "34/34 [==============================] - 0s 2ms/step - loss: 6884.2666 - mae: 6884.2666\n",
            "Epoch 52/100\n",
            "34/34 [==============================] - 0s 2ms/step - loss: 6865.3008 - mae: 6865.3008\n",
            "Epoch 53/100\n",
            "34/34 [==============================] - 0s 2ms/step - loss: 6841.2646 - mae: 6841.2646\n",
            "Epoch 54/100\n",
            "34/34 [==============================] - 0s 1ms/step - loss: 6818.7085 - mae: 6818.7085\n",
            "Epoch 55/100\n",
            "34/34 [==============================] - 0s 2ms/step - loss: 6798.2764 - mae: 6798.2764\n",
            "Epoch 56/100\n",
            "34/34 [==============================] - 0s 2ms/step - loss: 6774.3325 - mae: 6774.3325\n",
            "Epoch 57/100\n",
            "34/34 [==============================] - 0s 1ms/step - loss: 6751.8794 - mae: 6751.8794\n",
            "Epoch 58/100\n",
            "34/34 [==============================] - 0s 1ms/step - loss: 6727.4854 - mae: 6727.4854\n",
            "Epoch 59/100\n",
            "34/34 [==============================] - 0s 2ms/step - loss: 6703.4702 - mae: 6703.4702\n",
            "Epoch 60/100\n",
            "34/34 [==============================] - 0s 1ms/step - loss: 6680.2002 - mae: 6680.2002\n",
            "Epoch 61/100\n",
            "34/34 [==============================] - 0s 2ms/step - loss: 6657.0601 - mae: 6657.0601\n",
            "Epoch 62/100\n",
            "34/34 [==============================] - 0s 1ms/step - loss: 6630.1084 - mae: 6630.1084\n",
            "Epoch 63/100\n",
            "34/34 [==============================] - 0s 1ms/step - loss: 6606.7671 - mae: 6606.7671\n",
            "Epoch 64/100\n",
            "34/34 [==============================] - 0s 1ms/step - loss: 6584.1675 - mae: 6584.1675\n",
            "Epoch 65/100\n",
            "34/34 [==============================] - 0s 2ms/step - loss: 6562.6890 - mae: 6562.6890\n",
            "Epoch 66/100\n",
            "34/34 [==============================] - 0s 2ms/step - loss: 6542.2612 - mae: 6542.2612\n",
            "Epoch 67/100\n",
            "34/34 [==============================] - 0s 2ms/step - loss: 6522.7964 - mae: 6522.7964\n",
            "Epoch 68/100\n",
            "34/34 [==============================] - 0s 3ms/step - loss: 6506.1919 - mae: 6506.1919\n",
            "Epoch 69/100\n",
            "34/34 [==============================] - 0s 1ms/step - loss: 6493.8916 - mae: 6493.8916\n",
            "Epoch 70/100\n",
            "34/34 [==============================] - 0s 2ms/step - loss: 6479.0962 - mae: 6479.0962\n",
            "Epoch 71/100\n",
            "34/34 [==============================] - 0s 2ms/step - loss: 6468.7212 - mae: 6468.7212\n",
            "Epoch 72/100\n",
            "34/34 [==============================] - 0s 2ms/step - loss: 6459.6250 - mae: 6459.6250\n",
            "Epoch 73/100\n",
            "34/34 [==============================] - 0s 1ms/step - loss: 6453.4121 - mae: 6453.4121\n",
            "Epoch 74/100\n",
            "34/34 [==============================] - 0s 2ms/step - loss: 6438.7305 - mae: 6438.7305\n",
            "Epoch 75/100\n",
            "34/34 [==============================] - 0s 2ms/step - loss: 6433.2793 - mae: 6433.2793\n",
            "Epoch 76/100\n",
            "34/34 [==============================] - 0s 2ms/step - loss: 6430.0059 - mae: 6430.0059\n",
            "Epoch 77/100\n",
            "34/34 [==============================] - 0s 2ms/step - loss: 6409.5068 - mae: 6409.5068\n",
            "Epoch 78/100\n",
            "34/34 [==============================] - 0s 2ms/step - loss: 6402.2900 - mae: 6402.2900\n",
            "Epoch 79/100\n",
            "34/34 [==============================] - 0s 1ms/step - loss: 6391.6885 - mae: 6391.6885\n",
            "Epoch 80/100\n",
            "34/34 [==============================] - 0s 1ms/step - loss: 6384.0186 - mae: 6384.0186\n",
            "Epoch 81/100\n",
            "34/34 [==============================] - 0s 2ms/step - loss: 6374.3354 - mae: 6374.3354\n",
            "Epoch 82/100\n",
            "34/34 [==============================] - 0s 2ms/step - loss: 6366.8423 - mae: 6366.8423\n",
            "Epoch 83/100\n",
            "34/34 [==============================] - 0s 2ms/step - loss: 6356.5869 - mae: 6356.5869\n",
            "Epoch 84/100\n",
            "34/34 [==============================] - 0s 2ms/step - loss: 6343.1416 - mae: 6343.1416\n",
            "Epoch 85/100\n",
            "34/34 [==============================] - 0s 1ms/step - loss: 6336.5200 - mae: 6336.5200\n",
            "Epoch 86/100\n",
            "34/34 [==============================] - 0s 1ms/step - loss: 6324.5649 - mae: 6324.5649\n",
            "Epoch 87/100\n",
            "34/34 [==============================] - 0s 2ms/step - loss: 6316.1196 - mae: 6316.1196\n",
            "Epoch 88/100\n",
            "34/34 [==============================] - 0s 2ms/step - loss: 6305.2222 - mae: 6305.2222\n",
            "Epoch 89/100\n",
            "34/34 [==============================] - 0s 2ms/step - loss: 6297.4878 - mae: 6297.4878\n",
            "Epoch 90/100\n",
            "34/34 [==============================] - 0s 2ms/step - loss: 6284.2920 - mae: 6284.2920\n",
            "Epoch 91/100\n",
            "34/34 [==============================] - 0s 1ms/step - loss: 6274.1924 - mae: 6274.1924\n",
            "Epoch 92/100\n",
            "34/34 [==============================] - 0s 1ms/step - loss: 6265.8564 - mae: 6265.8564\n",
            "Epoch 93/100\n",
            "34/34 [==============================] - 0s 1ms/step - loss: 6251.0991 - mae: 6251.0991\n",
            "Epoch 94/100\n",
            "34/34 [==============================] - 0s 2ms/step - loss: 6242.0869 - mae: 6242.0869\n",
            "Epoch 95/100\n",
            "34/34 [==============================] - 0s 2ms/step - loss: 6229.3433 - mae: 6229.3433\n",
            "Epoch 96/100\n",
            "34/34 [==============================] - 0s 1ms/step - loss: 6216.8467 - mae: 6216.8467\n",
            "Epoch 97/100\n",
            "34/34 [==============================] - 0s 1ms/step - loss: 6205.0386 - mae: 6205.0386\n",
            "Epoch 98/100\n",
            "34/34 [==============================] - 0s 1ms/step - loss: 6191.7046 - mae: 6191.7046\n",
            "Epoch 99/100\n",
            "34/34 [==============================] - 0s 1ms/step - loss: 6178.3945 - mae: 6178.3945\n",
            "Epoch 100/100\n",
            "34/34 [==============================] - 0s 1ms/step - loss: 6165.5264 - mae: 6165.5264\n"
          ],
          "name": "stdout"
        },
        {
          "output_type": "execute_result",
          "data": {
            "text/plain": [
              "<tensorflow.python.keras.callbacks.History at 0x7f44e12a3990>"
            ]
          },
          "metadata": {
            "tags": []
          },
          "execution_count": 11
        }
      ]
    },
    {
      "cell_type": "code",
      "metadata": {
        "colab": {
          "base_uri": "https://localhost:8080/"
        },
        "id": "_fS7d6pxKQd-",
        "outputId": "e7c4fe64-abe6-4e88-cc55-d93e63f6bd1e"
      },
      "source": [
        "# Check the model summary\n",
        "insurance_model.summary()"
      ],
      "execution_count": 12,
      "outputs": [
        {
          "output_type": "stream",
          "text": [
            "Model: \"sequential\"\n",
            "_________________________________________________________________\n",
            "Layer (type)                 Output Shape              Param #   \n",
            "=================================================================\n",
            "dense (Dense)                (None, 10)                120       \n",
            "_________________________________________________________________\n",
            "dense_1 (Dense)              (None, 5)                 55        \n",
            "_________________________________________________________________\n",
            "dense_2 (Dense)              (None, 3)                 18        \n",
            "_________________________________________________________________\n",
            "dense_3 (Dense)              (None, 2)                 8         \n",
            "_________________________________________________________________\n",
            "dense_4 (Dense)              (None, 1)                 3         \n",
            "=================================================================\n",
            "Total params: 204\n",
            "Trainable params: 204\n",
            "Non-trainable params: 0\n",
            "_________________________________________________________________\n"
          ],
          "name": "stdout"
        }
      ]
    },
    {
      "cell_type": "code",
      "metadata": {
        "colab": {
          "base_uri": "https://localhost:8080/"
        },
        "id": "zw4Zt1W_iwtw",
        "outputId": "535b16fd-3dba-46af-d57e-9604aa2489fc"
      },
      "source": [
        "insurance_model.evaluate(X_test, y_test)"
      ],
      "execution_count": 13,
      "outputs": [
        {
          "output_type": "stream",
          "text": [
            "9/9 [==============================] - 0s 2ms/step - loss: 6009.1719 - mae: 6009.1719\n"
          ],
          "name": "stdout"
        },
        {
          "output_type": "execute_result",
          "data": {
            "text/plain": [
              "[6009.171875, 6009.171875]"
            ]
          },
          "metadata": {
            "tags": []
          },
          "execution_count": 13
        }
      ]
    },
    {
      "cell_type": "code",
      "metadata": {
        "colab": {
          "base_uri": "https://localhost:8080/"
        },
        "id": "hRriftfGl01M",
        "outputId": "e352e67b-a248-4b7b-d011-a8958b9788f6"
      },
      "source": [
        "y_train.median(), y_train.mean()"
      ],
      "execution_count": 14,
      "outputs": [
        {
          "output_type": "execute_result",
          "data": {
            "text/plain": [
              "(9575.4421, 13346.089736364489)"
            ]
          },
          "metadata": {
            "tags": []
          },
          "execution_count": 14
        }
      ]
    },
    {
      "cell_type": "markdown",
      "metadata": {
        "id": "2nWhtVf2mLXg"
      },
      "source": [
        "# Now, let's try to improve our model.\n",
        "\n",
        "\n",
        "1.   Try to add extra nodes.\n",
        "2.   Try to add extra layer.\n",
        "3.   Train for longer.\n",
        "\n"
      ]
    },
    {
      "cell_type": "code",
      "metadata": {
        "colab": {
          "base_uri": "https://localhost:8080/"
        },
        "id": "Ck0gnWz4mKUa",
        "outputId": "a4b6a0a7-a37b-46c3-d4db-d9305983f223"
      },
      "source": [
        "# set random seed.\n",
        "tf.random.set_seed(42)\n",
        "\n",
        "# Create the model.\n",
        "insurance_model_2 = tf.keras.Sequential([\n",
        "  tf.keras.layers.Dense(100),\n",
        "  tf.keras.layers.Dense(50),\n",
        "  tf.keras.layers.Dense(25),\n",
        "  tf.keras.layers.Dense(12),\n",
        "  tf.keras.layers.Dense(6),\n",
        "  tf.keras.layers.Dense(3),\n",
        "  tf.keras.layers.Dense(2),\n",
        "  tf.keras.layers.Dense(1)\n",
        "])\n",
        "\n",
        "# Compile the model.\n",
        "insurance_model_2.compile(loss = tf.keras.losses.mae,\n",
        "                          optimizer = tf.keras.optimizers.Adam(learning_rate= 0.001),\n",
        "                          metrics = [\"mae\"])\n",
        "\n",
        "# Fit the model.\n",
        "history = insurance_model_2.fit(X_train, y_train, epochs = 200, verbose = 1)"
      ],
      "execution_count": 15,
      "outputs": [
        {
          "output_type": "stream",
          "text": [
            "Epoch 1/200\n",
            "34/34 [==============================] - 1s 2ms/step - loss: 13284.2939 - mae: 13284.2939\n",
            "Epoch 2/200\n",
            "34/34 [==============================] - 0s 2ms/step - loss: 11509.9854 - mae: 11509.9854\n",
            "Epoch 3/200\n",
            "34/34 [==============================] - 0s 2ms/step - loss: 7490.5112 - mae: 7490.5112\n",
            "Epoch 4/200\n",
            "34/34 [==============================] - 0s 2ms/step - loss: 7314.7617 - mae: 7314.7617\n",
            "Epoch 5/200\n",
            "34/34 [==============================] - 0s 2ms/step - loss: 7232.9727 - mae: 7232.9727\n",
            "Epoch 6/200\n",
            "34/34 [==============================] - 0s 2ms/step - loss: 7124.5864 - mae: 7124.5864\n",
            "Epoch 7/200\n",
            "34/34 [==============================] - 0s 2ms/step - loss: 7003.8276 - mae: 7003.8276\n",
            "Epoch 8/200\n",
            "34/34 [==============================] - 0s 2ms/step - loss: 6861.8672 - mae: 6861.8672\n",
            "Epoch 9/200\n",
            "34/34 [==============================] - 0s 2ms/step - loss: 6720.6060 - mae: 6720.6060\n",
            "Epoch 10/200\n",
            "34/34 [==============================] - 0s 3ms/step - loss: 6624.3857 - mae: 6624.3857\n",
            "Epoch 11/200\n",
            "34/34 [==============================] - 0s 3ms/step - loss: 6626.6274 - mae: 6626.6274\n",
            "Epoch 12/200\n",
            "34/34 [==============================] - 0s 2ms/step - loss: 6565.5352 - mae: 6565.5352\n",
            "Epoch 13/200\n",
            "34/34 [==============================] - 0s 2ms/step - loss: 6502.3965 - mae: 6502.3965\n",
            "Epoch 14/200\n",
            "34/34 [==============================] - 0s 2ms/step - loss: 6475.6523 - mae: 6475.6523\n",
            "Epoch 15/200\n",
            "34/34 [==============================] - 0s 2ms/step - loss: 6451.0591 - mae: 6451.0591\n",
            "Epoch 16/200\n",
            "34/34 [==============================] - 0s 2ms/step - loss: 6381.7617 - mae: 6381.7622\n",
            "Epoch 17/200\n",
            "34/34 [==============================] - 0s 2ms/step - loss: 6336.1353 - mae: 6336.1353\n",
            "Epoch 18/200\n",
            "34/34 [==============================] - 0s 2ms/step - loss: 6277.9346 - mae: 6277.9346\n",
            "Epoch 19/200\n",
            "34/34 [==============================] - 0s 2ms/step - loss: 6222.6401 - mae: 6222.6401\n",
            "Epoch 20/200\n",
            "34/34 [==============================] - 0s 2ms/step - loss: 6152.0000 - mae: 6152.0000\n",
            "Epoch 21/200\n",
            "34/34 [==============================] - 0s 2ms/step - loss: 6052.0259 - mae: 6052.0259\n",
            "Epoch 22/200\n",
            "34/34 [==============================] - 0s 2ms/step - loss: 5946.9375 - mae: 5946.9375\n",
            "Epoch 23/200\n",
            "34/34 [==============================] - 0s 3ms/step - loss: 5835.0249 - mae: 5835.0249\n",
            "Epoch 24/200\n",
            "34/34 [==============================] - 0s 2ms/step - loss: 5640.8188 - mae: 5640.8188\n",
            "Epoch 25/200\n",
            "34/34 [==============================] - 0s 2ms/step - loss: 5307.0898 - mae: 5307.0898\n",
            "Epoch 26/200\n",
            "34/34 [==============================] - 0s 2ms/step - loss: 4764.0103 - mae: 4764.0103\n",
            "Epoch 27/200\n",
            "34/34 [==============================] - 0s 2ms/step - loss: 4082.6855 - mae: 4082.6855\n",
            "Epoch 28/200\n",
            "34/34 [==============================] - 0s 3ms/step - loss: 3924.6780 - mae: 3924.6780\n",
            "Epoch 29/200\n",
            "34/34 [==============================] - 0s 2ms/step - loss: 3901.9963 - mae: 3901.9963\n",
            "Epoch 30/200\n",
            "34/34 [==============================] - 0s 2ms/step - loss: 3872.3010 - mae: 3872.3010\n",
            "Epoch 31/200\n",
            "34/34 [==============================] - 0s 2ms/step - loss: 3840.6401 - mae: 3840.6401\n",
            "Epoch 32/200\n",
            "34/34 [==============================] - 0s 2ms/step - loss: 3801.3279 - mae: 3801.3279\n",
            "Epoch 33/200\n",
            "34/34 [==============================] - 0s 3ms/step - loss: 3855.0693 - mae: 3855.0693\n",
            "Epoch 34/200\n",
            "34/34 [==============================] - 0s 3ms/step - loss: 3976.0239 - mae: 3976.0239\n",
            "Epoch 35/200\n",
            "34/34 [==============================] - 0s 3ms/step - loss: 3777.3154 - mae: 3777.3154\n",
            "Epoch 36/200\n",
            "34/34 [==============================] - 0s 2ms/step - loss: 3773.2163 - mae: 3773.2163\n",
            "Epoch 37/200\n",
            "34/34 [==============================] - 0s 2ms/step - loss: 3761.6711 - mae: 3761.6711\n",
            "Epoch 38/200\n",
            "34/34 [==============================] - 0s 3ms/step - loss: 3748.2800 - mae: 3748.2800\n",
            "Epoch 39/200\n",
            "34/34 [==============================] - 0s 3ms/step - loss: 3780.5750 - mae: 3780.5750\n",
            "Epoch 40/200\n",
            "34/34 [==============================] - 0s 2ms/step - loss: 3755.9651 - mae: 3755.9651\n",
            "Epoch 41/200\n",
            "34/34 [==============================] - 0s 2ms/step - loss: 3863.4741 - mae: 3863.4741\n",
            "Epoch 42/200\n",
            "34/34 [==============================] - 0s 3ms/step - loss: 3839.5256 - mae: 3839.5256\n",
            "Epoch 43/200\n",
            "34/34 [==============================] - 0s 2ms/step - loss: 3750.5896 - mae: 3750.5896\n",
            "Epoch 44/200\n",
            "34/34 [==============================] - 0s 2ms/step - loss: 3773.1274 - mae: 3773.1274\n",
            "Epoch 45/200\n",
            "34/34 [==============================] - 0s 2ms/step - loss: 3732.1770 - mae: 3732.1770\n",
            "Epoch 46/200\n",
            "34/34 [==============================] - 0s 2ms/step - loss: 3706.2422 - mae: 3706.2422\n",
            "Epoch 47/200\n",
            "34/34 [==============================] - 0s 2ms/step - loss: 3755.7646 - mae: 3755.7646\n",
            "Epoch 48/200\n",
            "34/34 [==============================] - 0s 2ms/step - loss: 3705.6709 - mae: 3705.6709\n",
            "Epoch 49/200\n",
            "34/34 [==============================] - 0s 2ms/step - loss: 3686.4683 - mae: 3686.4683\n",
            "Epoch 50/200\n",
            "34/34 [==============================] - 0s 2ms/step - loss: 3675.4077 - mae: 3675.4077\n",
            "Epoch 51/200\n",
            "34/34 [==============================] - 0s 3ms/step - loss: 3662.1575 - mae: 3662.1575\n",
            "Epoch 52/200\n",
            "34/34 [==============================] - 0s 3ms/step - loss: 3633.2012 - mae: 3633.2012\n",
            "Epoch 53/200\n",
            "34/34 [==============================] - 0s 2ms/step - loss: 3641.1953 - mae: 3641.1953\n",
            "Epoch 54/200\n",
            "34/34 [==============================] - 0s 2ms/step - loss: 3696.9524 - mae: 3696.9524\n",
            "Epoch 55/200\n",
            "34/34 [==============================] - 0s 2ms/step - loss: 3724.4873 - mae: 3724.4873\n",
            "Epoch 56/200\n",
            "34/34 [==============================] - 0s 2ms/step - loss: 3594.7598 - mae: 3594.7598\n",
            "Epoch 57/200\n",
            "34/34 [==============================] - 0s 2ms/step - loss: 3603.1274 - mae: 3603.1274\n",
            "Epoch 58/200\n",
            "34/34 [==============================] - 0s 2ms/step - loss: 3639.9226 - mae: 3639.9226\n",
            "Epoch 59/200\n",
            "34/34 [==============================] - 0s 2ms/step - loss: 3583.1758 - mae: 3583.1758\n",
            "Epoch 60/200\n",
            "34/34 [==============================] - 0s 2ms/step - loss: 3598.1919 - mae: 3598.1919\n",
            "Epoch 61/200\n",
            "34/34 [==============================] - 0s 3ms/step - loss: 3584.7288 - mae: 3584.7288\n",
            "Epoch 62/200\n",
            "34/34 [==============================] - 0s 2ms/step - loss: 3618.6436 - mae: 3618.6436\n",
            "Epoch 63/200\n",
            "34/34 [==============================] - 0s 2ms/step - loss: 3602.4116 - mae: 3602.4116\n",
            "Epoch 64/200\n",
            "34/34 [==============================] - 0s 2ms/step - loss: 3551.1621 - mae: 3551.1621\n",
            "Epoch 65/200\n",
            "34/34 [==============================] - 0s 3ms/step - loss: 3615.0500 - mae: 3615.0500\n",
            "Epoch 66/200\n",
            "34/34 [==============================] - 0s 3ms/step - loss: 3589.2993 - mae: 3589.2993\n",
            "Epoch 67/200\n",
            "34/34 [==============================] - 0s 2ms/step - loss: 3521.2073 - mae: 3521.2073\n",
            "Epoch 68/200\n",
            "34/34 [==============================] - 0s 2ms/step - loss: 3548.7966 - mae: 3548.7966\n",
            "Epoch 69/200\n",
            "34/34 [==============================] - 0s 2ms/step - loss: 3526.5234 - mae: 3526.5234\n",
            "Epoch 70/200\n",
            "34/34 [==============================] - 0s 2ms/step - loss: 3553.1167 - mae: 3553.1167\n",
            "Epoch 71/200\n",
            "34/34 [==============================] - 0s 2ms/step - loss: 3511.3206 - mae: 3511.3206\n",
            "Epoch 72/200\n",
            "34/34 [==============================] - 0s 2ms/step - loss: 3546.6956 - mae: 3546.6956\n",
            "Epoch 73/200\n",
            "34/34 [==============================] - 0s 2ms/step - loss: 3524.6836 - mae: 3524.6836\n",
            "Epoch 74/200\n",
            "34/34 [==============================] - 0s 3ms/step - loss: 3519.3682 - mae: 3519.3682\n",
            "Epoch 75/200\n",
            "34/34 [==============================] - 0s 2ms/step - loss: 3531.2000 - mae: 3531.2000\n",
            "Epoch 76/200\n",
            "34/34 [==============================] - 0s 2ms/step - loss: 3554.2161 - mae: 3554.2161\n",
            "Epoch 77/200\n",
            "34/34 [==============================] - 0s 2ms/step - loss: 3547.2874 - mae: 3547.2874\n",
            "Epoch 78/200\n",
            "34/34 [==============================] - 0s 2ms/step - loss: 3573.3850 - mae: 3573.3850\n",
            "Epoch 79/200\n",
            "34/34 [==============================] - 0s 2ms/step - loss: 3561.6147 - mae: 3561.6147\n",
            "Epoch 80/200\n",
            "34/34 [==============================] - 0s 2ms/step - loss: 3515.1833 - mae: 3515.1833\n",
            "Epoch 81/200\n",
            "34/34 [==============================] - 0s 3ms/step - loss: 3537.6528 - mae: 3537.6528\n",
            "Epoch 82/200\n",
            "34/34 [==============================] - 0s 2ms/step - loss: 3527.6504 - mae: 3527.6504\n",
            "Epoch 83/200\n",
            "34/34 [==============================] - 0s 2ms/step - loss: 3527.6760 - mae: 3527.6760\n",
            "Epoch 84/200\n",
            "34/34 [==============================] - 0s 2ms/step - loss: 3498.1636 - mae: 3498.1636\n",
            "Epoch 85/200\n",
            "34/34 [==============================] - 0s 2ms/step - loss: 3494.5916 - mae: 3494.5916\n",
            "Epoch 86/200\n",
            "34/34 [==============================] - 0s 2ms/step - loss: 3514.4578 - mae: 3514.4578\n",
            "Epoch 87/200\n",
            "34/34 [==============================] - 0s 2ms/step - loss: 3538.3635 - mae: 3538.3635\n",
            "Epoch 88/200\n",
            "34/34 [==============================] - 0s 2ms/step - loss: 3509.9309 - mae: 3509.9309\n",
            "Epoch 89/200\n",
            "34/34 [==============================] - 0s 2ms/step - loss: 3544.3093 - mae: 3544.3093\n",
            "Epoch 90/200\n",
            "34/34 [==============================] - 0s 2ms/step - loss: 3533.1064 - mae: 3533.1064\n",
            "Epoch 91/200\n",
            "34/34 [==============================] - 0s 2ms/step - loss: 3551.2119 - mae: 3551.2119\n",
            "Epoch 92/200\n",
            "34/34 [==============================] - 0s 2ms/step - loss: 3569.7019 - mae: 3569.7019\n",
            "Epoch 93/200\n",
            "34/34 [==============================] - 0s 2ms/step - loss: 3546.8127 - mae: 3546.8127\n",
            "Epoch 94/200\n",
            "34/34 [==============================] - 0s 2ms/step - loss: 3550.9526 - mae: 3550.9526\n",
            "Epoch 95/200\n",
            "34/34 [==============================] - 0s 2ms/step - loss: 3595.6387 - mae: 3595.6387\n",
            "Epoch 96/200\n",
            "34/34 [==============================] - 0s 2ms/step - loss: 3523.5388 - mae: 3523.5388\n",
            "Epoch 97/200\n",
            "34/34 [==============================] - 0s 2ms/step - loss: 3546.1711 - mae: 3546.1711\n",
            "Epoch 98/200\n",
            "34/34 [==============================] - 0s 3ms/step - loss: 3521.9294 - mae: 3521.9294\n",
            "Epoch 99/200\n",
            "34/34 [==============================] - 0s 3ms/step - loss: 3511.2769 - mae: 3511.2769\n",
            "Epoch 100/200\n",
            "34/34 [==============================] - 0s 2ms/step - loss: 3507.8923 - mae: 3507.8923\n",
            "Epoch 101/200\n",
            "34/34 [==============================] - 0s 2ms/step - loss: 3490.5518 - mae: 3490.5518\n",
            "Epoch 102/200\n",
            "34/34 [==============================] - 0s 2ms/step - loss: 3518.6609 - mae: 3518.6609\n",
            "Epoch 103/200\n",
            "34/34 [==============================] - 0s 2ms/step - loss: 3520.0225 - mae: 3520.0225\n",
            "Epoch 104/200\n",
            "34/34 [==============================] - 0s 2ms/step - loss: 3501.4390 - mae: 3501.4390\n",
            "Epoch 105/200\n",
            "34/34 [==============================] - 0s 2ms/step - loss: 3543.0293 - mae: 3543.0293\n",
            "Epoch 106/200\n",
            "34/34 [==============================] - 0s 2ms/step - loss: 3526.8301 - mae: 3526.8301\n",
            "Epoch 107/200\n",
            "34/34 [==============================] - 0s 3ms/step - loss: 3540.2292 - mae: 3540.2292\n",
            "Epoch 108/200\n",
            "34/34 [==============================] - 0s 2ms/step - loss: 3512.8879 - mae: 3512.8879\n",
            "Epoch 109/200\n",
            "34/34 [==============================] - 0s 3ms/step - loss: 3616.5002 - mae: 3616.5002\n",
            "Epoch 110/200\n",
            "34/34 [==============================] - 0s 2ms/step - loss: 3513.4070 - mae: 3513.4070\n",
            "Epoch 111/200\n",
            "34/34 [==============================] - 0s 2ms/step - loss: 3520.6636 - mae: 3520.6636\n",
            "Epoch 112/200\n",
            "34/34 [==============================] - 0s 3ms/step - loss: 3509.8320 - mae: 3509.8320\n",
            "Epoch 113/200\n",
            "34/34 [==============================] - 0s 2ms/step - loss: 3560.8955 - mae: 3560.8955\n",
            "Epoch 114/200\n",
            "34/34 [==============================] - 0s 2ms/step - loss: 3553.4678 - mae: 3553.4678\n",
            "Epoch 115/200\n",
            "34/34 [==============================] - 0s 3ms/step - loss: 3570.8779 - mae: 3570.8779\n",
            "Epoch 116/200\n",
            "34/34 [==============================] - 0s 2ms/step - loss: 3513.3867 - mae: 3513.3867\n",
            "Epoch 117/200\n",
            "34/34 [==============================] - 0s 2ms/step - loss: 3507.6003 - mae: 3507.6003\n",
            "Epoch 118/200\n",
            "34/34 [==============================] - 0s 2ms/step - loss: 3532.7761 - mae: 3532.7761\n",
            "Epoch 119/200\n",
            "34/34 [==============================] - 0s 2ms/step - loss: 3531.5281 - mae: 3531.5281\n",
            "Epoch 120/200\n",
            "34/34 [==============================] - 0s 2ms/step - loss: 3494.9480 - mae: 3494.9480\n",
            "Epoch 121/200\n",
            "34/34 [==============================] - 0s 2ms/step - loss: 3494.0217 - mae: 3494.0217\n",
            "Epoch 122/200\n",
            "34/34 [==============================] - 0s 2ms/step - loss: 3507.0977 - mae: 3507.0977\n",
            "Epoch 123/200\n",
            "34/34 [==============================] - 0s 2ms/step - loss: 3509.4290 - mae: 3509.4290\n",
            "Epoch 124/200\n",
            "34/34 [==============================] - 0s 2ms/step - loss: 3516.3596 - mae: 3516.3596\n",
            "Epoch 125/200\n",
            "34/34 [==============================] - 0s 2ms/step - loss: 3544.3958 - mae: 3544.3958\n",
            "Epoch 126/200\n",
            "34/34 [==============================] - 0s 2ms/step - loss: 3523.3174 - mae: 3523.3174\n",
            "Epoch 127/200\n",
            "34/34 [==============================] - 0s 2ms/step - loss: 3565.8616 - mae: 3565.8616\n",
            "Epoch 128/200\n",
            "34/34 [==============================] - 0s 2ms/step - loss: 3637.7800 - mae: 3637.7800\n",
            "Epoch 129/200\n",
            "34/34 [==============================] - 0s 2ms/step - loss: 3526.1497 - mae: 3526.1497\n",
            "Epoch 130/200\n",
            "34/34 [==============================] - 0s 2ms/step - loss: 3616.5317 - mae: 3616.5317\n",
            "Epoch 131/200\n",
            "34/34 [==============================] - 0s 3ms/step - loss: 3538.9431 - mae: 3538.9431\n",
            "Epoch 132/200\n",
            "34/34 [==============================] - 0s 2ms/step - loss: 3512.2842 - mae: 3512.2842\n",
            "Epoch 133/200\n",
            "34/34 [==============================] - 0s 2ms/step - loss: 3509.2615 - mae: 3509.2615\n",
            "Epoch 134/200\n",
            "34/34 [==============================] - 0s 2ms/step - loss: 3535.0312 - mae: 3535.0312\n",
            "Epoch 135/200\n",
            "34/34 [==============================] - 0s 2ms/step - loss: 3540.8076 - mae: 3540.8076\n",
            "Epoch 136/200\n",
            "34/34 [==============================] - 0s 2ms/step - loss: 3499.1223 - mae: 3499.1223\n",
            "Epoch 137/200\n",
            "34/34 [==============================] - 0s 2ms/step - loss: 3521.7131 - mae: 3521.7131\n",
            "Epoch 138/200\n",
            "34/34 [==============================] - 0s 2ms/step - loss: 3518.1497 - mae: 3518.1497\n",
            "Epoch 139/200\n",
            "34/34 [==============================] - 0s 3ms/step - loss: 3531.5818 - mae: 3531.5818\n",
            "Epoch 140/200\n",
            "34/34 [==============================] - 0s 2ms/step - loss: 3525.2776 - mae: 3525.2776\n",
            "Epoch 141/200\n",
            "34/34 [==============================] - 0s 2ms/step - loss: 3544.6978 - mae: 3544.6978\n",
            "Epoch 142/200\n",
            "34/34 [==============================] - 0s 3ms/step - loss: 3502.7014 - mae: 3502.7014\n",
            "Epoch 143/200\n",
            "34/34 [==============================] - 0s 2ms/step - loss: 3498.1272 - mae: 3498.1272\n",
            "Epoch 144/200\n",
            "34/34 [==============================] - 0s 3ms/step - loss: 3508.8145 - mae: 3508.8145\n",
            "Epoch 145/200\n",
            "34/34 [==============================] - 0s 2ms/step - loss: 3533.7981 - mae: 3533.7981\n",
            "Epoch 146/200\n",
            "34/34 [==============================] - 0s 2ms/step - loss: 3530.3318 - mae: 3530.3318\n",
            "Epoch 147/200\n",
            "34/34 [==============================] - 0s 2ms/step - loss: 3549.9060 - mae: 3549.9060\n",
            "Epoch 148/200\n",
            "34/34 [==============================] - 0s 2ms/step - loss: 3526.5813 - mae: 3526.5813\n",
            "Epoch 149/200\n",
            "34/34 [==============================] - 0s 3ms/step - loss: 3518.9358 - mae: 3518.9358\n",
            "Epoch 150/200\n",
            "34/34 [==============================] - 0s 2ms/step - loss: 3503.4236 - mae: 3503.4236\n",
            "Epoch 151/200\n",
            "34/34 [==============================] - 0s 2ms/step - loss: 3497.7681 - mae: 3497.7681\n",
            "Epoch 152/200\n",
            "34/34 [==============================] - 0s 2ms/step - loss: 3542.7542 - mae: 3542.7542\n",
            "Epoch 153/200\n",
            "34/34 [==============================] - 0s 3ms/step - loss: 3550.7288 - mae: 3550.7288\n",
            "Epoch 154/200\n",
            "34/34 [==============================] - 0s 3ms/step - loss: 3540.5562 - mae: 3540.5562\n",
            "Epoch 155/200\n",
            "34/34 [==============================] - 0s 3ms/step - loss: 3512.9282 - mae: 3512.9282\n",
            "Epoch 156/200\n",
            "34/34 [==============================] - 0s 3ms/step - loss: 3505.8125 - mae: 3505.8125\n",
            "Epoch 157/200\n",
            "34/34 [==============================] - 0s 3ms/step - loss: 3550.9324 - mae: 3550.9324\n",
            "Epoch 158/200\n",
            "34/34 [==============================] - 0s 3ms/step - loss: 3526.5808 - mae: 3526.5808\n",
            "Epoch 159/200\n",
            "34/34 [==============================] - 0s 3ms/step - loss: 3503.2898 - mae: 3503.2898\n",
            "Epoch 160/200\n",
            "34/34 [==============================] - 0s 3ms/step - loss: 3594.8613 - mae: 3594.8613\n",
            "Epoch 161/200\n",
            "34/34 [==============================] - 0s 3ms/step - loss: 3552.7400 - mae: 3552.7400\n",
            "Epoch 162/200\n",
            "34/34 [==============================] - 0s 3ms/step - loss: 3493.2666 - mae: 3493.2666\n",
            "Epoch 163/200\n",
            "34/34 [==============================] - 0s 2ms/step - loss: 3520.3035 - mae: 3520.3035\n",
            "Epoch 164/200\n",
            "34/34 [==============================] - 0s 3ms/step - loss: 3527.0366 - mae: 3527.0366\n",
            "Epoch 165/200\n",
            "34/34 [==============================] - 0s 2ms/step - loss: 3627.5430 - mae: 3627.5430\n",
            "Epoch 166/200\n",
            "34/34 [==============================] - 0s 3ms/step - loss: 3503.4089 - mae: 3503.4089\n",
            "Epoch 167/200\n",
            "34/34 [==============================] - 0s 3ms/step - loss: 3550.1609 - mae: 3550.1609\n",
            "Epoch 168/200\n",
            "34/34 [==============================] - 0s 3ms/step - loss: 3523.1921 - mae: 3523.1921\n",
            "Epoch 169/200\n",
            "34/34 [==============================] - 0s 2ms/step - loss: 3500.2305 - mae: 3500.2305\n",
            "Epoch 170/200\n",
            "34/34 [==============================] - 0s 3ms/step - loss: 3534.5254 - mae: 3534.5254\n",
            "Epoch 171/200\n",
            "34/34 [==============================] - 0s 2ms/step - loss: 3547.9185 - mae: 3547.9185\n",
            "Epoch 172/200\n",
            "34/34 [==============================] - 0s 2ms/step - loss: 3526.1885 - mae: 3526.1885\n",
            "Epoch 173/200\n",
            "34/34 [==============================] - 0s 3ms/step - loss: 3507.5007 - mae: 3507.5007\n",
            "Epoch 174/200\n",
            "34/34 [==============================] - 0s 3ms/step - loss: 3514.2451 - mae: 3514.2451\n",
            "Epoch 175/200\n",
            "34/34 [==============================] - 0s 3ms/step - loss: 3513.2981 - mae: 3513.2981\n",
            "Epoch 176/200\n",
            "34/34 [==============================] - 0s 2ms/step - loss: 3497.3977 - mae: 3497.3977\n",
            "Epoch 177/200\n",
            "34/34 [==============================] - 0s 3ms/step - loss: 3514.2085 - mae: 3514.2085\n",
            "Epoch 178/200\n",
            "34/34 [==============================] - 0s 2ms/step - loss: 3550.0601 - mae: 3550.0601\n",
            "Epoch 179/200\n",
            "34/34 [==============================] - 0s 2ms/step - loss: 3563.1060 - mae: 3563.1060\n",
            "Epoch 180/200\n",
            "34/34 [==============================] - 0s 2ms/step - loss: 3516.6885 - mae: 3516.6885\n",
            "Epoch 181/200\n",
            "34/34 [==============================] - 0s 2ms/step - loss: 3519.9929 - mae: 3519.9929\n",
            "Epoch 182/200\n",
            "34/34 [==============================] - 0s 2ms/step - loss: 3509.2097 - mae: 3509.2097\n",
            "Epoch 183/200\n",
            "34/34 [==============================] - 0s 2ms/step - loss: 3528.4048 - mae: 3528.4048\n",
            "Epoch 184/200\n",
            "34/34 [==============================] - 0s 2ms/step - loss: 3652.6104 - mae: 3652.6104\n",
            "Epoch 185/200\n",
            "34/34 [==============================] - 0s 2ms/step - loss: 3560.2510 - mae: 3560.2510\n",
            "Epoch 186/200\n",
            "34/34 [==============================] - 0s 2ms/step - loss: 3588.9263 - mae: 3588.9263\n",
            "Epoch 187/200\n",
            "34/34 [==============================] - 0s 2ms/step - loss: 3618.1533 - mae: 3618.1533\n",
            "Epoch 188/200\n",
            "34/34 [==============================] - 0s 2ms/step - loss: 3502.8362 - mae: 3502.8362\n",
            "Epoch 189/200\n",
            "34/34 [==============================] - 0s 2ms/step - loss: 3500.4661 - mae: 3500.4661\n",
            "Epoch 190/200\n",
            "34/34 [==============================] - 0s 2ms/step - loss: 3492.7371 - mae: 3492.7371\n",
            "Epoch 191/200\n",
            "34/34 [==============================] - 0s 3ms/step - loss: 3493.5081 - mae: 3493.5081\n",
            "Epoch 192/200\n",
            "34/34 [==============================] - 0s 3ms/step - loss: 3521.7727 - mae: 3521.7727\n",
            "Epoch 193/200\n",
            "34/34 [==============================] - 0s 3ms/step - loss: 3543.7363 - mae: 3543.7363\n",
            "Epoch 194/200\n",
            "34/34 [==============================] - 0s 2ms/step - loss: 3497.5857 - mae: 3497.5857\n",
            "Epoch 195/200\n",
            "34/34 [==============================] - 0s 2ms/step - loss: 3538.7412 - mae: 3538.7412\n",
            "Epoch 196/200\n",
            "34/34 [==============================] - 0s 3ms/step - loss: 3559.9866 - mae: 3559.9866\n",
            "Epoch 197/200\n",
            "34/34 [==============================] - 0s 3ms/step - loss: 3517.4241 - mae: 3517.4241\n",
            "Epoch 198/200\n",
            "34/34 [==============================] - 0s 2ms/step - loss: 3519.3594 - mae: 3519.3594\n",
            "Epoch 199/200\n",
            "34/34 [==============================] - 0s 2ms/step - loss: 3496.4495 - mae: 3496.4495\n",
            "Epoch 200/200\n",
            "34/34 [==============================] - 0s 3ms/step - loss: 3493.5002 - mae: 3493.5002\n"
          ],
          "name": "stdout"
        }
      ]
    },
    {
      "cell_type": "code",
      "metadata": {
        "colab": {
          "base_uri": "https://localhost:8080/"
        },
        "id": "WIbquw1FKcoL",
        "outputId": "bb1d68fb-1225-477a-8c3f-db0c6eaa4e66"
      },
      "source": [
        "# Check the model summary\n",
        "insurance_model_2.summary()"
      ],
      "execution_count": 16,
      "outputs": [
        {
          "output_type": "stream",
          "text": [
            "Model: \"sequential_1\"\n",
            "_________________________________________________________________\n",
            "Layer (type)                 Output Shape              Param #   \n",
            "=================================================================\n",
            "dense_5 (Dense)              (None, 100)               1200      \n",
            "_________________________________________________________________\n",
            "dense_6 (Dense)              (None, 50)                5050      \n",
            "_________________________________________________________________\n",
            "dense_7 (Dense)              (None, 25)                1275      \n",
            "_________________________________________________________________\n",
            "dense_8 (Dense)              (None, 12)                312       \n",
            "_________________________________________________________________\n",
            "dense_9 (Dense)              (None, 6)                 78        \n",
            "_________________________________________________________________\n",
            "dense_10 (Dense)             (None, 3)                 21        \n",
            "_________________________________________________________________\n",
            "dense_11 (Dense)             (None, 2)                 8         \n",
            "_________________________________________________________________\n",
            "dense_12 (Dense)             (None, 1)                 3         \n",
            "=================================================================\n",
            "Total params: 7,947\n",
            "Trainable params: 7,947\n",
            "Non-trainable params: 0\n",
            "_________________________________________________________________\n"
          ],
          "name": "stdout"
        }
      ]
    },
    {
      "cell_type": "code",
      "metadata": {
        "colab": {
          "base_uri": "https://localhost:8080/"
        },
        "id": "tYNAUkYWmBF2",
        "outputId": "c0ed5f06-ad2d-4fbe-b7c0-ffef476ba8f0"
      },
      "source": [
        "# Evaluate the model_2\n",
        "insurance_model_2.evaluate(X_test, y_test)"
      ],
      "execution_count": 17,
      "outputs": [
        {
          "output_type": "stream",
          "text": [
            "9/9 [==============================] - 0s 2ms/step - loss: 3168.3887 - mae: 3168.3887\n"
          ],
          "name": "stdout"
        },
        {
          "output_type": "execute_result",
          "data": {
            "text/plain": [
              "[3168.388671875, 3168.388671875]"
            ]
          },
          "metadata": {
            "tags": []
          },
          "execution_count": 17
        }
      ]
    },
    {
      "cell_type": "code",
      "metadata": {
        "colab": {
          "base_uri": "https://localhost:8080/"
        },
        "id": "kV3cZcOQqNrO",
        "outputId": "824caff0-40be-4259-fa15-74c60553c765"
      },
      "source": [
        "# Compare the two models. Checking for model.\n",
        "insurance_model.evaluate(X_test, y_test) "
      ],
      "execution_count": 18,
      "outputs": [
        {
          "output_type": "stream",
          "text": [
            "9/9 [==============================] - 0s 2ms/step - loss: 6009.1719 - mae: 6009.1719\n"
          ],
          "name": "stdout"
        },
        {
          "output_type": "execute_result",
          "data": {
            "text/plain": [
              "[6009.171875, 6009.171875]"
            ]
          },
          "metadata": {
            "tags": []
          },
          "execution_count": 18
        }
      ]
    },
    {
      "cell_type": "code",
      "metadata": {
        "colab": {
          "base_uri": "https://localhost:8080/",
          "height": 0
        },
        "id": "qwM16IxxquHH",
        "outputId": "78f4fb69-bb0a-4438-e54e-632d7c174d50"
      },
      "source": [
        "# Plot. (Also known as a loss curve or training curve)\n",
        "pd.DataFrame(history.history).plot()\n",
        "plt.ylabel(\"Loss\")\n",
        "plt.xlabel(\"Epochs\")"
      ],
      "execution_count": 19,
      "outputs": [
        {
          "output_type": "execute_result",
          "data": {
            "text/plain": [
              "Text(0.5, 0, 'Epochs')"
            ]
          },
          "metadata": {
            "tags": []
          },
          "execution_count": 19
        },
        {
          "output_type": "display_data",
          "data": {
            "image/png": "[encoded data removed]",
            "text/plain": [
              "<Figure size 432x288 with 1 Axes>"
            ]
          },
          "metadata": {
            "tags": [],
            "needs_background": "light"
          }
        }
      ]
    },
    {
      "cell_type": "markdown",
      "metadata": {
        "id": "1qgklZOJuEXE"
      },
      "source": [
        "# Preprocessing data (Standardization and Normalization)"
      ]
    },
    {
      "cell_type": "markdown",
      "metadata": {
        "id": "dDZRj2rbsyaR"
      },
      "source": [
        "**How long we should train for?**\n",
        "\n",
        "TesnorFlow has a solution. It's called [ EarlyStopping callback (see the documentation), which is a TensorFlow component we can add to our model to stop training training once it stops improving a certain metric.] "
      ]
    },
    {
      "cell_type": "code",
      "metadata": {
        "colab": {
          "base_uri": "https://localhost:8080/",
          "height": 0
        },
        "id": "uMWNl-gCvA-c",
        "outputId": "3ccdab08-8158-4171-a9ae-49e7d2847395"
      },
      "source": [
        "# Read again the csv.\n",
        "insurance_data_1 = pd.read_csv(\"https://raw.githubusercontent.com/stedy/Machine-Learning-with-R-datasets/master/insurance.csv\")\n",
        "insurance_data_1.head()"
      ],
      "execution_count": 20,
      "outputs": [
        {
          "output_type": "execute_result",
          "data": {
            "text/html": [
              "<div>\n",
              "<style scoped>\n",
              "    .dataframe tbody tr th:only-of-type {\n",
              "        vertical-align: middle;\n",
              "    }\n",
              "\n",
              "    .dataframe tbody tr th {\n",
              "        vertical-align: top;\n",
              "    }\n",
              "\n",
              "    .dataframe thead th {\n",
              "        text-align: right;\n",
              "    }\n",
              "</style>\n",
              "<table border=\"1\" class=\"dataframe\">\n",
              "  <thead>\n",
              "    <tr style=\"text-align: right;\">\n",
              "      <th></th>\n",
              "      <th>age</th>\n",
              "      <th>sex</th>\n",
              "      <th>bmi</th>\n",
              "      <th>children</th>\n",
              "      <th>smoker</th>\n",
              "      <th>region</th>\n",
              "      <th>charges</th>\n",
              "    </tr>\n",
              "  </thead>\n",
              "  <tbody>\n",
              "    <tr>\n",
              "      <th>0</th>\n",
              "      <td>19</td>\n",
              "      <td>female</td>\n",
              "      <td>27.900</td>\n",
              "      <td>0</td>\n",
              "      <td>yes</td>\n",
              "      <td>southwest</td>\n",
              "      <td>16884.92400</td>\n",
              "    </tr>\n",
              "    <tr>\n",
              "      <th>1</th>\n",
              "      <td>18</td>\n",
              "      <td>male</td>\n",
              "      <td>33.770</td>\n",
              "      <td>1</td>\n",
              "      <td>no</td>\n",
              "      <td>southeast</td>\n",
              "      <td>1725.55230</td>\n",
              "    </tr>\n",
              "    <tr>\n",
              "      <th>2</th>\n",
              "      <td>28</td>\n",
              "      <td>male</td>\n",
              "      <td>33.000</td>\n",
              "      <td>3</td>\n",
              "      <td>no</td>\n",
              "      <td>southeast</td>\n",
              "      <td>4449.46200</td>\n",
              "    </tr>\n",
              "    <tr>\n",
              "      <th>3</th>\n",
              "      <td>33</td>\n",
              "      <td>male</td>\n",
              "      <td>22.705</td>\n",
              "      <td>0</td>\n",
              "      <td>no</td>\n",
              "      <td>northwest</td>\n",
              "      <td>21984.47061</td>\n",
              "    </tr>\n",
              "    <tr>\n",
              "      <th>4</th>\n",
              "      <td>32</td>\n",
              "      <td>male</td>\n",
              "      <td>28.880</td>\n",
              "      <td>0</td>\n",
              "      <td>no</td>\n",
              "      <td>northwest</td>\n",
              "      <td>3866.85520</td>\n",
              "    </tr>\n",
              "  </tbody>\n",
              "</table>\n",
              "</div>"
            ],
            "text/plain": [
              "   age     sex     bmi  children smoker     region      charges\n",
              "0   19  female  27.900         0    yes  southwest  16884.92400\n",
              "1   18    male  33.770         1     no  southeast   1725.55230\n",
              "2   28    male  33.000         3     no  southeast   4449.46200\n",
              "3   33    male  22.705         0     no  northwest  21984.47061\n",
              "4   32    male  28.880         0     no  northwest   3866.85520"
            ]
          },
          "metadata": {
            "tags": []
          },
          "execution_count": 20
        }
      ]
    },
    {
      "cell_type": "code",
      "metadata": {
        "colab": {
          "base_uri": "https://localhost:8080/",
          "height": 0
        },
        "id": "FHrT1dzorot9",
        "outputId": "f972091c-28f2-4df7-cb8d-b27006364268"
      },
      "source": [
        "# Plot the histogram of total dataset.\n",
        "insurance_data_1.hist(figsize= (10,10)) ## plot the histogram for all except the categorical variables."
      ],
      "execution_count": 21,
      "outputs": [
        {
          "output_type": "execute_result",
          "data": {
            "text/plain": [
              "array([[<matplotlib.axes._subplots.AxesSubplot object at 0x7f44dfd99150>,\n",
              "        <matplotlib.axes._subplots.AxesSubplot object at 0x7f44dfedc8d0>],\n",
              "       [<matplotlib.axes._subplots.AxesSubplot object at 0x7f44df8b5bd0>,\n",
              "        <matplotlib.axes._subplots.AxesSubplot object at 0x7f44dd24d190>]],\n",
              "      dtype=object)"
            ]
          },
          "metadata": {
            "tags": []
          },
          "execution_count": 21
        },
        {
          "output_type": "display_data",
          "data": {
            "image/png": "[encoded data removed]",
            "text/plain": [
              "<Figure size 720x720 with 4 Axes>"
            ]
          },
          "metadata": {
            "tags": [],
            "needs_background": "light"
          }
        }
      ]
    },
    {
      "cell_type": "code",
      "metadata": {
        "id": "kzozNj0Qw9x5"
      },
      "source": [
        "from sklearn.compose import make_column_transformer\n",
        "from sklearn.preprocessing import MinMaxScaler, OneHotEncoder\n",
        "from sklearn.model_selection import train_test_split\n",
        "\n",
        "# Create a column Transformer\n",
        "ct = make_column_transformer(\n",
        "    (MinMaxScaler(), [\"age\", \"bmi\", \"children\"]), # Trun all values in these coolumns between 0 and 1\n",
        "    (OneHotEncoder(handle_unknown = \"ignore\"), [\"sex\", \"smoker\", \"region\"])\n",
        ")\n",
        "\n",
        "# Create X and y\n",
        "X = insurance_data_1.drop(\"charges\", axis = 1)\n",
        "y = insurance_data_1[\"charges\"]\n",
        "\n",
        "# Build training and test dataset\n",
        "X_train1, X_test1, y_train1, y_test1 = train_test_split(X, y, test_size = 0.2, random_state = 42)\n",
        "\n",
        "# Fit the column transformer to our training data\n",
        "ct.fit(X_train1)\n",
        "\n",
        "# transforming our training data and test data with normalization and OneHotEncoder\n",
        "X_train_norm = ct.transform(X_train1)\n",
        "X_test_norm = ct.transform(X_test1)"
      ],
      "execution_count": 22,
      "outputs": []
    },
    {
      "cell_type": "code",
      "metadata": {
        "id": "2c-oOpK6z6JG",
        "colab": {
          "base_uri": "https://localhost:8080/"
        },
        "outputId": "ae4097c2-7663-4f19-fcf4-998985c17664"
      },
      "source": [
        "# Compare between X_train1 and X_train_norm.\n",
        "X_train1.loc[0], X_train_norm[0]     # X_train1 is a dataframe and X_train_norm is a numpy array.\n",
        "                                     \n",
        "#type(X_train1), type(X_train_norm)  # we can check the type by type()"
      ],
      "execution_count": 23,
      "outputs": [
        {
          "output_type": "execute_result",
          "data": {
            "text/plain": [
              "(age                19\n",
              " sex            female\n",
              " bmi              27.9\n",
              " children            0\n",
              " smoker            yes\n",
              " region      southwest\n",
              " Name: 0, dtype: object,\n",
              " array([0.60869565, 0.10734463, 0.4       , 1.        , 0.        ,\n",
              "        1.        , 0.        , 0.        , 1.        , 0.        ,\n",
              "        0.        ]))"
            ]
          },
          "metadata": {
            "tags": []
          },
          "execution_count": 23
        }
      ]
    },
    {
      "cell_type": "code",
      "metadata": {
        "colab": {
          "base_uri": "https://localhost:8080/"
        },
        "id": "A6aJIaC9IyF3",
        "outputId": "5b882ac0-7f4b-4080-c736-4e8375292979"
      },
      "source": [
        "# Building another Neural Network to fit the normalized data.\n",
        "tf.random.set_seed(42)\n",
        "\n",
        "# Creating the model architecture. Here, We will build the third model.\n",
        "insurance_model_3 = tf.keras.Sequential([\n",
        "    tf.keras.layers.Dense(100),\n",
        "    tf.keras.layers.Dense(50),\n",
        "    tf.keras.layers.Dense(20),\n",
        "    tf.keras.layers.Dense(5),\n",
        "    tf.keras.layers.Dense(1)\n",
        "])\n",
        "\n",
        "# Compile the model.\n",
        "insurance_model_3.compile(loss = tf.keras.losses.mae,\n",
        "                          optimizer = tf.keras.optimizers.Adam(),\n",
        "                          metrics = [\"mae\"])\n",
        "\n",
        "# Now, fit the model\n",
        "history1 = insurance_model_3.fit(X_train_norm, y_train1, epochs = 200, verbose = 2)"
      ],
      "execution_count": 24,
      "outputs": [
        {
          "output_type": "stream",
          "text": [
            "Epoch 1/200\n",
            "34/34 - 1s - loss: 13339.6016 - mae: 13339.6016\n",
            "Epoch 2/200\n",
            "34/34 - 0s - loss: 13253.4756 - mae: 13253.4756\n",
            "Epoch 3/200\n",
            "34/34 - 0s - loss: 12617.2588 - mae: 12617.2588\n",
            "Epoch 4/200\n",
            "34/34 - 0s - loss: 10207.0557 - mae: 10207.0557\n",
            "Epoch 5/200\n",
            "34/34 - 0s - loss: 8069.6953 - mae: 8069.6953\n",
            "Epoch 6/200\n",
            "34/34 - 0s - loss: 7782.2192 - mae: 7782.2192\n",
            "Epoch 7/200\n",
            "34/34 - 0s - loss: 7554.2217 - mae: 7554.2217\n",
            "Epoch 8/200\n",
            "34/34 - 0s - loss: 7325.5615 - mae: 7325.5615\n",
            "Epoch 9/200\n",
            "34/34 - 0s - loss: 7065.1851 - mae: 7065.1851\n",
            "Epoch 10/200\n",
            "34/34 - 0s - loss: 6745.0913 - mae: 6745.0913\n",
            "Epoch 11/200\n",
            "34/34 - 0s - loss: 6348.0117 - mae: 6348.0117\n",
            "Epoch 12/200\n",
            "34/34 - 0s - loss: 5800.2993 - mae: 5800.2993\n",
            "Epoch 13/200\n",
            "34/34 - 0s - loss: 5073.0166 - mae: 5073.0166\n",
            "Epoch 14/200\n",
            "34/34 - 0s - loss: 4278.0386 - mae: 4278.0386\n",
            "Epoch 15/200\n",
            "34/34 - 0s - loss: 3766.4563 - mae: 3766.4563\n",
            "Epoch 16/200\n",
            "34/34 - 0s - loss: 3660.5322 - mae: 3660.5322\n",
            "Epoch 17/200\n",
            "34/34 - 0s - loss: 3648.4512 - mae: 3648.4512\n",
            "Epoch 18/200\n",
            "34/34 - 0s - loss: 3627.6428 - mae: 3627.6428\n",
            "Epoch 19/200\n",
            "34/34 - 0s - loss: 3627.2268 - mae: 3627.2268\n",
            "Epoch 20/200\n",
            "34/34 - 0s - loss: 3608.4290 - mae: 3608.4290\n",
            "Epoch 21/200\n",
            "34/34 - 0s - loss: 3597.1448 - mae: 3597.1448\n",
            "Epoch 22/200\n",
            "34/34 - 0s - loss: 3582.0867 - mae: 3582.0867\n",
            "Epoch 23/200\n",
            "34/34 - 0s - loss: 3576.9736 - mae: 3576.9736\n",
            "Epoch 24/200\n",
            "34/34 - 0s - loss: 3566.5889 - mae: 3566.5889\n",
            "Epoch 25/200\n",
            "34/34 - 0s - loss: 3562.7678 - mae: 3562.7678\n",
            "Epoch 26/200\n",
            "34/34 - 0s - loss: 3538.0454 - mae: 3538.0454\n",
            "Epoch 27/200\n",
            "34/34 - 0s - loss: 3532.2468 - mae: 3532.2468\n",
            "Epoch 28/200\n",
            "34/34 - 0s - loss: 3532.4131 - mae: 3532.4131\n",
            "Epoch 29/200\n",
            "34/34 - 0s - loss: 3532.7271 - mae: 3532.7271\n",
            "Epoch 30/200\n",
            "34/34 - 0s - loss: 3529.8176 - mae: 3529.8176\n",
            "Epoch 31/200\n",
            "34/34 - 0s - loss: 3525.5681 - mae: 3525.5681\n",
            "Epoch 32/200\n",
            "34/34 - 0s - loss: 3501.3567 - mae: 3501.3567\n",
            "Epoch 33/200\n",
            "34/34 - 0s - loss: 3514.0969 - mae: 3514.0969\n",
            "Epoch 34/200\n",
            "34/34 - 0s - loss: 3478.7441 - mae: 3478.7441\n",
            "Epoch 35/200\n",
            "34/34 - 0s - loss: 3487.5864 - mae: 3487.5864\n",
            "Epoch 36/200\n",
            "34/34 - 0s - loss: 3482.6045 - mae: 3482.6045\n",
            "Epoch 37/200\n",
            "34/34 - 0s - loss: 3491.4766 - mae: 3491.4766\n",
            "Epoch 38/200\n",
            "34/34 - 0s - loss: 3501.8657 - mae: 3501.8657\n",
            "Epoch 39/200\n",
            "34/34 - 0s - loss: 3484.7222 - mae: 3484.7222\n",
            "Epoch 40/200\n",
            "34/34 - 0s - loss: 3501.6138 - mae: 3501.6138\n",
            "Epoch 41/200\n",
            "34/34 - 0s - loss: 3488.4102 - mae: 3488.4102\n",
            "Epoch 42/200\n",
            "34/34 - 0s - loss: 3490.9797 - mae: 3490.9797\n",
            "Epoch 43/200\n",
            "34/34 - 0s - loss: 3487.0115 - mae: 3487.0115\n",
            "Epoch 44/200\n",
            "34/34 - 0s - loss: 3485.0786 - mae: 3485.0786\n",
            "Epoch 45/200\n",
            "34/34 - 0s - loss: 3477.9275 - mae: 3477.9275\n",
            "Epoch 46/200\n",
            "34/34 - 0s - loss: 3486.7087 - mae: 3486.7087\n",
            "Epoch 47/200\n",
            "34/34 - 0s - loss: 3491.4729 - mae: 3491.4729\n",
            "Epoch 48/200\n",
            "34/34 - 0s - loss: 3484.9304 - mae: 3484.9304\n",
            "Epoch 49/200\n",
            "34/34 - 0s - loss: 3505.4250 - mae: 3505.4250\n",
            "Epoch 50/200\n",
            "34/34 - 0s - loss: 3479.5771 - mae: 3479.5771\n",
            "Epoch 51/200\n",
            "34/34 - 0s - loss: 3479.1150 - mae: 3479.1150\n",
            "Epoch 52/200\n",
            "34/34 - 0s - loss: 3487.0586 - mae: 3487.0586\n",
            "Epoch 53/200\n",
            "34/34 - 0s - loss: 3476.5881 - mae: 3476.5881\n",
            "Epoch 54/200\n",
            "34/34 - 0s - loss: 3493.7842 - mae: 3493.7842\n",
            "Epoch 55/200\n",
            "34/34 - 0s - loss: 3506.3352 - mae: 3506.3352\n",
            "Epoch 56/200\n",
            "34/34 - 0s - loss: 3487.7839 - mae: 3487.7839\n",
            "Epoch 57/200\n",
            "34/34 - 0s - loss: 3482.5215 - mae: 3482.5215\n",
            "Epoch 58/200\n",
            "34/34 - 0s - loss: 3480.7520 - mae: 3480.7520\n",
            "Epoch 59/200\n",
            "34/34 - 0s - loss: 3488.6858 - mae: 3488.6858\n",
            "Epoch 60/200\n",
            "34/34 - 0s - loss: 3492.4722 - mae: 3492.4722\n",
            "Epoch 61/200\n",
            "34/34 - 0s - loss: 3497.8872 - mae: 3497.8872\n",
            "Epoch 62/200\n",
            "34/34 - 0s - loss: 3485.2681 - mae: 3485.2681\n",
            "Epoch 63/200\n",
            "34/34 - 0s - loss: 3481.4199 - mae: 3481.4199\n",
            "Epoch 64/200\n",
            "34/34 - 0s - loss: 3487.6309 - mae: 3487.6309\n",
            "Epoch 65/200\n",
            "34/34 - 0s - loss: 3488.6416 - mae: 3488.6416\n",
            "Epoch 66/200\n",
            "34/34 - 0s - loss: 3498.2070 - mae: 3498.2070\n",
            "Epoch 67/200\n",
            "34/34 - 0s - loss: 3481.5154 - mae: 3481.5154\n",
            "Epoch 68/200\n",
            "34/34 - 0s - loss: 3489.9915 - mae: 3489.9915\n",
            "Epoch 69/200\n",
            "34/34 - 0s - loss: 3478.9170 - mae: 3478.9170\n",
            "Epoch 70/200\n",
            "34/34 - 0s - loss: 3492.4338 - mae: 3492.4338\n",
            "Epoch 71/200\n",
            "34/34 - 0s - loss: 3483.9780 - mae: 3483.9780\n",
            "Epoch 72/200\n",
            "34/34 - 0s - loss: 3490.3279 - mae: 3490.3279\n",
            "Epoch 73/200\n",
            "34/34 - 0s - loss: 3491.7109 - mae: 3491.7109\n",
            "Epoch 74/200\n",
            "34/34 - 0s - loss: 3481.5793 - mae: 3481.5793\n",
            "Epoch 75/200\n",
            "34/34 - 0s - loss: 3481.9985 - mae: 3481.9985\n",
            "Epoch 76/200\n",
            "34/34 - 0s - loss: 3483.5083 - mae: 3483.5083\n",
            "Epoch 77/200\n",
            "34/34 - 0s - loss: 3482.6255 - mae: 3482.6255\n",
            "Epoch 78/200\n",
            "34/34 - 0s - loss: 3483.6924 - mae: 3483.6924\n",
            "Epoch 79/200\n",
            "34/34 - 0s - loss: 3489.1780 - mae: 3489.1780\n",
            "Epoch 80/200\n",
            "34/34 - 0s - loss: 3489.6108 - mae: 3489.6108\n",
            "Epoch 81/200\n",
            "34/34 - 0s - loss: 3490.5557 - mae: 3490.5557\n",
            "Epoch 82/200\n",
            "34/34 - 0s - loss: 3481.6072 - mae: 3481.6072\n",
            "Epoch 83/200\n",
            "34/34 - 0s - loss: 3484.0610 - mae: 3484.0610\n",
            "Epoch 84/200\n",
            "34/34 - 0s - loss: 3487.1316 - mae: 3487.1316\n",
            "Epoch 85/200\n",
            "34/34 - 0s - loss: 3479.2986 - mae: 3479.2986\n",
            "Epoch 86/200\n",
            "34/34 - 0s - loss: 3478.7693 - mae: 3478.7693\n",
            "Epoch 87/200\n",
            "34/34 - 0s - loss: 3488.7473 - mae: 3488.7473\n",
            "Epoch 88/200\n",
            "34/34 - 0s - loss: 3483.9658 - mae: 3483.9658\n",
            "Epoch 89/200\n",
            "34/34 - 0s - loss: 3483.5215 - mae: 3483.5215\n",
            "Epoch 90/200\n",
            "34/34 - 0s - loss: 3482.4832 - mae: 3482.4832\n",
            "Epoch 91/200\n",
            "34/34 - 0s - loss: 3482.1003 - mae: 3482.1003\n",
            "Epoch 92/200\n",
            "34/34 - 0s - loss: 3492.6709 - mae: 3492.6709\n",
            "Epoch 93/200\n",
            "34/34 - 0s - loss: 3480.1785 - mae: 3480.1785\n",
            "Epoch 94/200\n",
            "34/34 - 0s - loss: 3483.5618 - mae: 3483.5618\n",
            "Epoch 95/200\n",
            "34/34 - 0s - loss: 3480.6479 - mae: 3480.6479\n",
            "Epoch 96/200\n",
            "34/34 - 0s - loss: 3489.0613 - mae: 3489.0613\n",
            "Epoch 97/200\n",
            "34/34 - 0s - loss: 3494.1631 - mae: 3494.1631\n",
            "Epoch 98/200\n",
            "34/34 - 0s - loss: 3483.3440 - mae: 3483.3440\n",
            "Epoch 99/200\n",
            "34/34 - 0s - loss: 3492.6416 - mae: 3492.6416\n",
            "Epoch 100/200\n",
            "34/34 - 0s - loss: 3487.2595 - mae: 3487.2595\n",
            "Epoch 101/200\n",
            "34/34 - 0s - loss: 3489.7249 - mae: 3489.7249\n",
            "Epoch 102/200\n",
            "34/34 - 0s - loss: 3480.4363 - mae: 3480.4363\n",
            "Epoch 103/200\n",
            "34/34 - 0s - loss: 3491.6875 - mae: 3491.6875\n",
            "Epoch 104/200\n",
            "34/34 - 0s - loss: 3479.2219 - mae: 3479.2219\n",
            "Epoch 105/200\n",
            "34/34 - 0s - loss: 3490.1772 - mae: 3490.1772\n",
            "Epoch 106/200\n",
            "34/34 - 0s - loss: 3484.1387 - mae: 3484.1387\n",
            "Epoch 107/200\n",
            "34/34 - 0s - loss: 3480.6360 - mae: 3480.6360\n",
            "Epoch 108/200\n",
            "34/34 - 0s - loss: 3481.1423 - mae: 3481.1423\n",
            "Epoch 109/200\n",
            "34/34 - 0s - loss: 3484.8044 - mae: 3484.8044\n",
            "Epoch 110/200\n",
            "34/34 - 0s - loss: 3482.2998 - mae: 3482.2998\n",
            "Epoch 111/200\n",
            "34/34 - 0s - loss: 3492.4878 - mae: 3492.4878\n",
            "Epoch 112/200\n",
            "34/34 - 0s - loss: 3492.1033 - mae: 3492.1033\n",
            "Epoch 113/200\n",
            "34/34 - 0s - loss: 3489.2007 - mae: 3489.2007\n",
            "Epoch 114/200\n",
            "34/34 - 0s - loss: 3518.0833 - mae: 3518.0833\n",
            "Epoch 115/200\n",
            "34/34 - 0s - loss: 3497.7163 - mae: 3497.7163\n",
            "Epoch 116/200\n",
            "34/34 - 0s - loss: 3488.4656 - mae: 3488.4658\n",
            "Epoch 117/200\n",
            "34/34 - 0s - loss: 3490.4265 - mae: 3490.4265\n",
            "Epoch 118/200\n",
            "34/34 - 0s - loss: 3478.5825 - mae: 3478.5825\n",
            "Epoch 119/200\n",
            "34/34 - 0s - loss: 3485.9980 - mae: 3485.9980\n",
            "Epoch 120/200\n",
            "34/34 - 0s - loss: 3480.4043 - mae: 3480.4043\n",
            "Epoch 121/200\n",
            "34/34 - 0s - loss: 3502.3396 - mae: 3502.3396\n",
            "Epoch 122/200\n",
            "34/34 - 0s - loss: 3499.6809 - mae: 3499.6809\n",
            "Epoch 123/200\n",
            "34/34 - 0s - loss: 3487.2444 - mae: 3487.2444\n",
            "Epoch 124/200\n",
            "34/34 - 0s - loss: 3481.9077 - mae: 3481.9077\n",
            "Epoch 125/200\n",
            "34/34 - 0s - loss: 3490.4038 - mae: 3490.4038\n",
            "Epoch 126/200\n",
            "34/34 - 0s - loss: 3492.2380 - mae: 3492.2380\n",
            "Epoch 127/200\n",
            "34/34 - 0s - loss: 3491.9026 - mae: 3491.9026\n",
            "Epoch 128/200\n",
            "34/34 - 0s - loss: 3490.0076 - mae: 3490.0076\n",
            "Epoch 129/200\n",
            "34/34 - 0s - loss: 3511.2507 - mae: 3511.2507\n",
            "Epoch 130/200\n",
            "34/34 - 0s - loss: 3485.6707 - mae: 3485.6707\n",
            "Epoch 131/200\n",
            "34/34 - 0s - loss: 3485.2156 - mae: 3485.2156\n",
            "Epoch 132/200\n",
            "34/34 - 0s - loss: 3483.0071 - mae: 3483.0071\n",
            "Epoch 133/200\n",
            "34/34 - 0s - loss: 3481.4360 - mae: 3481.4360\n",
            "Epoch 134/200\n",
            "34/34 - 0s - loss: 3482.4390 - mae: 3482.4390\n",
            "Epoch 135/200\n",
            "34/34 - 0s - loss: 3484.6194 - mae: 3484.6194\n",
            "Epoch 136/200\n",
            "34/34 - 0s - loss: 3479.2424 - mae: 3479.2424\n",
            "Epoch 137/200\n",
            "34/34 - 0s - loss: 3490.6489 - mae: 3490.6489\n",
            "Epoch 138/200\n",
            "34/34 - 0s - loss: 3494.4167 - mae: 3494.4167\n",
            "Epoch 139/200\n",
            "34/34 - 0s - loss: 3484.9827 - mae: 3484.9827\n",
            "Epoch 140/200\n",
            "34/34 - 0s - loss: 3488.4246 - mae: 3488.4246\n",
            "Epoch 141/200\n",
            "34/34 - 0s - loss: 3495.9016 - mae: 3495.9016\n",
            "Epoch 142/200\n",
            "34/34 - 0s - loss: 3496.4021 - mae: 3496.4021\n",
            "Epoch 143/200\n",
            "34/34 - 0s - loss: 3486.3423 - mae: 3486.3423\n",
            "Epoch 144/200\n",
            "34/34 - 0s - loss: 3488.6616 - mae: 3488.6616\n",
            "Epoch 145/200\n",
            "34/34 - 0s - loss: 3484.1711 - mae: 3484.1711\n",
            "Epoch 146/200\n",
            "34/34 - 0s - loss: 3502.6545 - mae: 3502.6545\n",
            "Epoch 147/200\n",
            "34/34 - 0s - loss: 3485.9336 - mae: 3485.9336\n",
            "Epoch 148/200\n",
            "34/34 - 0s - loss: 3496.8965 - mae: 3496.8965\n",
            "Epoch 149/200\n",
            "34/34 - 0s - loss: 3482.1272 - mae: 3482.1272\n",
            "Epoch 150/200\n",
            "34/34 - 0s - loss: 3477.5659 - mae: 3477.5659\n",
            "Epoch 151/200\n",
            "34/34 - 0s - loss: 3489.8057 - mae: 3489.8057\n",
            "Epoch 152/200\n",
            "34/34 - 0s - loss: 3493.8320 - mae: 3493.8320\n",
            "Epoch 153/200\n",
            "34/34 - 0s - loss: 3490.4658 - mae: 3490.4658\n",
            "Epoch 154/200\n",
            "34/34 - 0s - loss: 3483.9075 - mae: 3483.9075\n",
            "Epoch 155/200\n",
            "34/34 - 0s - loss: 3488.8250 - mae: 3488.8250\n",
            "Epoch 156/200\n",
            "34/34 - 0s - loss: 3484.6689 - mae: 3484.6689\n",
            "Epoch 157/200\n",
            "34/34 - 0s - loss: 3492.6509 - mae: 3492.6509\n",
            "Epoch 158/200\n",
            "34/34 - 0s - loss: 3486.8691 - mae: 3486.8691\n",
            "Epoch 159/200\n",
            "34/34 - 0s - loss: 3479.0764 - mae: 3479.0764\n",
            "Epoch 160/200\n",
            "34/34 - 0s - loss: 3487.6960 - mae: 3487.6960\n",
            "Epoch 161/200\n",
            "34/34 - 0s - loss: 3486.8477 - mae: 3486.8477\n",
            "Epoch 162/200\n",
            "34/34 - 0s - loss: 3481.4236 - mae: 3481.4236\n",
            "Epoch 163/200\n",
            "34/34 - 0s - loss: 3482.8608 - mae: 3482.8608\n",
            "Epoch 164/200\n",
            "34/34 - 0s - loss: 3491.3799 - mae: 3491.3799\n",
            "Epoch 165/200\n",
            "34/34 - 0s - loss: 3481.0586 - mae: 3481.0586\n",
            "Epoch 166/200\n",
            "34/34 - 0s - loss: 3484.2415 - mae: 3484.2415\n",
            "Epoch 167/200\n",
            "34/34 - 0s - loss: 3487.1511 - mae: 3487.1511\n",
            "Epoch 168/200\n",
            "34/34 - 0s - loss: 3485.9639 - mae: 3485.9639\n",
            "Epoch 169/200\n",
            "34/34 - 0s - loss: 3482.0974 - mae: 3482.0974\n",
            "Epoch 170/200\n",
            "34/34 - 0s - loss: 3481.3779 - mae: 3481.3779\n",
            "Epoch 171/200\n",
            "34/34 - 0s - loss: 3488.6011 - mae: 3488.6011\n",
            "Epoch 172/200\n",
            "34/34 - 0s - loss: 3491.4678 - mae: 3491.4678\n",
            "Epoch 173/200\n",
            "34/34 - 0s - loss: 3478.1509 - mae: 3478.1509\n",
            "Epoch 174/200\n",
            "34/34 - 0s - loss: 3484.6919 - mae: 3484.6919\n",
            "Epoch 175/200\n",
            "34/34 - 0s - loss: 3484.1763 - mae: 3484.1763\n",
            "Epoch 176/200\n",
            "34/34 - 0s - loss: 3497.8860 - mae: 3497.8860\n",
            "Epoch 177/200\n",
            "34/34 - 0s - loss: 3483.8059 - mae: 3483.8059\n",
            "Epoch 178/200\n",
            "34/34 - 0s - loss: 3485.5979 - mae: 3485.5979\n",
            "Epoch 179/200\n",
            "34/34 - 0s - loss: 3498.5820 - mae: 3498.5820\n",
            "Epoch 180/200\n",
            "34/34 - 0s - loss: 3495.3823 - mae: 3495.3823\n",
            "Epoch 181/200\n",
            "34/34 - 0s - loss: 3487.6606 - mae: 3487.6606\n",
            "Epoch 182/200\n",
            "34/34 - 0s - loss: 3492.8384 - mae: 3492.8384\n",
            "Epoch 183/200\n",
            "34/34 - 0s - loss: 3486.5322 - mae: 3486.5322\n",
            "Epoch 184/200\n",
            "34/34 - 0s - loss: 3489.2361 - mae: 3489.2361\n",
            "Epoch 185/200\n",
            "34/34 - 0s - loss: 3486.7710 - mae: 3486.7710\n",
            "Epoch 186/200\n",
            "34/34 - 0s - loss: 3494.0830 - mae: 3494.0830\n",
            "Epoch 187/200\n",
            "34/34 - 0s - loss: 3482.7576 - mae: 3482.7576\n",
            "Epoch 188/200\n",
            "34/34 - 0s - loss: 3487.9333 - mae: 3487.9333\n",
            "Epoch 189/200\n",
            "34/34 - 0s - loss: 3481.4500 - mae: 3481.4500\n",
            "Epoch 190/200\n",
            "34/34 - 0s - loss: 3490.0125 - mae: 3490.0125\n",
            "Epoch 191/200\n",
            "34/34 - 0s - loss: 3498.1216 - mae: 3498.1216\n",
            "Epoch 192/200\n",
            "34/34 - 0s - loss: 3489.4429 - mae: 3489.4429\n",
            "Epoch 193/200\n",
            "34/34 - 0s - loss: 3486.8062 - mae: 3486.8062\n",
            "Epoch 194/200\n",
            "34/34 - 0s - loss: 3488.9509 - mae: 3488.9509\n",
            "Epoch 195/200\n",
            "34/34 - 0s - loss: 3477.0444 - mae: 3477.0444\n",
            "Epoch 196/200\n",
            "34/34 - 0s - loss: 3492.5798 - mae: 3492.5798\n",
            "Epoch 197/200\n",
            "34/34 - 0s - loss: 3482.9307 - mae: 3482.9307\n",
            "Epoch 198/200\n",
            "34/34 - 0s - loss: 3501.1316 - mae: 3501.1316\n",
            "Epoch 199/200\n",
            "34/34 - 0s - loss: 3494.3884 - mae: 3494.3884\n",
            "Epoch 200/200\n",
            "34/34 - 0s - loss: 3482.0972 - mae: 3482.0972\n"
          ],
          "name": "stdout"
        }
      ]
    },
    {
      "cell_type": "code",
      "metadata": {
        "colab": {
          "base_uri": "https://localhost:8080/"
        },
        "id": "cIZ99nmFSYZo",
        "outputId": "42be869b-46cf-4be8-985d-22883d7247ac"
      },
      "source": [
        "insurance_model_3.summary()"
      ],
      "execution_count": 25,
      "outputs": [
        {
          "output_type": "stream",
          "text": [
            "Model: \"sequential_2\"\n",
            "_________________________________________________________________\n",
            "Layer (type)                 Output Shape              Param #   \n",
            "=================================================================\n",
            "dense_13 (Dense)             (None, 100)               1200      \n",
            "_________________________________________________________________\n",
            "dense_14 (Dense)             (None, 50)                5050      \n",
            "_________________________________________________________________\n",
            "dense_15 (Dense)             (None, 20)                1020      \n",
            "_________________________________________________________________\n",
            "dense_16 (Dense)             (None, 5)                 105       \n",
            "_________________________________________________________________\n",
            "dense_17 (Dense)             (None, 1)                 6         \n",
            "=================================================================\n",
            "Total params: 7,381\n",
            "Trainable params: 7,381\n",
            "Non-trainable params: 0\n",
            "_________________________________________________________________\n"
          ],
          "name": "stdout"
        }
      ]
    },
    {
      "cell_type": "code",
      "metadata": {
        "colab": {
          "base_uri": "https://localhost:8080/"
        },
        "id": "U0q4pvzZNNi5",
        "outputId": "f161e5fb-30a0-4ae3-def3-7511e191937a"
      },
      "source": [
        "insurance_model_3.evaluate(X_test_norm, y_test)"
      ],
      "execution_count": 26,
      "outputs": [
        {
          "output_type": "stream",
          "text": [
            "9/9 [==============================] - 0s 2ms/step - loss: 3168.7322 - mae: 3168.7322\n"
          ],
          "name": "stdout"
        },
        {
          "output_type": "execute_result",
          "data": {
            "text/plain": [
              "[3168.732177734375, 3168.732177734375]"
            ]
          },
          "metadata": {
            "tags": []
          },
          "execution_count": 26
        }
      ]
    },
    {
      "cell_type": "code",
      "metadata": {
        "colab": {
          "base_uri": "https://localhost:8080/",
          "height": 0
        },
        "id": "9hO76kpkSOsE",
        "outputId": "4f0ec4d1-d45d-43d6-e096-92c633192579"
      },
      "source": [
        "# Plot. (Also known as a loss curve or training curve)\n",
        "pd.DataFrame(history1.history).plot()\n",
        "plt.ylabel(\"Loss\")\n",
        "plt.xlabel(\"Epochs\")"
      ],
      "execution_count": 27,
      "outputs": [
        {
          "output_type": "execute_result",
          "data": {
            "text/plain": [
              "Text(0.5, 0, 'Epochs')"
            ]
          },
          "metadata": {
            "tags": []
          },
          "execution_count": 27
        },
        {
          "output_type": "display_data",
          "data": {
            "image/png": "[encoded data removed]",
            "text/plain": [
              "<Figure size 432x288 with 1 Axes>"
            ]
          },
          "metadata": {
            "tags": [],
            "needs_background": "light"
          }
        }
      ]
    },
    {
      "cell_type": "markdown",
      "metadata": {
        "id": "MR16FldatycY"
      },
      "source": [
        "# Model Architecture.\n",
        "\n",
        "**See the different Model architecture.**\n",
        "\n",
        "Evaluation on different model"
      ]
    },
    {
      "cell_type": "code",
      "metadata": {
        "colab": {
          "base_uri": "https://localhost:8080/"
        },
        "id": "GuSmHwQutpiC",
        "outputId": "0530363d-acac-43ec-ea99-2358951ce741"
      },
      "source": [
        "insurance_model.summary()"
      ],
      "execution_count": 28,
      "outputs": [
        {
          "output_type": "stream",
          "text": [
            "Model: \"sequential\"\n",
            "_________________________________________________________________\n",
            "Layer (type)                 Output Shape              Param #   \n",
            "=================================================================\n",
            "dense (Dense)                (None, 10)                120       \n",
            "_________________________________________________________________\n",
            "dense_1 (Dense)              (None, 5)                 55        \n",
            "_________________________________________________________________\n",
            "dense_2 (Dense)              (None, 3)                 18        \n",
            "_________________________________________________________________\n",
            "dense_3 (Dense)              (None, 2)                 8         \n",
            "_________________________________________________________________\n",
            "dense_4 (Dense)              (None, 1)                 3         \n",
            "=================================================================\n",
            "Total params: 204\n",
            "Trainable params: 204\n",
            "Non-trainable params: 0\n",
            "_________________________________________________________________\n"
          ],
          "name": "stdout"
        }
      ]
    },
    {
      "cell_type": "code",
      "metadata": {
        "colab": {
          "base_uri": "https://localhost:8080/"
        },
        "id": "NTuWB5lOuUA2",
        "outputId": "b2a66c7b-a0de-423d-c0fd-519f5feaf13c"
      },
      "source": [
        "# Evaluate the first model\n",
        "insurance_model.evaluate(X_test, y_test)"
      ],
      "execution_count": 29,
      "outputs": [
        {
          "output_type": "stream",
          "text": [
            "9/9 [==============================] - 0s 2ms/step - loss: 6009.1719 - mae: 6009.1719\n"
          ],
          "name": "stdout"
        },
        {
          "output_type": "execute_result",
          "data": {
            "text/plain": [
              "[6009.171875, 6009.171875]"
            ]
          },
          "metadata": {
            "tags": []
          },
          "execution_count": 29
        }
      ]
    },
    {
      "cell_type": "code",
      "metadata": {
        "colab": {
          "base_uri": "https://localhost:8080/"
        },
        "id": "x4RiJ40St-Eb",
        "outputId": "6e36d38c-e8b6-48cd-db38-7e16723563e7"
      },
      "source": [
        "insurance_model_2.summary()"
      ],
      "execution_count": 30,
      "outputs": [
        {
          "output_type": "stream",
          "text": [
            "Model: \"sequential_1\"\n",
            "_________________________________________________________________\n",
            "Layer (type)                 Output Shape              Param #   \n",
            "=================================================================\n",
            "dense_5 (Dense)              (None, 100)               1200      \n",
            "_________________________________________________________________\n",
            "dense_6 (Dense)              (None, 50)                5050      \n",
            "_________________________________________________________________\n",
            "dense_7 (Dense)              (None, 25)                1275      \n",
            "_________________________________________________________________\n",
            "dense_8 (Dense)              (None, 12)                312       \n",
            "_________________________________________________________________\n",
            "dense_9 (Dense)              (None, 6)                 78        \n",
            "_________________________________________________________________\n",
            "dense_10 (Dense)             (None, 3)                 21        \n",
            "_________________________________________________________________\n",
            "dense_11 (Dense)             (None, 2)                 8         \n",
            "_________________________________________________________________\n",
            "dense_12 (Dense)             (None, 1)                 3         \n",
            "=================================================================\n",
            "Total params: 7,947\n",
            "Trainable params: 7,947\n",
            "Non-trainable params: 0\n",
            "_________________________________________________________________\n"
          ],
          "name": "stdout"
        }
      ]
    },
    {
      "cell_type": "code",
      "metadata": {
        "colab": {
          "base_uri": "https://localhost:8080/"
        },
        "id": "SoDCbSqsuMLJ",
        "outputId": "d6bfa34c-92be-4862-fe25-b487a9f92965"
      },
      "source": [
        "# Evaluate the model_2\n",
        "insurance_model_2.evaluate(X_test, y_test)"
      ],
      "execution_count": 31,
      "outputs": [
        {
          "output_type": "stream",
          "text": [
            "9/9 [==============================] - 0s 2ms/step - loss: 3168.3887 - mae: 3168.3887\n"
          ],
          "name": "stdout"
        },
        {
          "output_type": "execute_result",
          "data": {
            "text/plain": [
              "[3168.388671875, 3168.388671875]"
            ]
          },
          "metadata": {
            "tags": []
          },
          "execution_count": 31
        }
      ]
    },
    {
      "cell_type": "code",
      "metadata": {
        "colab": {
          "base_uri": "https://localhost:8080/"
        },
        "id": "-LsjTOEQuAiq",
        "outputId": "6bee60ec-f3c0-4a6e-bf6c-cc5f4b3e14dc"
      },
      "source": [
        "insurance_model_3.summary()"
      ],
      "execution_count": 32,
      "outputs": [
        {
          "output_type": "stream",
          "text": [
            "Model: \"sequential_2\"\n",
            "_________________________________________________________________\n",
            "Layer (type)                 Output Shape              Param #   \n",
            "=================================================================\n",
            "dense_13 (Dense)             (None, 100)               1200      \n",
            "_________________________________________________________________\n",
            "dense_14 (Dense)             (None, 50)                5050      \n",
            "_________________________________________________________________\n",
            "dense_15 (Dense)             (None, 20)                1020      \n",
            "_________________________________________________________________\n",
            "dense_16 (Dense)             (None, 5)                 105       \n",
            "_________________________________________________________________\n",
            "dense_17 (Dense)             (None, 1)                 6         \n",
            "=================================================================\n",
            "Total params: 7,381\n",
            "Trainable params: 7,381\n",
            "Non-trainable params: 0\n",
            "_________________________________________________________________\n"
          ],
          "name": "stdout"
        }
      ]
    },
    {
      "cell_type": "code",
      "metadata": {
        "colab": {
          "base_uri": "https://localhost:8080/"
        },
        "id": "oUs1-m-3uFn9",
        "outputId": "2266676d-d708-427a-bd99-218e66102333"
      },
      "source": [
        "# Evaluate the third model\n",
        "insurance_model_3.evaluate(X_test_norm, y_test)"
      ],
      "execution_count": 33,
      "outputs": [
        {
          "output_type": "stream",
          "text": [
            "9/9 [==============================] - 0s 2ms/step - loss: 3168.7322 - mae: 3168.7322\n"
          ],
          "name": "stdout"
        },
        {
          "output_type": "execute_result",
          "data": {
            "text/plain": [
              "[3168.732177734375, 3168.732177734375]"
            ]
          },
          "metadata": {
            "tags": []
          },
          "execution_count": 33
        }
      ]
    },
    {
      "cell_type": "code",
      "metadata": {
        "id": "5pZ5O3RqukzK"
      },
      "source": [
        ""
      ],
      "execution_count": 33,
      "outputs": []
    },
    {
      "cell_type": "markdown",
      "metadata": {
        "id": "CcaFDz-fP47D"
      },
      "source": [
        "# Better Learning Rate\n",
        "\n"
      ]
    },
    {
      "cell_type": "code",
      "metadata": {
        "id": "_guLpiZt-rOl"
      },
      "source": [
        "import math"
      ],
      "execution_count": 73,
      "outputs": []
    },
    {
      "cell_type": "code",
      "metadata": {
        "id": "PV6RjFdUXQVT"
      },
      "source": [
        "insurance_data = pd.read_csv(\"https://raw.githubusercontent.com/stedy/Machine-Learning-with-R-datasets/master/insurance.csv\")"
      ],
      "execution_count": 51,
      "outputs": []
    },
    {
      "cell_type": "code",
      "metadata": {
        "colab": {
          "base_uri": "https://localhost:8080/",
          "height": 203
        },
        "id": "7EzpjYsWXYgz",
        "outputId": "ee79a731-8813-481f-b6a7-9dc0a02f3972"
      },
      "source": [
        "# In the dataframe, there are categorical variable. We can solve this problem by the method called - One Hot Encoding.\n",
        "insurance_one_hot = pd.get_dummies(insurance_data)\n",
        "insurance_one_hot.head()"
      ],
      "execution_count": 52,
      "outputs": [
        {
          "output_type": "execute_result",
          "data": {
            "text/html": [
              "<div>\n",
              "<style scoped>\n",
              "    .dataframe tbody tr th:only-of-type {\n",
              "        vertical-align: middle;\n",
              "    }\n",
              "\n",
              "    .dataframe tbody tr th {\n",
              "        vertical-align: top;\n",
              "    }\n",
              "\n",
              "    .dataframe thead th {\n",
              "        text-align: right;\n",
              "    }\n",
              "</style>\n",
              "<table border=\"1\" class=\"dataframe\">\n",
              "  <thead>\n",
              "    <tr style=\"text-align: right;\">\n",
              "      <th></th>\n",
              "      <th>age</th>\n",
              "      <th>bmi</th>\n",
              "      <th>children</th>\n",
              "      <th>charges</th>\n",
              "      <th>sex_female</th>\n",
              "      <th>sex_male</th>\n",
              "      <th>smoker_no</th>\n",
              "      <th>smoker_yes</th>\n",
              "      <th>region_northeast</th>\n",
              "      <th>region_northwest</th>\n",
              "      <th>region_southeast</th>\n",
              "      <th>region_southwest</th>\n",
              "    </tr>\n",
              "  </thead>\n",
              "  <tbody>\n",
              "    <tr>\n",
              "      <th>0</th>\n",
              "      <td>19</td>\n",
              "      <td>27.900</td>\n",
              "      <td>0</td>\n",
              "      <td>16884.92400</td>\n",
              "      <td>1</td>\n",
              "      <td>0</td>\n",
              "      <td>0</td>\n",
              "      <td>1</td>\n",
              "      <td>0</td>\n",
              "      <td>0</td>\n",
              "      <td>0</td>\n",
              "      <td>1</td>\n",
              "    </tr>\n",
              "    <tr>\n",
              "      <th>1</th>\n",
              "      <td>18</td>\n",
              "      <td>33.770</td>\n",
              "      <td>1</td>\n",
              "      <td>1725.55230</td>\n",
              "      <td>0</td>\n",
              "      <td>1</td>\n",
              "      <td>1</td>\n",
              "      <td>0</td>\n",
              "      <td>0</td>\n",
              "      <td>0</td>\n",
              "      <td>1</td>\n",
              "      <td>0</td>\n",
              "    </tr>\n",
              "    <tr>\n",
              "      <th>2</th>\n",
              "      <td>28</td>\n",
              "      <td>33.000</td>\n",
              "      <td>3</td>\n",
              "      <td>4449.46200</td>\n",
              "      <td>0</td>\n",
              "      <td>1</td>\n",
              "      <td>1</td>\n",
              "      <td>0</td>\n",
              "      <td>0</td>\n",
              "      <td>0</td>\n",
              "      <td>1</td>\n",
              "      <td>0</td>\n",
              "    </tr>\n",
              "    <tr>\n",
              "      <th>3</th>\n",
              "      <td>33</td>\n",
              "      <td>22.705</td>\n",
              "      <td>0</td>\n",
              "      <td>21984.47061</td>\n",
              "      <td>0</td>\n",
              "      <td>1</td>\n",
              "      <td>1</td>\n",
              "      <td>0</td>\n",
              "      <td>0</td>\n",
              "      <td>1</td>\n",
              "      <td>0</td>\n",
              "      <td>0</td>\n",
              "    </tr>\n",
              "    <tr>\n",
              "      <th>4</th>\n",
              "      <td>32</td>\n",
              "      <td>28.880</td>\n",
              "      <td>0</td>\n",
              "      <td>3866.85520</td>\n",
              "      <td>0</td>\n",
              "      <td>1</td>\n",
              "      <td>1</td>\n",
              "      <td>0</td>\n",
              "      <td>0</td>\n",
              "      <td>1</td>\n",
              "      <td>0</td>\n",
              "      <td>0</td>\n",
              "    </tr>\n",
              "  </tbody>\n",
              "</table>\n",
              "</div>"
            ],
            "text/plain": [
              "   age     bmi  children  ...  region_northwest  region_southeast  region_southwest\n",
              "0   19  27.900         0  ...                 0                 0                 1\n",
              "1   18  33.770         1  ...                 0                 1                 0\n",
              "2   28  33.000         3  ...                 0                 1                 0\n",
              "3   33  22.705         0  ...                 1                 0                 0\n",
              "4   32  28.880         0  ...                 1                 0                 0\n",
              "\n",
              "[5 rows x 12 columns]"
            ]
          },
          "metadata": {
            "tags": []
          },
          "execution_count": 52
        }
      ]
    },
    {
      "cell_type": "code",
      "metadata": {
        "id": "FYHX6XajXaAf"
      },
      "source": [
        "# Creating the X and Y for training and testing.\n",
        "X = insurance_one_hot.drop(\"charges\", axis = 1)\n",
        "y = insurance_one_hot[\"charges\"]"
      ],
      "execution_count": 53,
      "outputs": []
    },
    {
      "cell_type": "code",
      "metadata": {
        "colab": {
          "base_uri": "https://localhost:8080/",
          "height": 203
        },
        "id": "mjAfYSvfXddH",
        "outputId": "bdc4daa9-5b57-4fab-b5f0-5ca9ca26df5b"
      },
      "source": [
        "X.head()"
      ],
      "execution_count": 54,
      "outputs": [
        {
          "output_type": "execute_result",
          "data": {
            "text/html": [
              "<div>\n",
              "<style scoped>\n",
              "    .dataframe tbody tr th:only-of-type {\n",
              "        vertical-align: middle;\n",
              "    }\n",
              "\n",
              "    .dataframe tbody tr th {\n",
              "        vertical-align: top;\n",
              "    }\n",
              "\n",
              "    .dataframe thead th {\n",
              "        text-align: right;\n",
              "    }\n",
              "</style>\n",
              "<table border=\"1\" class=\"dataframe\">\n",
              "  <thead>\n",
              "    <tr style=\"text-align: right;\">\n",
              "      <th></th>\n",
              "      <th>age</th>\n",
              "      <th>bmi</th>\n",
              "      <th>children</th>\n",
              "      <th>sex_female</th>\n",
              "      <th>sex_male</th>\n",
              "      <th>smoker_no</th>\n",
              "      <th>smoker_yes</th>\n",
              "      <th>region_northeast</th>\n",
              "      <th>region_northwest</th>\n",
              "      <th>region_southeast</th>\n",
              "      <th>region_southwest</th>\n",
              "    </tr>\n",
              "  </thead>\n",
              "  <tbody>\n",
              "    <tr>\n",
              "      <th>0</th>\n",
              "      <td>19</td>\n",
              "      <td>27.900</td>\n",
              "      <td>0</td>\n",
              "      <td>1</td>\n",
              "      <td>0</td>\n",
              "      <td>0</td>\n",
              "      <td>1</td>\n",
              "      <td>0</td>\n",
              "      <td>0</td>\n",
              "      <td>0</td>\n",
              "      <td>1</td>\n",
              "    </tr>\n",
              "    <tr>\n",
              "      <th>1</th>\n",
              "      <td>18</td>\n",
              "      <td>33.770</td>\n",
              "      <td>1</td>\n",
              "      <td>0</td>\n",
              "      <td>1</td>\n",
              "      <td>1</td>\n",
              "      <td>0</td>\n",
              "      <td>0</td>\n",
              "      <td>0</td>\n",
              "      <td>1</td>\n",
              "      <td>0</td>\n",
              "    </tr>\n",
              "    <tr>\n",
              "      <th>2</th>\n",
              "      <td>28</td>\n",
              "      <td>33.000</td>\n",
              "      <td>3</td>\n",
              "      <td>0</td>\n",
              "      <td>1</td>\n",
              "      <td>1</td>\n",
              "      <td>0</td>\n",
              "      <td>0</td>\n",
              "      <td>0</td>\n",
              "      <td>1</td>\n",
              "      <td>0</td>\n",
              "    </tr>\n",
              "    <tr>\n",
              "      <th>3</th>\n",
              "      <td>33</td>\n",
              "      <td>22.705</td>\n",
              "      <td>0</td>\n",
              "      <td>0</td>\n",
              "      <td>1</td>\n",
              "      <td>1</td>\n",
              "      <td>0</td>\n",
              "      <td>0</td>\n",
              "      <td>1</td>\n",
              "      <td>0</td>\n",
              "      <td>0</td>\n",
              "    </tr>\n",
              "    <tr>\n",
              "      <th>4</th>\n",
              "      <td>32</td>\n",
              "      <td>28.880</td>\n",
              "      <td>0</td>\n",
              "      <td>0</td>\n",
              "      <td>1</td>\n",
              "      <td>1</td>\n",
              "      <td>0</td>\n",
              "      <td>0</td>\n",
              "      <td>1</td>\n",
              "      <td>0</td>\n",
              "      <td>0</td>\n",
              "    </tr>\n",
              "  </tbody>\n",
              "</table>\n",
              "</div>"
            ],
            "text/plain": [
              "   age     bmi  children  ...  region_northwest  region_southeast  region_southwest\n",
              "0   19  27.900         0  ...                 0                 0                 1\n",
              "1   18  33.770         1  ...                 0                 1                 0\n",
              "2   28  33.000         3  ...                 0                 1                 0\n",
              "3   33  22.705         0  ...                 1                 0                 0\n",
              "4   32  28.880         0  ...                 1                 0                 0\n",
              "\n",
              "[5 rows x 11 columns]"
            ]
          },
          "metadata": {
            "tags": []
          },
          "execution_count": 54
        }
      ]
    },
    {
      "cell_type": "code",
      "metadata": {
        "colab": {
          "base_uri": "https://localhost:8080/"
        },
        "id": "XG5_t-5bXkLu",
        "outputId": "063c2307-8d86-40dc-9784-9bcab80d06a2"
      },
      "source": [
        "type(y)"
      ],
      "execution_count": 55,
      "outputs": [
        {
          "output_type": "execute_result",
          "data": {
            "text/plain": [
              "pandas.core.series.Series"
            ]
          },
          "metadata": {
            "tags": []
          },
          "execution_count": 55
        }
      ]
    },
    {
      "cell_type": "code",
      "metadata": {
        "colab": {
          "base_uri": "https://localhost:8080/"
        },
        "id": "j7xamm2OXglC",
        "outputId": "7ac869e9-8b6b-4610-f84b-7580317e6e7e"
      },
      "source": [
        "y.head()"
      ],
      "execution_count": 56,
      "outputs": [
        {
          "output_type": "execute_result",
          "data": {
            "text/plain": [
              "0    16884.92400\n",
              "1     1725.55230\n",
              "2     4449.46200\n",
              "3    21984.47061\n",
              "4     3866.85520\n",
              "Name: charges, dtype: float64"
            ]
          },
          "metadata": {
            "tags": []
          },
          "execution_count": 56
        }
      ]
    },
    {
      "cell_type": "code",
      "metadata": {
        "colab": {
          "base_uri": "https://localhost:8080/"
        },
        "id": "OCwC19Y9P6yb",
        "outputId": "68ba83d5-f365-4c5a-94bf-d7edabc848d7"
      },
      "source": [
        "# Creating training and test dataset.\n",
        "from sklearn.model_selection import train_test_split\n",
        "\n",
        "X_train, X_test, y_train, y_test = train_test_split(X, y, test_size = 0.2, random_state = 42)\n",
        "len(X_train), len(X_test), len(y_train), len(y_test)"
      ],
      "execution_count": 57,
      "outputs": [
        {
          "output_type": "execute_result",
          "data": {
            "text/plain": [
              "(1070, 268, 1070, 268)"
            ]
          },
          "metadata": {
            "tags": []
          },
          "execution_count": 57
        }
      ]
    },
    {
      "cell_type": "markdown",
      "metadata": {
        "id": "FriHsD1lZuon"
      },
      "source": [
        "A learning rate -- **callback**"
      ]
    },
    {
      "cell_type": "code",
      "metadata": {
        "colab": {
          "base_uri": "https://localhost:8080/"
        },
        "id": "CNUlHMqGXpPr",
        "outputId": "10b3c468-b428-4abc-faaa-3af24e5fd24a"
      },
      "source": [
        "## We will use our -- \"insurance_model_2\".\n",
        "\n",
        "# set random seed.\n",
        "tf.random.set_seed(42)\n",
        "\n",
        "# Create the model.\n",
        "insurance_model_2 = tf.keras.Sequential([\n",
        "  tf.keras.layers.Dense(100),\n",
        "  tf.keras.layers.Dense(50),\n",
        "  tf.keras.layers.Dense(25),\n",
        "  tf.keras.layers.Dense(12),\n",
        "  tf.keras.layers.Dense(6),\n",
        "  tf.keras.layers.Dense(3),\n",
        "  tf.keras.layers.Dense(2),\n",
        "  tf.keras.layers.Dense(1)\n",
        "])\n",
        "\n",
        "# Compile the model.\n",
        "insurance_model_2.compile(loss = tf.keras.losses.mae,\n",
        "                          optimizer = tf.keras.optimizers.Adam(),  # learning_rate= 0.001\n",
        "                          metrics = [\"mae\"])\n",
        "\n",
        "\n",
        "# Step deacy -- Learning rate.\n",
        "def step_decay(epoch):\n",
        "   initial_lrate = 0.1\n",
        "   drop = 0.5\n",
        "   epochs_drop = 10.0\n",
        "   lrate = initial_lrate * math.pow(drop,  \n",
        "           math.floor((1+epoch)/epochs_drop))\n",
        "   return lrate\n",
        "\n",
        "# Creating a learning rate callback.\n",
        "lr_schedule = tf.keras.callbacks.LearningRateScheduler(step_decay)   # learning rate callback\n",
        "\n",
        "\n",
        "# Fit the model.\n",
        "history_1 = insurance_model_2.fit(X_train, y_train, epochs = 100, verbose = 1, callbacks = [lr_schedule])  "
      ],
      "execution_count": 80,
      "outputs": [
        {
          "output_type": "stream",
          "text": [
            "Epoch 1/100\n",
            "34/34 [==============================] - 1s 3ms/step - loss: 8919.3184 - mae: 8919.3184\n",
            "Epoch 2/100\n",
            "34/34 [==============================] - 0s 2ms/step - loss: 7380.5088 - mae: 7380.5088\n",
            "Epoch 3/100\n",
            "34/34 [==============================] - 0s 3ms/step - loss: 5817.9414 - mae: 5817.9414\n",
            "Epoch 4/100\n",
            "34/34 [==============================] - 0s 3ms/step - loss: 4777.9814 - mae: 4777.9814\n",
            "Epoch 5/100\n",
            "34/34 [==============================] - 0s 3ms/step - loss: 5351.9287 - mae: 5351.9287\n",
            "Epoch 6/100\n",
            "34/34 [==============================] - 0s 2ms/step - loss: 4541.3667 - mae: 4541.3667\n",
            "Epoch 7/100\n",
            "34/34 [==============================] - 0s 2ms/step - loss: 4251.4443 - mae: 4251.4443\n",
            "Epoch 8/100\n",
            "34/34 [==============================] - 0s 2ms/step - loss: 4258.4028 - mae: 4258.4028\n",
            "Epoch 9/100\n",
            "34/34 [==============================] - 0s 3ms/step - loss: 4911.2183 - mae: 4911.2183\n",
            "Epoch 10/100\n",
            "34/34 [==============================] - 0s 3ms/step - loss: 3911.2310 - mae: 3911.2310\n",
            "Epoch 11/100\n",
            "34/34 [==============================] - 0s 2ms/step - loss: 3840.3794 - mae: 3840.3794\n",
            "Epoch 12/100\n",
            "34/34 [==============================] - 0s 2ms/step - loss: 3865.8550 - mae: 3865.8550\n",
            "Epoch 13/100\n",
            "34/34 [==============================] - 0s 2ms/step - loss: 4073.8445 - mae: 4073.8445\n",
            "Epoch 14/100\n",
            "34/34 [==============================] - 0s 3ms/step - loss: 4201.8140 - mae: 4201.8140\n",
            "Epoch 15/100\n",
            "34/34 [==============================] - 0s 2ms/step - loss: 4007.9617 - mae: 4007.9617\n",
            "Epoch 16/100\n",
            "34/34 [==============================] - 0s 3ms/step - loss: 4232.6045 - mae: 4232.6045\n",
            "Epoch 17/100\n",
            "34/34 [==============================] - 0s 2ms/step - loss: 3913.5959 - mae: 3913.5959\n",
            "Epoch 18/100\n",
            "34/34 [==============================] - 0s 2ms/step - loss: 3888.3704 - mae: 3888.3704\n",
            "Epoch 19/100\n",
            "34/34 [==============================] - 0s 3ms/step - loss: 3936.3557 - mae: 3936.3557\n",
            "Epoch 20/100\n",
            "34/34 [==============================] - 0s 3ms/step - loss: 4068.6472 - mae: 4068.6472\n",
            "Epoch 21/100\n",
            "34/34 [==============================] - 0s 3ms/step - loss: 3686.8735 - mae: 3686.8735\n",
            "Epoch 22/100\n",
            "34/34 [==============================] - 0s 4ms/step - loss: 3726.5925 - mae: 3726.5925\n",
            "Epoch 23/100\n",
            "34/34 [==============================] - 0s 3ms/step - loss: 3734.1833 - mae: 3734.1833\n",
            "Epoch 24/100\n",
            "34/34 [==============================] - 0s 3ms/step - loss: 3812.2854 - mae: 3812.2854\n",
            "Epoch 25/100\n",
            "34/34 [==============================] - 0s 2ms/step - loss: 3694.2300 - mae: 3694.2300\n",
            "Epoch 26/100\n",
            "34/34 [==============================] - 0s 2ms/step - loss: 3830.1177 - mae: 3830.1177\n",
            "Epoch 27/100\n",
            "34/34 [==============================] - 0s 3ms/step - loss: 3726.1338 - mae: 3726.1338\n",
            "Epoch 28/100\n",
            "34/34 [==============================] - 0s 3ms/step - loss: 3696.3066 - mae: 3696.3066\n",
            "Epoch 29/100\n",
            "34/34 [==============================] - 0s 3ms/step - loss: 3925.2249 - mae: 3925.2249\n",
            "Epoch 30/100\n",
            "34/34 [==============================] - 0s 2ms/step - loss: 3611.3904 - mae: 3611.3904\n",
            "Epoch 31/100\n",
            "34/34 [==============================] - 0s 3ms/step - loss: 3600.9233 - mae: 3600.9233\n",
            "Epoch 32/100\n",
            "34/34 [==============================] - 0s 3ms/step - loss: 3610.7524 - mae: 3610.7524\n",
            "Epoch 33/100\n",
            "34/34 [==============================] - 0s 3ms/step - loss: 3651.7327 - mae: 3651.7327\n",
            "Epoch 34/100\n",
            "34/34 [==============================] - 0s 2ms/step - loss: 3851.3235 - mae: 3851.3235\n",
            "Epoch 35/100\n",
            "34/34 [==============================] - 0s 3ms/step - loss: 3610.9221 - mae: 3610.9221\n",
            "Epoch 36/100\n",
            "34/34 [==============================] - 0s 2ms/step - loss: 3563.4983 - mae: 3563.4983\n",
            "Epoch 37/100\n",
            "34/34 [==============================] - 0s 3ms/step - loss: 3671.3167 - mae: 3671.3167\n",
            "Epoch 38/100\n",
            "34/34 [==============================] - 0s 2ms/step - loss: 3567.7908 - mae: 3567.7908\n",
            "Epoch 39/100\n",
            "34/34 [==============================] - 0s 3ms/step - loss: 3538.6436 - mae: 3538.6436\n",
            "Epoch 40/100\n",
            "34/34 [==============================] - 0s 3ms/step - loss: 3549.8306 - mae: 3549.8306\n",
            "Epoch 41/100\n",
            "34/34 [==============================] - 0s 3ms/step - loss: 3588.7139 - mae: 3588.7139\n",
            "Epoch 42/100\n",
            "34/34 [==============================] - 0s 3ms/step - loss: 3584.1858 - mae: 3584.1858\n",
            "Epoch 43/100\n",
            "34/34 [==============================] - 0s 4ms/step - loss: 3515.7917 - mae: 3515.7917\n",
            "Epoch 44/100\n",
            "34/34 [==============================] - 0s 3ms/step - loss: 3559.2234 - mae: 3559.2234\n",
            "Epoch 45/100\n",
            "34/34 [==============================] - 0s 3ms/step - loss: 3497.2908 - mae: 3497.2908\n",
            "Epoch 46/100\n",
            "34/34 [==============================] - 0s 2ms/step - loss: 3537.6997 - mae: 3537.6997\n",
            "Epoch 47/100\n",
            "34/34 [==============================] - 0s 2ms/step - loss: 3583.9805 - mae: 3583.9805\n",
            "Epoch 48/100\n",
            "34/34 [==============================] - 0s 2ms/step - loss: 3521.8613 - mae: 3521.8613\n",
            "Epoch 49/100\n",
            "34/34 [==============================] - 0s 2ms/step - loss: 3541.1045 - mae: 3541.1045\n",
            "Epoch 50/100\n",
            "34/34 [==============================] - 0s 3ms/step - loss: 3502.6975 - mae: 3502.6975\n",
            "Epoch 51/100\n",
            "34/34 [==============================] - 0s 2ms/step - loss: 3492.9534 - mae: 3492.9534\n",
            "Epoch 52/100\n",
            "34/34 [==============================] - 0s 3ms/step - loss: 3493.0005 - mae: 3493.0005\n",
            "Epoch 53/100\n",
            "34/34 [==============================] - 0s 2ms/step - loss: 3497.5029 - mae: 3497.5029\n",
            "Epoch 54/100\n",
            "34/34 [==============================] - 0s 2ms/step - loss: 3526.7009 - mae: 3526.7009\n",
            "Epoch 55/100\n",
            "34/34 [==============================] - 0s 2ms/step - loss: 3537.7239 - mae: 3537.7239\n",
            "Epoch 56/100\n",
            "34/34 [==============================] - 0s 2ms/step - loss: 3491.3237 - mae: 3491.3237\n",
            "Epoch 57/100\n",
            "34/34 [==============================] - 0s 2ms/step - loss: 3497.2581 - mae: 3497.2581\n",
            "Epoch 58/100\n",
            "34/34 [==============================] - 0s 3ms/step - loss: 3502.3284 - mae: 3502.3284\n",
            "Epoch 59/100\n",
            "34/34 [==============================] - 0s 3ms/step - loss: 3494.9248 - mae: 3494.9248\n",
            "Epoch 60/100\n",
            "34/34 [==============================] - 0s 3ms/step - loss: 3499.9202 - mae: 3499.9202\n",
            "Epoch 61/100\n",
            "34/34 [==============================] - 0s 3ms/step - loss: 3502.1406 - mae: 3502.1406\n",
            "Epoch 62/100\n",
            "34/34 [==============================] - 0s 3ms/step - loss: 3493.4209 - mae: 3493.4209\n",
            "Epoch 63/100\n",
            "34/34 [==============================] - 0s 2ms/step - loss: 3482.3088 - mae: 3482.3088\n",
            "Epoch 64/100\n",
            "34/34 [==============================] - 0s 3ms/step - loss: 3491.2510 - mae: 3491.2510\n",
            "Epoch 65/100\n",
            "34/34 [==============================] - 0s 3ms/step - loss: 3486.0679 - mae: 3486.0679\n",
            "Epoch 66/100\n",
            "34/34 [==============================] - 0s 3ms/step - loss: 3503.0413 - mae: 3503.0413\n",
            "Epoch 67/100\n",
            "34/34 [==============================] - 0s 3ms/step - loss: 3487.5669 - mae: 3487.5669\n",
            "Epoch 68/100\n",
            "34/34 [==============================] - 0s 2ms/step - loss: 3490.2275 - mae: 3490.2275\n",
            "Epoch 69/100\n",
            "34/34 [==============================] - 0s 3ms/step - loss: 3478.7798 - mae: 3478.7798\n",
            "Epoch 70/100\n",
            "34/34 [==============================] - 0s 3ms/step - loss: 3484.6523 - mae: 3484.6523\n",
            "Epoch 71/100\n",
            "34/34 [==============================] - 0s 3ms/step - loss: 3483.2378 - mae: 3483.2378\n",
            "Epoch 72/100\n",
            "34/34 [==============================] - 0s 3ms/step - loss: 3493.2961 - mae: 3493.2961\n",
            "Epoch 73/100\n",
            "34/34 [==============================] - 0s 3ms/step - loss: 3489.1677 - mae: 3489.1677\n",
            "Epoch 74/100\n",
            "34/34 [==============================] - 0s 3ms/step - loss: 3480.6204 - mae: 3480.6204\n",
            "Epoch 75/100\n",
            "34/34 [==============================] - 0s 2ms/step - loss: 3479.0952 - mae: 3479.0952\n",
            "Epoch 76/100\n",
            "34/34 [==============================] - 0s 2ms/step - loss: 3484.1387 - mae: 3484.1387\n",
            "Epoch 77/100\n",
            "34/34 [==============================] - 0s 2ms/step - loss: 3480.2554 - mae: 3480.2554\n",
            "Epoch 78/100\n",
            "34/34 [==============================] - 0s 3ms/step - loss: 3477.2563 - mae: 3477.2563\n",
            "Epoch 79/100\n",
            "34/34 [==============================] - 0s 2ms/step - loss: 3482.7368 - mae: 3482.7368\n",
            "Epoch 80/100\n",
            "34/34 [==============================] - 0s 3ms/step - loss: 3480.4866 - mae: 3480.4866\n",
            "Epoch 81/100\n",
            "34/34 [==============================] - 0s 2ms/step - loss: 3480.4548 - mae: 3480.4548\n",
            "Epoch 82/100\n",
            "34/34 [==============================] - 0s 2ms/step - loss: 3475.4431 - mae: 3475.4431\n",
            "Epoch 83/100\n",
            "34/34 [==============================] - 0s 2ms/step - loss: 3477.2358 - mae: 3477.2358\n",
            "Epoch 84/100\n",
            "34/34 [==============================] - 0s 3ms/step - loss: 3477.0576 - mae: 3477.0576\n",
            "Epoch 85/100\n",
            "34/34 [==============================] - 0s 2ms/step - loss: 3471.9441 - mae: 3471.9441\n",
            "Epoch 86/100\n",
            "34/34 [==============================] - 0s 2ms/step - loss: 3474.0083 - mae: 3474.0083\n",
            "Epoch 87/100\n",
            "34/34 [==============================] - 0s 2ms/step - loss: 3476.0249 - mae: 3476.0249\n",
            "Epoch 88/100\n",
            "34/34 [==============================] - 0s 2ms/step - loss: 3474.2800 - mae: 3474.2800\n",
            "Epoch 89/100\n",
            "34/34 [==============================] - 0s 2ms/step - loss: 3476.2358 - mae: 3476.2358\n",
            "Epoch 90/100\n",
            "34/34 [==============================] - 0s 2ms/step - loss: 3474.4639 - mae: 3474.4639\n",
            "Epoch 91/100\n",
            "34/34 [==============================] - 0s 2ms/step - loss: 3473.2661 - mae: 3473.2661\n",
            "Epoch 92/100\n",
            "34/34 [==============================] - 0s 2ms/step - loss: 3474.4143 - mae: 3474.4143\n",
            "Epoch 93/100\n",
            "34/34 [==============================] - 0s 3ms/step - loss: 3472.4473 - mae: 3472.4473\n",
            "Epoch 94/100\n",
            "34/34 [==============================] - 0s 2ms/step - loss: 3473.5854 - mae: 3473.5854\n",
            "Epoch 95/100\n",
            "34/34 [==============================] - 0s 3ms/step - loss: 3476.7075 - mae: 3476.7075\n",
            "Epoch 96/100\n",
            "34/34 [==============================] - 0s 2ms/step - loss: 3477.4185 - mae: 3477.4185\n",
            "Epoch 97/100\n",
            "34/34 [==============================] - 0s 2ms/step - loss: 3474.6931 - mae: 3474.6931\n",
            "Epoch 98/100\n",
            "34/34 [==============================] - 0s 3ms/step - loss: 3473.6892 - mae: 3473.6892\n",
            "Epoch 99/100\n",
            "34/34 [==============================] - 0s 3ms/step - loss: 3476.5798 - mae: 3476.5798\n",
            "Epoch 100/100\n",
            "34/34 [==============================] - 0s 3ms/step - loss: 3472.8838 - mae: 3472.8838\n"
          ],
          "name": "stdout"
        }
      ]
    },
    {
      "cell_type": "code",
      "metadata": {
        "colab": {
          "base_uri": "https://localhost:8080/"
        },
        "id": "EGUNXL20Zj72",
        "outputId": "6c35ffcc-c650-4646-f2ac-808334e097fc"
      },
      "source": [
        "# Evaluate the model_2\n",
        "insurance_model_2.evaluate(X_test, y_test)"
      ],
      "execution_count": 75,
      "outputs": [
        {
          "output_type": "stream",
          "text": [
            "9/9 [==============================] - 0s 2ms/step - loss: 3167.2224 - mae: 3167.2224\n"
          ],
          "name": "stdout"
        },
        {
          "output_type": "execute_result",
          "data": {
            "text/plain": [
              "[3167.222412109375, 3167.222412109375]"
            ]
          },
          "metadata": {
            "tags": []
          },
          "execution_count": 75
        }
      ]
    },
    {
      "cell_type": "code",
      "metadata": {
        "colab": {
          "base_uri": "https://localhost:8080/",
          "height": 459
        },
        "id": "FOzW2MrKja0c",
        "outputId": "3589e5f2-35bf-46c0-9ba0-d72d111ff2d1"
      },
      "source": [
        "# Model history in a dataframe.\n",
        "pd.DataFrame(history_1.history).plot(figsize = (10,7), xlabel = \"epochs\")"
      ],
      "execution_count": 112,
      "outputs": [
        {
          "output_type": "execute_result",
          "data": {
            "text/plain": [
              "<matplotlib.axes._subplots.AxesSubplot at 0x7f44de1e5a50>"
            ]
          },
          "metadata": {
            "tags": []
          },
          "execution_count": 112
        },
        {
          "output_type": "display_data",
          "data": {
            "image/png": "[encoded data removed]",
            "text/plain": [
              "<Figure size 720x504 with 1 Axes>"
            ]
          },
          "metadata": {
            "tags": [],
            "needs_background": "light"
          }
        }
      ]
    },
    {
      "cell_type": "code",
      "metadata": {
        "id": "2hF8J9V3F1qH"
      },
      "source": [
        "p = pd.DataFrame(history_1.history)"
      ],
      "execution_count": 113,
      "outputs": []
    },
    {
      "cell_type": "code",
      "metadata": {
        "colab": {
          "base_uri": "https://localhost:8080/",
          "height": 203
        },
        "id": "4YmGW__VAX8A",
        "outputId": "8fc16ab6-155a-40b3-de31-41ca22f68b98"
      },
      "source": [
        "p.head(5)"
      ],
      "execution_count": 93,
      "outputs": [
        {
          "output_type": "execute_result",
          "data": {
            "text/html": [
              "<div>\n",
              "<style scoped>\n",
              "    .dataframe tbody tr th:only-of-type {\n",
              "        vertical-align: middle;\n",
              "    }\n",
              "\n",
              "    .dataframe tbody tr th {\n",
              "        vertical-align: top;\n",
              "    }\n",
              "\n",
              "    .dataframe thead th {\n",
              "        text-align: right;\n",
              "    }\n",
              "</style>\n",
              "<table border=\"1\" class=\"dataframe\">\n",
              "  <thead>\n",
              "    <tr style=\"text-align: right;\">\n",
              "      <th></th>\n",
              "      <th>loss</th>\n",
              "      <th>mae</th>\n",
              "      <th>lr</th>\n",
              "    </tr>\n",
              "  </thead>\n",
              "  <tbody>\n",
              "    <tr>\n",
              "      <th>0</th>\n",
              "      <td>8919.318359</td>\n",
              "      <td>8919.318359</td>\n",
              "      <td>0.1</td>\n",
              "    </tr>\n",
              "    <tr>\n",
              "      <th>1</th>\n",
              "      <td>7380.508789</td>\n",
              "      <td>7380.508789</td>\n",
              "      <td>0.1</td>\n",
              "    </tr>\n",
              "    <tr>\n",
              "      <th>2</th>\n",
              "      <td>5817.941406</td>\n",
              "      <td>5817.941406</td>\n",
              "      <td>0.1</td>\n",
              "    </tr>\n",
              "    <tr>\n",
              "      <th>3</th>\n",
              "      <td>4777.981445</td>\n",
              "      <td>4777.981445</td>\n",
              "      <td>0.1</td>\n",
              "    </tr>\n",
              "    <tr>\n",
              "      <th>4</th>\n",
              "      <td>5351.928711</td>\n",
              "      <td>5351.928711</td>\n",
              "      <td>0.1</td>\n",
              "    </tr>\n",
              "  </tbody>\n",
              "</table>\n",
              "</div>"
            ],
            "text/plain": [
              "          loss          mae   lr\n",
              "0  8919.318359  8919.318359  0.1\n",
              "1  7380.508789  7380.508789  0.1\n",
              "2  5817.941406  5817.941406  0.1\n",
              "3  4777.981445  4777.981445  0.1\n",
              "4  5351.928711  5351.928711  0.1"
            ]
          },
          "metadata": {
            "tags": []
          },
          "execution_count": 93
        }
      ]
    },
    {
      "cell_type": "code",
      "metadata": {
        "colab": {
          "base_uri": "https://localhost:8080/",
          "height": 265
        },
        "id": "NXxaNUH9AjPq",
        "outputId": "922241de-0ba2-4877-db28-7ac4a12ca61c"
      },
      "source": [
        "plt.plot(history_1.history['loss'])\n",
        "plt.show()"
      ],
      "execution_count": 111,
      "outputs": [
        {
          "output_type": "display_data",
          "data": {
            "image/png": "[encoded data removed]",
            "text/plain": [
              "<Figure size 432x288 with 1 Axes>"
            ]
          },
          "metadata": {
            "tags": [],
            "needs_background": "light"
          }
        }
      ]
    },
    {
      "cell_type": "code",
      "metadata": {
        "id": "i013TRM-Eqif"
      },
      "source": [
        ""
      ],
      "execution_count": null,
      "outputs": []
    }
  ]
}