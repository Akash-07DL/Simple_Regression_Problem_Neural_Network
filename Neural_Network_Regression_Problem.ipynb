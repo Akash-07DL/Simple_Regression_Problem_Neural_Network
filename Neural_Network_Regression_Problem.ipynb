{
  "nbformat": 4,
  "nbformat_minor": 0,
  "metadata": {
    "colab": {
      "name": "Neural_Network_Regression_Problem.ipynb",
      "provenance": [],
      "collapsed_sections": [
        "doWd_fM4uSpV",
        "2nWhtVf2mLXg"
      ]
    },
    "kernelspec": {
      "name": "python3",
      "display_name": "Python 3"
    },
    "language_info": {
      "name": "python"
    }
  },
  "cells": [
    {
      "cell_type": "code",
      "metadata": {
        "id": "k7d3qXE9AJVW"
      },
      "source": [
        "# Importing Required libraries\n",
        "import numpy as np\n",
        "import pandas as pd\n",
        "import tensorflow as tf\n",
        "import matplotlib.pyplot as plt\n"
      ],
      "execution_count": 2,
      "outputs": []
    },
    {
      "cell_type": "code",
      "metadata": {
        "id": "FEretfzmShqR"
      },
      "source": [
        "# Reading the Insurance Dataset direct from github. \n",
        "# Link to view in Raw form: https://raw.githubusercontent.com/stedy/Machine-Learning-with-R-datasets/master/insurance.csv\n",
        "\n",
        "insurance_data = pd.read_csv(\"https://raw.githubusercontent.com/stedy/Machine-Learning-with-R-datasets/master/insurance.csv\")"
      ],
      "execution_count": 3,
      "outputs": []
    },
    {
      "cell_type": "code",
      "metadata": {
        "colab": {
          "base_uri": "https://localhost:8080/",
          "height": 203
        },
        "id": "ZkuEHc7aTgew",
        "outputId": "2d09a0dd-708b-4024-8ac2-9dbe94d65a86"
      },
      "source": [
        "# View the first five Column. \n",
        "insurance_data.head()"
      ],
      "execution_count": 4,
      "outputs": [
        {
          "output_type": "execute_result",
          "data": {
            "text/html": [
              "<div>\n",
              "<style scoped>\n",
              "    .dataframe tbody tr th:only-of-type {\n",
              "        vertical-align: middle;\n",
              "    }\n",
              "\n",
              "    .dataframe tbody tr th {\n",
              "        vertical-align: top;\n",
              "    }\n",
              "\n",
              "    .dataframe thead th {\n",
              "        text-align: right;\n",
              "    }\n",
              "</style>\n",
              "<table border=\"1\" class=\"dataframe\">\n",
              "  <thead>\n",
              "    <tr style=\"text-align: right;\">\n",
              "      <th></th>\n",
              "      <th>age</th>\n",
              "      <th>sex</th>\n",
              "      <th>bmi</th>\n",
              "      <th>children</th>\n",
              "      <th>smoker</th>\n",
              "      <th>region</th>\n",
              "      <th>charges</th>\n",
              "    </tr>\n",
              "  </thead>\n",
              "  <tbody>\n",
              "    <tr>\n",
              "      <th>0</th>\n",
              "      <td>19</td>\n",
              "      <td>female</td>\n",
              "      <td>27.900</td>\n",
              "      <td>0</td>\n",
              "      <td>yes</td>\n",
              "      <td>southwest</td>\n",
              "      <td>16884.92400</td>\n",
              "    </tr>\n",
              "    <tr>\n",
              "      <th>1</th>\n",
              "      <td>18</td>\n",
              "      <td>male</td>\n",
              "      <td>33.770</td>\n",
              "      <td>1</td>\n",
              "      <td>no</td>\n",
              "      <td>southeast</td>\n",
              "      <td>1725.55230</td>\n",
              "    </tr>\n",
              "    <tr>\n",
              "      <th>2</th>\n",
              "      <td>28</td>\n",
              "      <td>male</td>\n",
              "      <td>33.000</td>\n",
              "      <td>3</td>\n",
              "      <td>no</td>\n",
              "      <td>southeast</td>\n",
              "      <td>4449.46200</td>\n",
              "    </tr>\n",
              "    <tr>\n",
              "      <th>3</th>\n",
              "      <td>33</td>\n",
              "      <td>male</td>\n",
              "      <td>22.705</td>\n",
              "      <td>0</td>\n",
              "      <td>no</td>\n",
              "      <td>northwest</td>\n",
              "      <td>21984.47061</td>\n",
              "    </tr>\n",
              "    <tr>\n",
              "      <th>4</th>\n",
              "      <td>32</td>\n",
              "      <td>male</td>\n",
              "      <td>28.880</td>\n",
              "      <td>0</td>\n",
              "      <td>no</td>\n",
              "      <td>northwest</td>\n",
              "      <td>3866.85520</td>\n",
              "    </tr>\n",
              "  </tbody>\n",
              "</table>\n",
              "</div>"
            ],
            "text/plain": [
              "   age     sex     bmi  children smoker     region      charges\n",
              "0   19  female  27.900         0    yes  southwest  16884.92400\n",
              "1   18    male  33.770         1     no  southeast   1725.55230\n",
              "2   28    male  33.000         3     no  southeast   4449.46200\n",
              "3   33    male  22.705         0     no  northwest  21984.47061\n",
              "4   32    male  28.880         0     no  northwest   3866.85520"
            ]
          },
          "metadata": {
            "tags": []
          },
          "execution_count": 4
        }
      ]
    },
    {
      "cell_type": "code",
      "metadata": {
        "colab": {
          "base_uri": "https://localhost:8080/"
        },
        "id": "hMOWOOfXTjJr",
        "outputId": "a4f2888f-9aef-480a-b25d-cf6703844104"
      },
      "source": [
        "# Information about the data and features datatype in the dataframe.\n",
        "insurance_data.info()"
      ],
      "execution_count": 5,
      "outputs": [
        {
          "output_type": "stream",
          "text": [
            "<class 'pandas.core.frame.DataFrame'>\n",
            "RangeIndex: 1338 entries, 0 to 1337\n",
            "Data columns (total 7 columns):\n",
            " #   Column    Non-Null Count  Dtype  \n",
            "---  ------    --------------  -----  \n",
            " 0   age       1338 non-null   int64  \n",
            " 1   sex       1338 non-null   object \n",
            " 2   bmi       1338 non-null   float64\n",
            " 3   children  1338 non-null   int64  \n",
            " 4   smoker    1338 non-null   object \n",
            " 5   region    1338 non-null   object \n",
            " 6   charges   1338 non-null   float64\n",
            "dtypes: float64(2), int64(2), object(3)\n",
            "memory usage: 73.3+ KB\n"
          ],
          "name": "stdout"
        }
      ]
    },
    {
      "cell_type": "code",
      "metadata": {
        "colab": {
          "base_uri": "https://localhost:8080/",
          "height": 203
        },
        "id": "7JZ_cRrbT8zR",
        "outputId": "70bc20de-122d-49ea-d4d5-4ce3e879cd48"
      },
      "source": [
        "# In the dataframe, there are categorical variable. We can solve this problem by the method called - One Hot Encoding.\n",
        "insurance_one_hot = pd.get_dummies(insurance_data)\n",
        "insurance_one_hot.head()"
      ],
      "execution_count": 6,
      "outputs": [
        {
          "output_type": "execute_result",
          "data": {
            "text/html": [
              "<div>\n",
              "<style scoped>\n",
              "    .dataframe tbody tr th:only-of-type {\n",
              "        vertical-align: middle;\n",
              "    }\n",
              "\n",
              "    .dataframe tbody tr th {\n",
              "        vertical-align: top;\n",
              "    }\n",
              "\n",
              "    .dataframe thead th {\n",
              "        text-align: right;\n",
              "    }\n",
              "</style>\n",
              "<table border=\"1\" class=\"dataframe\">\n",
              "  <thead>\n",
              "    <tr style=\"text-align: right;\">\n",
              "      <th></th>\n",
              "      <th>age</th>\n",
              "      <th>bmi</th>\n",
              "      <th>children</th>\n",
              "      <th>charges</th>\n",
              "      <th>sex_female</th>\n",
              "      <th>sex_male</th>\n",
              "      <th>smoker_no</th>\n",
              "      <th>smoker_yes</th>\n",
              "      <th>region_northeast</th>\n",
              "      <th>region_northwest</th>\n",
              "      <th>region_southeast</th>\n",
              "      <th>region_southwest</th>\n",
              "    </tr>\n",
              "  </thead>\n",
              "  <tbody>\n",
              "    <tr>\n",
              "      <th>0</th>\n",
              "      <td>19</td>\n",
              "      <td>27.900</td>\n",
              "      <td>0</td>\n",
              "      <td>16884.92400</td>\n",
              "      <td>1</td>\n",
              "      <td>0</td>\n",
              "      <td>0</td>\n",
              "      <td>1</td>\n",
              "      <td>0</td>\n",
              "      <td>0</td>\n",
              "      <td>0</td>\n",
              "      <td>1</td>\n",
              "    </tr>\n",
              "    <tr>\n",
              "      <th>1</th>\n",
              "      <td>18</td>\n",
              "      <td>33.770</td>\n",
              "      <td>1</td>\n",
              "      <td>1725.55230</td>\n",
              "      <td>0</td>\n",
              "      <td>1</td>\n",
              "      <td>1</td>\n",
              "      <td>0</td>\n",
              "      <td>0</td>\n",
              "      <td>0</td>\n",
              "      <td>1</td>\n",
              "      <td>0</td>\n",
              "    </tr>\n",
              "    <tr>\n",
              "      <th>2</th>\n",
              "      <td>28</td>\n",
              "      <td>33.000</td>\n",
              "      <td>3</td>\n",
              "      <td>4449.46200</td>\n",
              "      <td>0</td>\n",
              "      <td>1</td>\n",
              "      <td>1</td>\n",
              "      <td>0</td>\n",
              "      <td>0</td>\n",
              "      <td>0</td>\n",
              "      <td>1</td>\n",
              "      <td>0</td>\n",
              "    </tr>\n",
              "    <tr>\n",
              "      <th>3</th>\n",
              "      <td>33</td>\n",
              "      <td>22.705</td>\n",
              "      <td>0</td>\n",
              "      <td>21984.47061</td>\n",
              "      <td>0</td>\n",
              "      <td>1</td>\n",
              "      <td>1</td>\n",
              "      <td>0</td>\n",
              "      <td>0</td>\n",
              "      <td>1</td>\n",
              "      <td>0</td>\n",
              "      <td>0</td>\n",
              "    </tr>\n",
              "    <tr>\n",
              "      <th>4</th>\n",
              "      <td>32</td>\n",
              "      <td>28.880</td>\n",
              "      <td>0</td>\n",
              "      <td>3866.85520</td>\n",
              "      <td>0</td>\n",
              "      <td>1</td>\n",
              "      <td>1</td>\n",
              "      <td>0</td>\n",
              "      <td>0</td>\n",
              "      <td>1</td>\n",
              "      <td>0</td>\n",
              "      <td>0</td>\n",
              "    </tr>\n",
              "  </tbody>\n",
              "</table>\n",
              "</div>"
            ],
            "text/plain": [
              "   age     bmi  children  ...  region_northwest  region_southeast  region_southwest\n",
              "0   19  27.900         0  ...                 0                 0                 1\n",
              "1   18  33.770         1  ...                 0                 1                 0\n",
              "2   28  33.000         3  ...                 0                 1                 0\n",
              "3   33  22.705         0  ...                 1                 0                 0\n",
              "4   32  28.880         0  ...                 1                 0                 0\n",
              "\n",
              "[5 rows x 12 columns]"
            ]
          },
          "metadata": {
            "tags": []
          },
          "execution_count": 6
        }
      ]
    },
    {
      "cell_type": "code",
      "metadata": {
        "id": "tHI50CNpfreA"
      },
      "source": [
        "# Creating the X and Y for training and testing.\n",
        "X = insurance_one_hot.drop(\"charges\", axis = 1)\n",
        "y = insurance_one_hot[\"charges\"]"
      ],
      "execution_count": 7,
      "outputs": []
    },
    {
      "cell_type": "code",
      "metadata": {
        "colab": {
          "base_uri": "https://localhost:8080/",
          "height": 203
        },
        "id": "Xqc2Bf_ogS03",
        "outputId": "d0066976-18f4-4e52-996b-b2ccb0152fbf"
      },
      "source": [
        "# Viewing the X data\n",
        "X.head() "
      ],
      "execution_count": 8,
      "outputs": [
        {
          "output_type": "execute_result",
          "data": {
            "text/html": [
              "<div>\n",
              "<style scoped>\n",
              "    .dataframe tbody tr th:only-of-type {\n",
              "        vertical-align: middle;\n",
              "    }\n",
              "\n",
              "    .dataframe tbody tr th {\n",
              "        vertical-align: top;\n",
              "    }\n",
              "\n",
              "    .dataframe thead th {\n",
              "        text-align: right;\n",
              "    }\n",
              "</style>\n",
              "<table border=\"1\" class=\"dataframe\">\n",
              "  <thead>\n",
              "    <tr style=\"text-align: right;\">\n",
              "      <th></th>\n",
              "      <th>age</th>\n",
              "      <th>bmi</th>\n",
              "      <th>children</th>\n",
              "      <th>sex_female</th>\n",
              "      <th>sex_male</th>\n",
              "      <th>smoker_no</th>\n",
              "      <th>smoker_yes</th>\n",
              "      <th>region_northeast</th>\n",
              "      <th>region_northwest</th>\n",
              "      <th>region_southeast</th>\n",
              "      <th>region_southwest</th>\n",
              "    </tr>\n",
              "  </thead>\n",
              "  <tbody>\n",
              "    <tr>\n",
              "      <th>0</th>\n",
              "      <td>19</td>\n",
              "      <td>27.900</td>\n",
              "      <td>0</td>\n",
              "      <td>1</td>\n",
              "      <td>0</td>\n",
              "      <td>0</td>\n",
              "      <td>1</td>\n",
              "      <td>0</td>\n",
              "      <td>0</td>\n",
              "      <td>0</td>\n",
              "      <td>1</td>\n",
              "    </tr>\n",
              "    <tr>\n",
              "      <th>1</th>\n",
              "      <td>18</td>\n",
              "      <td>33.770</td>\n",
              "      <td>1</td>\n",
              "      <td>0</td>\n",
              "      <td>1</td>\n",
              "      <td>1</td>\n",
              "      <td>0</td>\n",
              "      <td>0</td>\n",
              "      <td>0</td>\n",
              "      <td>1</td>\n",
              "      <td>0</td>\n",
              "    </tr>\n",
              "    <tr>\n",
              "      <th>2</th>\n",
              "      <td>28</td>\n",
              "      <td>33.000</td>\n",
              "      <td>3</td>\n",
              "      <td>0</td>\n",
              "      <td>1</td>\n",
              "      <td>1</td>\n",
              "      <td>0</td>\n",
              "      <td>0</td>\n",
              "      <td>0</td>\n",
              "      <td>1</td>\n",
              "      <td>0</td>\n",
              "    </tr>\n",
              "    <tr>\n",
              "      <th>3</th>\n",
              "      <td>33</td>\n",
              "      <td>22.705</td>\n",
              "      <td>0</td>\n",
              "      <td>0</td>\n",
              "      <td>1</td>\n",
              "      <td>1</td>\n",
              "      <td>0</td>\n",
              "      <td>0</td>\n",
              "      <td>1</td>\n",
              "      <td>0</td>\n",
              "      <td>0</td>\n",
              "    </tr>\n",
              "    <tr>\n",
              "      <th>4</th>\n",
              "      <td>32</td>\n",
              "      <td>28.880</td>\n",
              "      <td>0</td>\n",
              "      <td>0</td>\n",
              "      <td>1</td>\n",
              "      <td>1</td>\n",
              "      <td>0</td>\n",
              "      <td>0</td>\n",
              "      <td>1</td>\n",
              "      <td>0</td>\n",
              "      <td>0</td>\n",
              "    </tr>\n",
              "  </tbody>\n",
              "</table>\n",
              "</div>"
            ],
            "text/plain": [
              "   age     bmi  children  ...  region_northwest  region_southeast  region_southwest\n",
              "0   19  27.900         0  ...                 0                 0                 1\n",
              "1   18  33.770         1  ...                 0                 1                 0\n",
              "2   28  33.000         3  ...                 0                 1                 0\n",
              "3   33  22.705         0  ...                 1                 0                 0\n",
              "4   32  28.880         0  ...                 1                 0                 0\n",
              "\n",
              "[5 rows x 11 columns]"
            ]
          },
          "metadata": {
            "tags": []
          },
          "execution_count": 8
        }
      ]
    },
    {
      "cell_type": "code",
      "metadata": {
        "colab": {
          "base_uri": "https://localhost:8080/"
        },
        "id": "QIMCFfFHgUjQ",
        "outputId": "342c754b-c1c5-4e98-badd-0c70841ab5f3"
      },
      "source": [
        "# Viewing the y data\n",
        "y.head()"
      ],
      "execution_count": 9,
      "outputs": [
        {
          "output_type": "execute_result",
          "data": {
            "text/plain": [
              "0    16884.92400\n",
              "1     1725.55230\n",
              "2     4449.46200\n",
              "3    21984.47061\n",
              "4     3866.85520\n",
              "Name: charges, dtype: float64"
            ]
          },
          "metadata": {
            "tags": []
          },
          "execution_count": 9
        }
      ]
    },
    {
      "cell_type": "code",
      "metadata": {
        "colab": {
          "base_uri": "https://localhost:8080/"
        },
        "id": "wm8YtNsngkjJ",
        "outputId": "368ffe19-8fc7-442e-d09b-0a3da840a851"
      },
      "source": [
        "# Creating training and test dataset.\n",
        "from sklearn.model_selection import train_test_split\n",
        "\n",
        "X_train, X_test, y_train, y_test = train_test_split(X, y, test_size = 0.2, random_state = 42)\n",
        "len(X_train), len(X_test), len(y_train), len(y_test)"
      ],
      "execution_count": 10,
      "outputs": [
        {
          "output_type": "execute_result",
          "data": {
            "text/plain": [
              "(1070, 268, 1070, 268)"
            ]
          },
          "metadata": {
            "tags": []
          },
          "execution_count": 10
        }
      ]
    },
    {
      "cell_type": "markdown",
      "metadata": {
        "id": "doWd_fM4uSpV"
      },
      "source": [
        "# Try a Model"
      ]
    },
    {
      "cell_type": "code",
      "metadata": {
        "colab": {
          "base_uri": "https://localhost:8080/"
        },
        "id": "7Ei6O6uhipNn",
        "outputId": "507ecc22-d9fd-4235-a648-765abebdf048"
      },
      "source": [
        "# Manually build a network.\n",
        "#set random seed.\n",
        "tf.random.set_seed(42)\n",
        "\n",
        "# Create a model.\n",
        "insurance_model = tf.keras.Sequential([tf.keras.layers.Dense(10),tf.keras.layers.Dense(5),tf.keras.layers.Dense(3),tf.keras.layers.Dense(2),tf.keras.layers.Dense(1)])\n",
        "\n",
        "# Compile the model\n",
        "insurance_model.compile(loss = tf.keras.losses.mae,\n",
        "                        optimizer = tf.keras.optimizers.Adam(),\n",
        "                        metrics = [\"mae\"])\n",
        "\n",
        "# Fit the model\n",
        "insurance_model.fit(X_train, y_train, epochs = 100)"
      ],
      "execution_count": 11,
      "outputs": [
        {
          "output_type": "stream",
          "text": [
            "Epoch 1/100\n",
            "34/34 [==============================] - 1s 2ms/step - loss: 13322.5176 - mae: 13322.5176\n",
            "Epoch 2/100\n",
            "34/34 [==============================] - 0s 1ms/step - loss: 13300.2764 - mae: 13300.2764\n",
            "Epoch 3/100\n",
            "34/34 [==============================] - 0s 1ms/step - loss: 13257.6904 - mae: 13257.6904\n",
            "Epoch 4/100\n",
            "34/34 [==============================] - 0s 1ms/step - loss: 13169.6074 - mae: 13169.6074\n",
            "Epoch 5/100\n",
            "34/34 [==============================] - 0s 1ms/step - loss: 12984.1143 - mae: 12984.1143\n",
            "Epoch 6/100\n",
            "34/34 [==============================] - 0s 1ms/step - loss: 12608.4082 - mae: 12608.4082\n",
            "Epoch 7/100\n",
            "34/34 [==============================] - 0s 1ms/step - loss: 11903.2295 - mae: 11903.2295\n",
            "Epoch 8/100\n",
            "34/34 [==============================] - 0s 1ms/step - loss: 10732.0693 - mae: 10732.0693\n",
            "Epoch 9/100\n",
            "34/34 [==============================] - 0s 1ms/step - loss: 9226.0410 - mae: 9226.0410\n",
            "Epoch 10/100\n",
            "34/34 [==============================] - 0s 1ms/step - loss: 7918.7393 - mae: 7918.7393\n",
            "Epoch 11/100\n",
            "34/34 [==============================] - 0s 1ms/step - loss: 7516.1050 - mae: 7516.1050\n",
            "Epoch 12/100\n",
            "34/34 [==============================] - 0s 1ms/step - loss: 7479.1089 - mae: 7479.1089\n",
            "Epoch 13/100\n",
            "34/34 [==============================] - 0s 1ms/step - loss: 7465.2915 - mae: 7465.2915\n",
            "Epoch 14/100\n",
            "34/34 [==============================] - 0s 2ms/step - loss: 7449.8408 - mae: 7449.8408\n",
            "Epoch 15/100\n",
            "34/34 [==============================] - 0s 2ms/step - loss: 7438.4209 - mae: 7438.4209\n",
            "Epoch 16/100\n",
            "34/34 [==============================] - 0s 1ms/step - loss: 7423.7085 - mae: 7423.7085\n",
            "Epoch 17/100\n",
            "34/34 [==============================] - 0s 2ms/step - loss: 7411.3345 - mae: 7411.3345\n",
            "Epoch 18/100\n",
            "34/34 [==============================] - 0s 1ms/step - loss: 7396.1333 - mae: 7396.1333\n",
            "Epoch 19/100\n",
            "34/34 [==============================] - 0s 1ms/step - loss: 7382.3389 - mae: 7382.3389\n",
            "Epoch 20/100\n",
            "34/34 [==============================] - 0s 1ms/step - loss: 7368.3066 - mae: 7368.3066\n",
            "Epoch 21/100\n",
            "34/34 [==============================] - 0s 1ms/step - loss: 7357.3955 - mae: 7357.3955\n",
            "Epoch 22/100\n",
            "34/34 [==============================] - 0s 1ms/step - loss: 7341.7129 - mae: 7341.7129\n",
            "Epoch 23/100\n",
            "34/34 [==============================] - 0s 1ms/step - loss: 7327.9429 - mae: 7327.9429\n",
            "Epoch 24/100\n",
            "34/34 [==============================] - 0s 1ms/step - loss: 7313.6011 - mae: 7313.6011\n",
            "Epoch 25/100\n",
            "34/34 [==============================] - 0s 1ms/step - loss: 7314.8066 - mae: 7314.8066\n",
            "Epoch 26/100\n",
            "34/34 [==============================] - 0s 1ms/step - loss: 7288.0215 - mae: 7288.0215\n",
            "Epoch 27/100\n",
            "34/34 [==============================] - 0s 1ms/step - loss: 7272.7539 - mae: 7272.7539\n",
            "Epoch 28/100\n",
            "34/34 [==============================] - 0s 3ms/step - loss: 7259.1128 - mae: 7259.1128\n",
            "Epoch 29/100\n",
            "34/34 [==============================] - 0s 1ms/step - loss: 7246.4565 - mae: 7246.4565\n",
            "Epoch 30/100\n",
            "34/34 [==============================] - 0s 1ms/step - loss: 7232.1357 - mae: 7232.1357\n",
            "Epoch 31/100\n",
            "34/34 [==============================] - 0s 1ms/step - loss: 7217.8833 - mae: 7217.8833\n",
            "Epoch 32/100\n",
            "34/34 [==============================] - 0s 1ms/step - loss: 7207.5254 - mae: 7207.5254\n",
            "Epoch 33/100\n",
            "34/34 [==============================] - 0s 1ms/step - loss: 7190.5513 - mae: 7190.5513\n",
            "Epoch 34/100\n",
            "34/34 [==============================] - 0s 1ms/step - loss: 7175.6646 - mae: 7175.6646\n",
            "Epoch 35/100\n",
            "34/34 [==============================] - 0s 1ms/step - loss: 7160.4888 - mae: 7160.4888\n",
            "Epoch 36/100\n",
            "34/34 [==============================] - 0s 2ms/step - loss: 7144.9155 - mae: 7144.9155\n",
            "Epoch 37/100\n",
            "34/34 [==============================] - 0s 2ms/step - loss: 7127.8242 - mae: 7127.8242\n",
            "Epoch 38/100\n",
            "34/34 [==============================] - 0s 1ms/step - loss: 7114.5586 - mae: 7114.5586\n",
            "Epoch 39/100\n",
            "34/34 [==============================] - 0s 1ms/step - loss: 7095.5444 - mae: 7095.5444\n",
            "Epoch 40/100\n",
            "34/34 [==============================] - 0s 1ms/step - loss: 7079.9282 - mae: 7079.9282\n",
            "Epoch 41/100\n",
            "34/34 [==============================] - 0s 1ms/step - loss: 7063.2349 - mae: 7063.2349\n",
            "Epoch 42/100\n",
            "34/34 [==============================] - 0s 1ms/step - loss: 7052.4639 - mae: 7052.4639\n",
            "Epoch 43/100\n",
            "34/34 [==============================] - 0s 1ms/step - loss: 7032.1816 - mae: 7032.1816\n",
            "Epoch 44/100\n",
            "34/34 [==============================] - 0s 1ms/step - loss: 7011.9932 - mae: 7011.9932\n",
            "Epoch 45/100\n",
            "34/34 [==============================] - 0s 1ms/step - loss: 6996.8853 - mae: 6996.8853\n",
            "Epoch 46/100\n",
            "34/34 [==============================] - 0s 2ms/step - loss: 6978.0039 - mae: 6978.0039\n",
            "Epoch 47/100\n",
            "34/34 [==============================] - 0s 2ms/step - loss: 6963.0044 - mae: 6963.0044\n",
            "Epoch 48/100\n",
            "34/34 [==============================] - 0s 1ms/step - loss: 6938.7988 - mae: 6938.7988\n",
            "Epoch 49/100\n",
            "34/34 [==============================] - 0s 1ms/step - loss: 6922.6792 - mae: 6922.6792\n",
            "Epoch 50/100\n",
            "34/34 [==============================] - 0s 1ms/step - loss: 6901.1353 - mae: 6901.1353\n",
            "Epoch 51/100\n",
            "34/34 [==============================] - 0s 1ms/step - loss: 6884.2666 - mae: 6884.2666\n",
            "Epoch 52/100\n",
            "34/34 [==============================] - 0s 1ms/step - loss: 6865.3008 - mae: 6865.3008\n",
            "Epoch 53/100\n",
            "34/34 [==============================] - 0s 1ms/step - loss: 6841.2646 - mae: 6841.2646\n",
            "Epoch 54/100\n",
            "34/34 [==============================] - 0s 1ms/step - loss: 6818.7085 - mae: 6818.7085\n",
            "Epoch 55/100\n",
            "34/34 [==============================] - 0s 1ms/step - loss: 6798.2773 - mae: 6798.2773\n",
            "Epoch 56/100\n",
            "34/34 [==============================] - 0s 2ms/step - loss: 6774.3325 - mae: 6774.3325\n",
            "Epoch 57/100\n",
            "34/34 [==============================] - 0s 1ms/step - loss: 6751.8794 - mae: 6751.8794\n",
            "Epoch 58/100\n",
            "34/34 [==============================] - 0s 1ms/step - loss: 6727.4854 - mae: 6727.4854\n",
            "Epoch 59/100\n",
            "34/34 [==============================] - 0s 1ms/step - loss: 6703.4702 - mae: 6703.4702\n",
            "Epoch 60/100\n",
            "34/34 [==============================] - 0s 1ms/step - loss: 6680.2002 - mae: 6680.2002\n",
            "Epoch 61/100\n",
            "34/34 [==============================] - 0s 1ms/step - loss: 6657.0601 - mae: 6657.0601\n",
            "Epoch 62/100\n",
            "34/34 [==============================] - 0s 1ms/step - loss: 6630.1084 - mae: 6630.1084\n",
            "Epoch 63/100\n",
            "34/34 [==============================] - 0s 1ms/step - loss: 6606.7671 - mae: 6606.7671\n",
            "Epoch 64/100\n",
            "34/34 [==============================] - 0s 1ms/step - loss: 6584.1665 - mae: 6584.1665\n",
            "Epoch 65/100\n",
            "34/34 [==============================] - 0s 1ms/step - loss: 6562.6895 - mae: 6562.6895\n",
            "Epoch 66/100\n",
            "34/34 [==============================] - 0s 1ms/step - loss: 6542.2612 - mae: 6542.2612\n",
            "Epoch 67/100\n",
            "34/34 [==============================] - 0s 1ms/step - loss: 6522.7964 - mae: 6522.7964\n",
            "Epoch 68/100\n",
            "34/34 [==============================] - 0s 1ms/step - loss: 6506.1919 - mae: 6506.1919\n",
            "Epoch 69/100\n",
            "34/34 [==============================] - 0s 1ms/step - loss: 6493.8916 - mae: 6493.8916\n",
            "Epoch 70/100\n",
            "34/34 [==============================] - 0s 1ms/step - loss: 6479.0962 - mae: 6479.0962\n",
            "Epoch 71/100\n",
            "34/34 [==============================] - 0s 1ms/step - loss: 6468.7212 - mae: 6468.7212\n",
            "Epoch 72/100\n",
            "34/34 [==============================] - 0s 1ms/step - loss: 6459.6250 - mae: 6459.6250\n",
            "Epoch 73/100\n",
            "34/34 [==============================] - 0s 1ms/step - loss: 6453.4121 - mae: 6453.4121\n",
            "Epoch 74/100\n",
            "34/34 [==============================] - 0s 2ms/step - loss: 6438.7310 - mae: 6438.7310\n",
            "Epoch 75/100\n",
            "34/34 [==============================] - 0s 1ms/step - loss: 6433.2793 - mae: 6433.2793\n",
            "Epoch 76/100\n",
            "34/34 [==============================] - 0s 2ms/step - loss: 6430.0059 - mae: 6430.0059\n",
            "Epoch 77/100\n",
            "34/34 [==============================] - 0s 2ms/step - loss: 6409.5068 - mae: 6409.5068\n",
            "Epoch 78/100\n",
            "34/34 [==============================] - 0s 2ms/step - loss: 6402.2900 - mae: 6402.2900\n",
            "Epoch 79/100\n",
            "34/34 [==============================] - 0s 1ms/step - loss: 6391.6885 - mae: 6391.6885\n",
            "Epoch 80/100\n",
            "34/34 [==============================] - 0s 1ms/step - loss: 6384.0186 - mae: 6384.0186\n",
            "Epoch 81/100\n",
            "34/34 [==============================] - 0s 1ms/step - loss: 6374.3354 - mae: 6374.3354\n",
            "Epoch 82/100\n",
            "34/34 [==============================] - 0s 1ms/step - loss: 6366.8423 - mae: 6366.8423\n",
            "Epoch 83/100\n",
            "34/34 [==============================] - 0s 1ms/step - loss: 6356.5869 - mae: 6356.5869\n",
            "Epoch 84/100\n",
            "34/34 [==============================] - 0s 1ms/step - loss: 6343.1416 - mae: 6343.1416\n",
            "Epoch 85/100\n",
            "34/34 [==============================] - 0s 1ms/step - loss: 6336.5200 - mae: 6336.5200\n",
            "Epoch 86/100\n",
            "34/34 [==============================] - 0s 1ms/step - loss: 6324.5649 - mae: 6324.5649\n",
            "Epoch 87/100\n",
            "34/34 [==============================] - 0s 1ms/step - loss: 6316.1187 - mae: 6316.1187\n",
            "Epoch 88/100\n",
            "34/34 [==============================] - 0s 1ms/step - loss: 6305.2222 - mae: 6305.2222\n",
            "Epoch 89/100\n",
            "34/34 [==============================] - 0s 1ms/step - loss: 6297.4878 - mae: 6297.4878\n",
            "Epoch 90/100\n",
            "34/34 [==============================] - 0s 2ms/step - loss: 6284.2920 - mae: 6284.2920\n",
            "Epoch 91/100\n",
            "34/34 [==============================] - 0s 1ms/step - loss: 6274.1924 - mae: 6274.1924\n",
            "Epoch 92/100\n",
            "34/34 [==============================] - 0s 2ms/step - loss: 6265.8564 - mae: 6265.8564\n",
            "Epoch 93/100\n",
            "34/34 [==============================] - 0s 1ms/step - loss: 6251.0991 - mae: 6251.0991\n",
            "Epoch 94/100\n",
            "34/34 [==============================] - 0s 1ms/step - loss: 6242.0859 - mae: 6242.0859\n",
            "Epoch 95/100\n",
            "34/34 [==============================] - 0s 1ms/step - loss: 6229.3433 - mae: 6229.3433\n",
            "Epoch 96/100\n",
            "34/34 [==============================] - 0s 1ms/step - loss: 6216.8452 - mae: 6216.8452\n",
            "Epoch 97/100\n",
            "34/34 [==============================] - 0s 1ms/step - loss: 6205.0381 - mae: 6205.0381\n",
            "Epoch 98/100\n",
            "34/34 [==============================] - 0s 2ms/step - loss: 6191.7046 - mae: 6191.7046\n",
            "Epoch 99/100\n",
            "34/34 [==============================] - 0s 2ms/step - loss: 6178.3945 - mae: 6178.3945\n",
            "Epoch 100/100\n",
            "34/34 [==============================] - 0s 1ms/step - loss: 6165.5264 - mae: 6165.5264\n"
          ],
          "name": "stdout"
        },
        {
          "output_type": "execute_result",
          "data": {
            "text/plain": [
              "<tensorflow.python.keras.callbacks.History at 0x7f421d453c10>"
            ]
          },
          "metadata": {
            "tags": []
          },
          "execution_count": 11
        }
      ]
    },
    {
      "cell_type": "code",
      "metadata": {
        "colab": {
          "base_uri": "https://localhost:8080/"
        },
        "id": "_fS7d6pxKQd-",
        "outputId": "aea2ad1a-896c-417b-af0e-b4b9a7ae6794"
      },
      "source": [
        "# Check the model summary\n",
        "insurance_model.summary()"
      ],
      "execution_count": 12,
      "outputs": [
        {
          "output_type": "stream",
          "text": [
            "Model: \"sequential\"\n",
            "_________________________________________________________________\n",
            "Layer (type)                 Output Shape              Param #   \n",
            "=================================================================\n",
            "dense (Dense)                (None, 10)                120       \n",
            "_________________________________________________________________\n",
            "dense_1 (Dense)              (None, 5)                 55        \n",
            "_________________________________________________________________\n",
            "dense_2 (Dense)              (None, 3)                 18        \n",
            "_________________________________________________________________\n",
            "dense_3 (Dense)              (None, 2)                 8         \n",
            "_________________________________________________________________\n",
            "dense_4 (Dense)              (None, 1)                 3         \n",
            "=================================================================\n",
            "Total params: 204\n",
            "Trainable params: 204\n",
            "Non-trainable params: 0\n",
            "_________________________________________________________________\n"
          ],
          "name": "stdout"
        }
      ]
    },
    {
      "cell_type": "code",
      "metadata": {
        "colab": {
          "base_uri": "https://localhost:8080/"
        },
        "id": "zw4Zt1W_iwtw",
        "outputId": "998a63f1-8a8b-4732-9549-22a70a53a195"
      },
      "source": [
        "insurance_model.evaluate(X_test, y_test)"
      ],
      "execution_count": 13,
      "outputs": [
        {
          "output_type": "stream",
          "text": [
            "9/9 [==============================] - 0s 2ms/step - loss: 6009.1719 - mae: 6009.1719\n"
          ],
          "name": "stdout"
        },
        {
          "output_type": "execute_result",
          "data": {
            "text/plain": [
              "[6009.171875, 6009.171875]"
            ]
          },
          "metadata": {
            "tags": []
          },
          "execution_count": 13
        }
      ]
    },
    {
      "cell_type": "code",
      "metadata": {
        "colab": {
          "base_uri": "https://localhost:8080/"
        },
        "id": "hRriftfGl01M",
        "outputId": "06907ed6-94e2-43a5-d1f3-2e787cc223b4"
      },
      "source": [
        "y_train.median(), y_train.mean()"
      ],
      "execution_count": 14,
      "outputs": [
        {
          "output_type": "execute_result",
          "data": {
            "text/plain": [
              "(9575.4421, 13346.089736364489)"
            ]
          },
          "metadata": {
            "tags": []
          },
          "execution_count": 14
        }
      ]
    },
    {
      "cell_type": "markdown",
      "metadata": {
        "id": "2nWhtVf2mLXg"
      },
      "source": [
        "# Now, let's try to improve our model.\n",
        "\n",
        "\n",
        "1.   Try to add extra nodes.\n",
        "2.   Try to add extra layer.\n",
        "3.   Train for longer.\n",
        "\n"
      ]
    },
    {
      "cell_type": "code",
      "metadata": {
        "colab": {
          "base_uri": "https://localhost:8080/"
        },
        "id": "Ck0gnWz4mKUa",
        "outputId": "a5886766-a92c-4b3d-a223-13611b4f6da4"
      },
      "source": [
        "# set random seed.\n",
        "tf.random.set_seed(42)\n",
        "\n",
        "# Create the model.\n",
        "insurance_model_2 = tf.keras.Sequential([\n",
        "  tf.keras.layers.Dense(100),\n",
        "  tf.keras.layers.Dense(50),\n",
        "  tf.keras.layers.Dense(25),\n",
        "  tf.keras.layers.Dense(12),\n",
        "  tf.keras.layers.Dense(6),\n",
        "  tf.keras.layers.Dense(3),\n",
        "  tf.keras.layers.Dense(2),\n",
        "  tf.keras.layers.Dense(1)\n",
        "])\n",
        "\n",
        "# Compile the model.\n",
        "insurance_model_2.compile(loss = tf.keras.losses.mae,\n",
        "                          optimizer = tf.keras.optimizers.Adam(learning_rate= 0.001),\n",
        "                          metrics = [\"mae\"])\n",
        "\n",
        "# Fit the model.\n",
        "history = insurance_model_2.fit(X_train, y_train, epochs = 200, verbose = 1)"
      ],
      "execution_count": 15,
      "outputs": [
        {
          "output_type": "stream",
          "text": [
            "Epoch 1/200\n",
            "34/34 [==============================] - 1s 2ms/step - loss: 13284.2939 - mae: 13284.2939\n",
            "Epoch 2/200\n",
            "34/34 [==============================] - 0s 2ms/step - loss: 11509.9854 - mae: 11509.9854\n",
            "Epoch 3/200\n",
            "34/34 [==============================] - 0s 2ms/step - loss: 7490.5112 - mae: 7490.5112\n",
            "Epoch 4/200\n",
            "34/34 [==============================] - 0s 2ms/step - loss: 7314.7617 - mae: 7314.7617\n",
            "Epoch 5/200\n",
            "34/34 [==============================] - 0s 2ms/step - loss: 7232.9731 - mae: 7232.9731\n",
            "Epoch 6/200\n",
            "34/34 [==============================] - 0s 2ms/step - loss: 7124.5864 - mae: 7124.5864\n",
            "Epoch 7/200\n",
            "34/34 [==============================] - 0s 2ms/step - loss: 7003.8281 - mae: 7003.8281\n",
            "Epoch 8/200\n",
            "34/34 [==============================] - 0s 2ms/step - loss: 6861.8672 - mae: 6861.8672\n",
            "Epoch 9/200\n",
            "34/34 [==============================] - 0s 2ms/step - loss: 6720.6060 - mae: 6720.6060\n",
            "Epoch 10/200\n",
            "34/34 [==============================] - 0s 2ms/step - loss: 6624.3857 - mae: 6624.3857\n",
            "Epoch 11/200\n",
            "34/34 [==============================] - 0s 2ms/step - loss: 6626.6279 - mae: 6626.6279\n",
            "Epoch 12/200\n",
            "34/34 [==============================] - 0s 2ms/step - loss: 6565.5352 - mae: 6565.5352\n",
            "Epoch 13/200\n",
            "34/34 [==============================] - 0s 2ms/step - loss: 6502.3965 - mae: 6502.3965\n",
            "Epoch 14/200\n",
            "34/34 [==============================] - 0s 2ms/step - loss: 6475.6523 - mae: 6475.6523\n",
            "Epoch 15/200\n",
            "34/34 [==============================] - 0s 2ms/step - loss: 6451.0591 - mae: 6451.0591\n",
            "Epoch 16/200\n",
            "34/34 [==============================] - 0s 2ms/step - loss: 6381.7617 - mae: 6381.7617\n",
            "Epoch 17/200\n",
            "34/34 [==============================] - 0s 2ms/step - loss: 6336.1353 - mae: 6336.1353\n",
            "Epoch 18/200\n",
            "34/34 [==============================] - 0s 2ms/step - loss: 6277.9341 - mae: 6277.9341\n",
            "Epoch 19/200\n",
            "34/34 [==============================] - 0s 2ms/step - loss: 6222.6401 - mae: 6222.6401\n",
            "Epoch 20/200\n",
            "34/34 [==============================] - 0s 2ms/step - loss: 6152.0000 - mae: 6152.0000\n",
            "Epoch 21/200\n",
            "34/34 [==============================] - 0s 2ms/step - loss: 6052.0259 - mae: 6052.0259\n",
            "Epoch 22/200\n",
            "34/34 [==============================] - 0s 2ms/step - loss: 5946.9375 - mae: 5946.9375\n",
            "Epoch 23/200\n",
            "34/34 [==============================] - 0s 2ms/step - loss: 5835.0249 - mae: 5835.0249\n",
            "Epoch 24/200\n",
            "34/34 [==============================] - 0s 2ms/step - loss: 5640.8184 - mae: 5640.8184\n",
            "Epoch 25/200\n",
            "34/34 [==============================] - 0s 2ms/step - loss: 5307.0898 - mae: 5307.0898\n",
            "Epoch 26/200\n",
            "34/34 [==============================] - 0s 2ms/step - loss: 4764.0103 - mae: 4764.0103\n",
            "Epoch 27/200\n",
            "34/34 [==============================] - 0s 2ms/step - loss: 4082.6846 - mae: 4082.6846\n",
            "Epoch 28/200\n",
            "34/34 [==============================] - 0s 2ms/step - loss: 3924.6780 - mae: 3924.6780\n",
            "Epoch 29/200\n",
            "34/34 [==============================] - 0s 2ms/step - loss: 3901.9963 - mae: 3901.9963\n",
            "Epoch 30/200\n",
            "34/34 [==============================] - 0s 2ms/step - loss: 3872.3008 - mae: 3872.3008\n",
            "Epoch 31/200\n",
            "34/34 [==============================] - 0s 2ms/step - loss: 3840.6399 - mae: 3840.6399\n",
            "Epoch 32/200\n",
            "34/34 [==============================] - 0s 2ms/step - loss: 3801.3281 - mae: 3801.3281\n",
            "Epoch 33/200\n",
            "34/34 [==============================] - 0s 2ms/step - loss: 3855.0698 - mae: 3855.0698\n",
            "Epoch 34/200\n",
            "34/34 [==============================] - 0s 2ms/step - loss: 3976.0234 - mae: 3976.0234\n",
            "Epoch 35/200\n",
            "34/34 [==============================] - 0s 2ms/step - loss: 3777.3154 - mae: 3777.3154\n",
            "Epoch 36/200\n",
            "34/34 [==============================] - 0s 2ms/step - loss: 3773.2158 - mae: 3773.2158\n",
            "Epoch 37/200\n",
            "34/34 [==============================] - 0s 2ms/step - loss: 3761.6714 - mae: 3761.6714\n",
            "Epoch 38/200\n",
            "34/34 [==============================] - 0s 2ms/step - loss: 3748.2798 - mae: 3748.2798\n",
            "Epoch 39/200\n",
            "34/34 [==============================] - 0s 2ms/step - loss: 3780.5747 - mae: 3780.5747\n",
            "Epoch 40/200\n",
            "34/34 [==============================] - 0s 2ms/step - loss: 3755.9653 - mae: 3755.9653\n",
            "Epoch 41/200\n",
            "34/34 [==============================] - 0s 2ms/step - loss: 3863.4741 - mae: 3863.4741\n",
            "Epoch 42/200\n",
            "34/34 [==============================] - 0s 2ms/step - loss: 3839.5266 - mae: 3839.5266\n",
            "Epoch 43/200\n",
            "34/34 [==============================] - 0s 2ms/step - loss: 3750.5896 - mae: 3750.5896\n",
            "Epoch 44/200\n",
            "34/34 [==============================] - 0s 2ms/step - loss: 3773.1272 - mae: 3773.1272\n",
            "Epoch 45/200\n",
            "34/34 [==============================] - 0s 2ms/step - loss: 3732.1770 - mae: 3732.1770\n",
            "Epoch 46/200\n",
            "34/34 [==============================] - 0s 2ms/step - loss: 3706.2417 - mae: 3706.2417\n",
            "Epoch 47/200\n",
            "34/34 [==============================] - 0s 2ms/step - loss: 3755.7651 - mae: 3755.7651\n",
            "Epoch 48/200\n",
            "34/34 [==============================] - 0s 2ms/step - loss: 3705.6709 - mae: 3705.6709\n",
            "Epoch 49/200\n",
            "34/34 [==============================] - 0s 2ms/step - loss: 3686.4683 - mae: 3686.4683\n",
            "Epoch 50/200\n",
            "34/34 [==============================] - 0s 2ms/step - loss: 3675.4075 - mae: 3675.4075\n",
            "Epoch 51/200\n",
            "34/34 [==============================] - 0s 2ms/step - loss: 3662.1577 - mae: 3662.1577\n",
            "Epoch 52/200\n",
            "34/34 [==============================] - 0s 2ms/step - loss: 3633.2012 - mae: 3633.2012\n",
            "Epoch 53/200\n",
            "34/34 [==============================] - 0s 2ms/step - loss: 3641.1953 - mae: 3641.1953\n",
            "Epoch 54/200\n",
            "34/34 [==============================] - 0s 2ms/step - loss: 3696.9521 - mae: 3696.9521\n",
            "Epoch 55/200\n",
            "34/34 [==============================] - 0s 2ms/step - loss: 3724.4873 - mae: 3724.4873\n",
            "Epoch 56/200\n",
            "34/34 [==============================] - 0s 2ms/step - loss: 3594.7600 - mae: 3594.7600\n",
            "Epoch 57/200\n",
            "34/34 [==============================] - 0s 2ms/step - loss: 3603.1272 - mae: 3603.1272\n",
            "Epoch 58/200\n",
            "34/34 [==============================] - 0s 2ms/step - loss: 3639.9231 - mae: 3639.9231\n",
            "Epoch 59/200\n",
            "34/34 [==============================] - 0s 2ms/step - loss: 3583.1760 - mae: 3583.1760\n",
            "Epoch 60/200\n",
            "34/34 [==============================] - 0s 2ms/step - loss: 3598.1917 - mae: 3598.1917\n",
            "Epoch 61/200\n",
            "34/34 [==============================] - 0s 2ms/step - loss: 3584.7288 - mae: 3584.7288\n",
            "Epoch 62/200\n",
            "34/34 [==============================] - 0s 2ms/step - loss: 3618.6433 - mae: 3618.6433\n",
            "Epoch 63/200\n",
            "34/34 [==============================] - 0s 2ms/step - loss: 3602.4116 - mae: 3602.4116\n",
            "Epoch 64/200\n",
            "34/34 [==============================] - 0s 2ms/step - loss: 3551.1619 - mae: 3551.1619\n",
            "Epoch 65/200\n",
            "34/34 [==============================] - 0s 2ms/step - loss: 3615.0500 - mae: 3615.0500\n",
            "Epoch 66/200\n",
            "34/34 [==============================] - 0s 2ms/step - loss: 3589.2991 - mae: 3589.2991\n",
            "Epoch 67/200\n",
            "34/34 [==============================] - 0s 2ms/step - loss: 3521.2073 - mae: 3521.2073\n",
            "Epoch 68/200\n",
            "34/34 [==============================] - 0s 2ms/step - loss: 3548.7961 - mae: 3548.7961\n",
            "Epoch 69/200\n",
            "34/34 [==============================] - 0s 2ms/step - loss: 3526.5237 - mae: 3526.5237\n",
            "Epoch 70/200\n",
            "34/34 [==============================] - 0s 2ms/step - loss: 3553.1167 - mae: 3553.1167\n",
            "Epoch 71/200\n",
            "34/34 [==============================] - 0s 2ms/step - loss: 3511.3206 - mae: 3511.3206\n",
            "Epoch 72/200\n",
            "34/34 [==============================] - 0s 2ms/step - loss: 3546.6958 - mae: 3546.6958\n",
            "Epoch 73/200\n",
            "34/34 [==============================] - 0s 2ms/step - loss: 3524.6833 - mae: 3524.6833\n",
            "Epoch 74/200\n",
            "34/34 [==============================] - 0s 2ms/step - loss: 3519.3682 - mae: 3519.3682\n",
            "Epoch 75/200\n",
            "34/34 [==============================] - 0s 2ms/step - loss: 3531.2004 - mae: 3531.2004\n",
            "Epoch 76/200\n",
            "34/34 [==============================] - 0s 2ms/step - loss: 3554.2161 - mae: 3554.2161\n",
            "Epoch 77/200\n",
            "34/34 [==============================] - 0s 2ms/step - loss: 3547.2874 - mae: 3547.2874\n",
            "Epoch 78/200\n",
            "34/34 [==============================] - 0s 2ms/step - loss: 3573.3850 - mae: 3573.3850\n",
            "Epoch 79/200\n",
            "34/34 [==============================] - 0s 2ms/step - loss: 3561.6147 - mae: 3561.6147\n",
            "Epoch 80/200\n",
            "34/34 [==============================] - 0s 2ms/step - loss: 3515.1833 - mae: 3515.1833\n",
            "Epoch 81/200\n",
            "34/34 [==============================] - 0s 2ms/step - loss: 3537.6533 - mae: 3537.6533\n",
            "Epoch 82/200\n",
            "34/34 [==============================] - 0s 2ms/step - loss: 3527.6506 - mae: 3527.6506\n",
            "Epoch 83/200\n",
            "34/34 [==============================] - 0s 2ms/step - loss: 3527.6760 - mae: 3527.6760\n",
            "Epoch 84/200\n",
            "34/34 [==============================] - 0s 2ms/step - loss: 3498.1636 - mae: 3498.1636\n",
            "Epoch 85/200\n",
            "34/34 [==============================] - 0s 2ms/step - loss: 3494.5911 - mae: 3494.5911\n",
            "Epoch 86/200\n",
            "34/34 [==============================] - 0s 2ms/step - loss: 3514.4580 - mae: 3514.4580\n",
            "Epoch 87/200\n",
            "34/34 [==============================] - 0s 2ms/step - loss: 3538.3638 - mae: 3538.3638\n",
            "Epoch 88/200\n",
            "34/34 [==============================] - 0s 2ms/step - loss: 3509.9312 - mae: 3509.9312\n",
            "Epoch 89/200\n",
            "34/34 [==============================] - 0s 2ms/step - loss: 3544.3096 - mae: 3544.3096\n",
            "Epoch 90/200\n",
            "34/34 [==============================] - 0s 2ms/step - loss: 3533.1064 - mae: 3533.1064\n",
            "Epoch 91/200\n",
            "34/34 [==============================] - 0s 2ms/step - loss: 3551.2122 - mae: 3551.2122\n",
            "Epoch 92/200\n",
            "34/34 [==============================] - 0s 2ms/step - loss: 3569.7026 - mae: 3569.7026\n",
            "Epoch 93/200\n",
            "34/34 [==============================] - 0s 2ms/step - loss: 3546.8125 - mae: 3546.8125\n",
            "Epoch 94/200\n",
            "34/34 [==============================] - 0s 2ms/step - loss: 3550.9524 - mae: 3550.9524\n",
            "Epoch 95/200\n",
            "34/34 [==============================] - 0s 2ms/step - loss: 3595.6389 - mae: 3595.6389\n",
            "Epoch 96/200\n",
            "34/34 [==============================] - 0s 2ms/step - loss: 3523.5386 - mae: 3523.5386\n",
            "Epoch 97/200\n",
            "34/34 [==============================] - 0s 3ms/step - loss: 3546.1714 - mae: 3546.1714\n",
            "Epoch 98/200\n",
            "34/34 [==============================] - 0s 2ms/step - loss: 3521.9290 - mae: 3521.9290\n",
            "Epoch 99/200\n",
            "34/34 [==============================] - 0s 2ms/step - loss: 3511.2766 - mae: 3511.2766\n",
            "Epoch 100/200\n",
            "34/34 [==============================] - 0s 2ms/step - loss: 3507.8928 - mae: 3507.8928\n",
            "Epoch 101/200\n",
            "34/34 [==============================] - 0s 2ms/step - loss: 3490.5518 - mae: 3490.5518\n",
            "Epoch 102/200\n",
            "34/34 [==============================] - 0s 2ms/step - loss: 3518.6609 - mae: 3518.6609\n",
            "Epoch 103/200\n",
            "34/34 [==============================] - 0s 2ms/step - loss: 3520.0225 - mae: 3520.0225\n",
            "Epoch 104/200\n",
            "34/34 [==============================] - 0s 2ms/step - loss: 3501.4387 - mae: 3501.4387\n",
            "Epoch 105/200\n",
            "34/34 [==============================] - 0s 2ms/step - loss: 3543.0291 - mae: 3543.0291\n",
            "Epoch 106/200\n",
            "34/34 [==============================] - 0s 2ms/step - loss: 3526.8306 - mae: 3526.8306\n",
            "Epoch 107/200\n",
            "34/34 [==============================] - 0s 2ms/step - loss: 3540.2290 - mae: 3540.2290\n",
            "Epoch 108/200\n",
            "34/34 [==============================] - 0s 2ms/step - loss: 3512.8875 - mae: 3512.8875\n",
            "Epoch 109/200\n",
            "34/34 [==============================] - 0s 2ms/step - loss: 3616.5000 - mae: 3616.5000\n",
            "Epoch 110/200\n",
            "34/34 [==============================] - 0s 2ms/step - loss: 3513.4065 - mae: 3513.4065\n",
            "Epoch 111/200\n",
            "34/34 [==============================] - 0s 2ms/step - loss: 3520.6636 - mae: 3520.6636\n",
            "Epoch 112/200\n",
            "34/34 [==============================] - 0s 2ms/step - loss: 3509.8320 - mae: 3509.8320\n",
            "Epoch 113/200\n",
            "34/34 [==============================] - 0s 2ms/step - loss: 3560.8953 - mae: 3560.8953\n",
            "Epoch 114/200\n",
            "34/34 [==============================] - 0s 2ms/step - loss: 3553.4670 - mae: 3553.4670\n",
            "Epoch 115/200\n",
            "34/34 [==============================] - 0s 2ms/step - loss: 3570.8777 - mae: 3570.8777\n",
            "Epoch 116/200\n",
            "34/34 [==============================] - 0s 2ms/step - loss: 3513.3867 - mae: 3513.3867\n",
            "Epoch 117/200\n",
            "34/34 [==============================] - 0s 2ms/step - loss: 3507.6003 - mae: 3507.6003\n",
            "Epoch 118/200\n",
            "34/34 [==============================] - 0s 2ms/step - loss: 3532.7761 - mae: 3532.7761\n",
            "Epoch 119/200\n",
            "34/34 [==============================] - 0s 2ms/step - loss: 3531.5281 - mae: 3531.5281\n",
            "Epoch 120/200\n",
            "34/34 [==============================] - 0s 2ms/step - loss: 3494.9482 - mae: 3494.9482\n",
            "Epoch 121/200\n",
            "34/34 [==============================] - 0s 2ms/step - loss: 3494.0220 - mae: 3494.0220\n",
            "Epoch 122/200\n",
            "34/34 [==============================] - 0s 2ms/step - loss: 3507.0977 - mae: 3507.0977\n",
            "Epoch 123/200\n",
            "34/34 [==============================] - 0s 2ms/step - loss: 3509.4290 - mae: 3509.4290\n",
            "Epoch 124/200\n",
            "34/34 [==============================] - 0s 2ms/step - loss: 3516.3599 - mae: 3516.3599\n",
            "Epoch 125/200\n",
            "34/34 [==============================] - 0s 2ms/step - loss: 3544.3953 - mae: 3544.3953\n",
            "Epoch 126/200\n",
            "34/34 [==============================] - 0s 2ms/step - loss: 3523.3171 - mae: 3523.3171\n",
            "Epoch 127/200\n",
            "34/34 [==============================] - 0s 2ms/step - loss: 3565.8618 - mae: 3565.8618\n",
            "Epoch 128/200\n",
            "34/34 [==============================] - 0s 2ms/step - loss: 3637.7803 - mae: 3637.7803\n",
            "Epoch 129/200\n",
            "34/34 [==============================] - 0s 2ms/step - loss: 3526.1494 - mae: 3526.1494\n",
            "Epoch 130/200\n",
            "34/34 [==============================] - 0s 2ms/step - loss: 3616.5320 - mae: 3616.5320\n",
            "Epoch 131/200\n",
            "34/34 [==============================] - 0s 2ms/step - loss: 3538.9431 - mae: 3538.9431\n",
            "Epoch 132/200\n",
            "34/34 [==============================] - 0s 2ms/step - loss: 3512.2844 - mae: 3512.2844\n",
            "Epoch 133/200\n",
            "34/34 [==============================] - 0s 2ms/step - loss: 3509.2610 - mae: 3509.2610\n",
            "Epoch 134/200\n",
            "34/34 [==============================] - 0s 2ms/step - loss: 3535.0308 - mae: 3535.0308\n",
            "Epoch 135/200\n",
            "34/34 [==============================] - 0s 2ms/step - loss: 3540.8076 - mae: 3540.8076\n",
            "Epoch 136/200\n",
            "34/34 [==============================] - 0s 2ms/step - loss: 3499.1228 - mae: 3499.1228\n",
            "Epoch 137/200\n",
            "34/34 [==============================] - 0s 2ms/step - loss: 3521.7131 - mae: 3521.7131\n",
            "Epoch 138/200\n",
            "34/34 [==============================] - 0s 2ms/step - loss: 3518.1497 - mae: 3518.1497\n",
            "Epoch 139/200\n",
            "34/34 [==============================] - 0s 2ms/step - loss: 3531.5813 - mae: 3531.5813\n",
            "Epoch 140/200\n",
            "34/34 [==============================] - 0s 2ms/step - loss: 3525.2776 - mae: 3525.2776\n",
            "Epoch 141/200\n",
            "34/34 [==============================] - 0s 2ms/step - loss: 3544.6985 - mae: 3544.6985\n",
            "Epoch 142/200\n",
            "34/34 [==============================] - 0s 2ms/step - loss: 3502.7017 - mae: 3502.7017\n",
            "Epoch 143/200\n",
            "34/34 [==============================] - 0s 2ms/step - loss: 3498.1272 - mae: 3498.1272\n",
            "Epoch 144/200\n",
            "34/34 [==============================] - 0s 2ms/step - loss: 3508.8147 - mae: 3508.8147\n",
            "Epoch 145/200\n",
            "34/34 [==============================] - 0s 2ms/step - loss: 3533.7986 - mae: 3533.7986\n",
            "Epoch 146/200\n",
            "34/34 [==============================] - 0s 2ms/step - loss: 3530.3315 - mae: 3530.3315\n",
            "Epoch 147/200\n",
            "34/34 [==============================] - 0s 2ms/step - loss: 3549.9058 - mae: 3549.9058\n",
            "Epoch 148/200\n",
            "34/34 [==============================] - 0s 2ms/step - loss: 3526.5808 - mae: 3526.5808\n",
            "Epoch 149/200\n",
            "34/34 [==============================] - 0s 2ms/step - loss: 3518.9355 - mae: 3518.9355\n",
            "Epoch 150/200\n",
            "34/34 [==============================] - 0s 2ms/step - loss: 3503.4236 - mae: 3503.4236\n",
            "Epoch 151/200\n",
            "34/34 [==============================] - 0s 2ms/step - loss: 3497.7676 - mae: 3497.7676\n",
            "Epoch 152/200\n",
            "34/34 [==============================] - 0s 2ms/step - loss: 3542.7546 - mae: 3542.7546\n",
            "Epoch 153/200\n",
            "34/34 [==============================] - 0s 2ms/step - loss: 3550.7292 - mae: 3550.7292\n",
            "Epoch 154/200\n",
            "34/34 [==============================] - 0s 2ms/step - loss: 3540.5562 - mae: 3540.5562\n",
            "Epoch 155/200\n",
            "34/34 [==============================] - 0s 3ms/step - loss: 3512.9277 - mae: 3512.9277\n",
            "Epoch 156/200\n",
            "34/34 [==============================] - 0s 2ms/step - loss: 3505.8127 - mae: 3505.8127\n",
            "Epoch 157/200\n",
            "34/34 [==============================] - 0s 2ms/step - loss: 3550.9324 - mae: 3550.9324\n",
            "Epoch 158/200\n",
            "34/34 [==============================] - 0s 2ms/step - loss: 3526.5808 - mae: 3526.5808\n",
            "Epoch 159/200\n",
            "34/34 [==============================] - 0s 2ms/step - loss: 3503.2896 - mae: 3503.2896\n",
            "Epoch 160/200\n",
            "34/34 [==============================] - 0s 2ms/step - loss: 3594.8613 - mae: 3594.8613\n",
            "Epoch 161/200\n",
            "34/34 [==============================] - 0s 2ms/step - loss: 3552.7400 - mae: 3552.7400\n",
            "Epoch 162/200\n",
            "34/34 [==============================] - 0s 2ms/step - loss: 3493.2666 - mae: 3493.2666\n",
            "Epoch 163/200\n",
            "34/34 [==============================] - 0s 2ms/step - loss: 3520.3035 - mae: 3520.3035\n",
            "Epoch 164/200\n",
            "34/34 [==============================] - 0s 2ms/step - loss: 3527.0359 - mae: 3527.0359\n",
            "Epoch 165/200\n",
            "34/34 [==============================] - 0s 2ms/step - loss: 3627.5425 - mae: 3627.5425\n",
            "Epoch 166/200\n",
            "34/34 [==============================] - 0s 2ms/step - loss: 3503.4092 - mae: 3503.4092\n",
            "Epoch 167/200\n",
            "34/34 [==============================] - 0s 2ms/step - loss: 3550.1604 - mae: 3550.1604\n",
            "Epoch 168/200\n",
            "34/34 [==============================] - 0s 2ms/step - loss: 3523.1924 - mae: 3523.1924\n",
            "Epoch 169/200\n",
            "34/34 [==============================] - 0s 2ms/step - loss: 3500.2305 - mae: 3500.2305\n",
            "Epoch 170/200\n",
            "34/34 [==============================] - 0s 2ms/step - loss: 3534.5256 - mae: 3534.5256\n",
            "Epoch 171/200\n",
            "34/34 [==============================] - 0s 2ms/step - loss: 3547.9192 - mae: 3547.9192\n",
            "Epoch 172/200\n",
            "34/34 [==============================] - 0s 2ms/step - loss: 3526.1880 - mae: 3526.1880\n",
            "Epoch 173/200\n",
            "34/34 [==============================] - 0s 2ms/step - loss: 3507.5010 - mae: 3507.5010\n",
            "Epoch 174/200\n",
            "34/34 [==============================] - 0s 2ms/step - loss: 3514.2451 - mae: 3514.2451\n",
            "Epoch 175/200\n",
            "34/34 [==============================] - 0s 2ms/step - loss: 3513.2981 - mae: 3513.2981\n",
            "Epoch 176/200\n",
            "34/34 [==============================] - 0s 2ms/step - loss: 3497.3977 - mae: 3497.3977\n",
            "Epoch 177/200\n",
            "34/34 [==============================] - 0s 2ms/step - loss: 3514.2087 - mae: 3514.2087\n",
            "Epoch 178/200\n",
            "34/34 [==============================] - 0s 2ms/step - loss: 3550.0601 - mae: 3550.0601\n",
            "Epoch 179/200\n",
            "34/34 [==============================] - 0s 2ms/step - loss: 3563.1060 - mae: 3563.1060\n",
            "Epoch 180/200\n",
            "34/34 [==============================] - 0s 2ms/step - loss: 3516.6880 - mae: 3516.6880\n",
            "Epoch 181/200\n",
            "34/34 [==============================] - 0s 2ms/step - loss: 3519.9929 - mae: 3519.9929\n",
            "Epoch 182/200\n",
            "34/34 [==============================] - 0s 2ms/step - loss: 3509.2095 - mae: 3509.2095\n",
            "Epoch 183/200\n",
            "34/34 [==============================] - 0s 2ms/step - loss: 3528.4045 - mae: 3528.4045\n",
            "Epoch 184/200\n",
            "34/34 [==============================] - 0s 2ms/step - loss: 3652.6096 - mae: 3652.6096\n",
            "Epoch 185/200\n",
            "34/34 [==============================] - 0s 2ms/step - loss: 3560.2515 - mae: 3560.2515\n",
            "Epoch 186/200\n",
            "34/34 [==============================] - 0s 2ms/step - loss: 3588.9265 - mae: 3588.9265\n",
            "Epoch 187/200\n",
            "34/34 [==============================] - 0s 2ms/step - loss: 3618.1543 - mae: 3618.1543\n",
            "Epoch 188/200\n",
            "34/34 [==============================] - 0s 2ms/step - loss: 3502.8352 - mae: 3502.8352\n",
            "Epoch 189/200\n",
            "34/34 [==============================] - 0s 2ms/step - loss: 3500.4656 - mae: 3500.4656\n",
            "Epoch 190/200\n",
            "34/34 [==============================] - 0s 2ms/step - loss: 3492.7373 - mae: 3492.7373\n",
            "Epoch 191/200\n",
            "34/34 [==============================] - 0s 2ms/step - loss: 3493.5085 - mae: 3493.5085\n",
            "Epoch 192/200\n",
            "34/34 [==============================] - 0s 2ms/step - loss: 3521.7727 - mae: 3521.7727\n",
            "Epoch 193/200\n",
            "34/34 [==============================] - 0s 2ms/step - loss: 3543.7368 - mae: 3543.7368\n",
            "Epoch 194/200\n",
            "34/34 [==============================] - 0s 2ms/step - loss: 3497.5859 - mae: 3497.5859\n",
            "Epoch 195/200\n",
            "34/34 [==============================] - 0s 2ms/step - loss: 3538.7410 - mae: 3538.7410\n",
            "Epoch 196/200\n",
            "34/34 [==============================] - 0s 2ms/step - loss: 3559.9868 - mae: 3559.9868\n",
            "Epoch 197/200\n",
            "34/34 [==============================] - 0s 2ms/step - loss: 3517.4243 - mae: 3517.4243\n",
            "Epoch 198/200\n",
            "34/34 [==============================] - 0s 2ms/step - loss: 3519.3594 - mae: 3519.3594\n",
            "Epoch 199/200\n",
            "34/34 [==============================] - 0s 2ms/step - loss: 3496.4492 - mae: 3496.4492\n",
            "Epoch 200/200\n",
            "34/34 [==============================] - 0s 2ms/step - loss: 3493.5002 - mae: 3493.5002\n"
          ],
          "name": "stdout"
        }
      ]
    },
    {
      "cell_type": "code",
      "metadata": {
        "colab": {
          "base_uri": "https://localhost:8080/"
        },
        "id": "WIbquw1FKcoL",
        "outputId": "4e60bd3f-418e-4b5d-a38a-5523fccdf7d1"
      },
      "source": [
        "# Check the model summary\n",
        "insurance_model_2.summary()"
      ],
      "execution_count": 16,
      "outputs": [
        {
          "output_type": "stream",
          "text": [
            "Model: \"sequential_1\"\n",
            "_________________________________________________________________\n",
            "Layer (type)                 Output Shape              Param #   \n",
            "=================================================================\n",
            "dense_5 (Dense)              (None, 100)               1200      \n",
            "_________________________________________________________________\n",
            "dense_6 (Dense)              (None, 50)                5050      \n",
            "_________________________________________________________________\n",
            "dense_7 (Dense)              (None, 25)                1275      \n",
            "_________________________________________________________________\n",
            "dense_8 (Dense)              (None, 12)                312       \n",
            "_________________________________________________________________\n",
            "dense_9 (Dense)              (None, 6)                 78        \n",
            "_________________________________________________________________\n",
            "dense_10 (Dense)             (None, 3)                 21        \n",
            "_________________________________________________________________\n",
            "dense_11 (Dense)             (None, 2)                 8         \n",
            "_________________________________________________________________\n",
            "dense_12 (Dense)             (None, 1)                 3         \n",
            "=================================================================\n",
            "Total params: 7,947\n",
            "Trainable params: 7,947\n",
            "Non-trainable params: 0\n",
            "_________________________________________________________________\n"
          ],
          "name": "stdout"
        }
      ]
    },
    {
      "cell_type": "code",
      "metadata": {
        "colab": {
          "base_uri": "https://localhost:8080/"
        },
        "id": "tYNAUkYWmBF2",
        "outputId": "71afa750-b932-4895-e1e8-03e1795fae74"
      },
      "source": [
        "# Evaluate the model_2\n",
        "insurance_model_2.evaluate(X_test, y_test)"
      ],
      "execution_count": 17,
      "outputs": [
        {
          "output_type": "stream",
          "text": [
            "9/9 [==============================] - 0s 2ms/step - loss: 3168.3882 - mae: 3168.3882\n"
          ],
          "name": "stdout"
        },
        {
          "output_type": "execute_result",
          "data": {
            "text/plain": [
              "[3168.38818359375, 3168.38818359375]"
            ]
          },
          "metadata": {
            "tags": []
          },
          "execution_count": 17
        }
      ]
    },
    {
      "cell_type": "code",
      "metadata": {
        "colab": {
          "base_uri": "https://localhost:8080/"
        },
        "id": "kV3cZcOQqNrO",
        "outputId": "bbc6b831-fd39-4c49-9515-d18190888bc4"
      },
      "source": [
        "# Compare the two models.Checking for model.\n",
        "insurance_model.evaluate(X_test, y_test) "
      ],
      "execution_count": 18,
      "outputs": [
        {
          "output_type": "stream",
          "text": [
            "9/9 [==============================] - 0s 2ms/step - loss: 6009.1719 - mae: 6009.1719\n"
          ],
          "name": "stdout"
        },
        {
          "output_type": "execute_result",
          "data": {
            "text/plain": [
              "[6009.171875, 6009.171875]"
            ]
          },
          "metadata": {
            "tags": []
          },
          "execution_count": 18
        }
      ]
    },
    {
      "cell_type": "code",
      "metadata": {
        "colab": {
          "base_uri": "https://localhost:8080/",
          "height": 296
        },
        "id": "qwM16IxxquHH",
        "outputId": "9436f228-b097-411c-f82c-d7b40f7444e9"
      },
      "source": [
        "# Plot. (Also known as a loss curve or training curve)\n",
        "pd.DataFrame(history.history).plot()\n",
        "plt.ylabel(\"Loss\")\n",
        "plt.xlabel(\"Epochs\")"
      ],
      "execution_count": 19,
      "outputs": [
        {
          "output_type": "execute_result",
          "data": {
            "text/plain": [
              "Text(0.5, 0, 'Epochs')"
            ]
          },
          "metadata": {
            "tags": []
          },
          "execution_count": 19
        },
        {
          "output_type": "display_data",
          "data": {
            "image/png": "[encoded data removed]",
            "text/plain": [
              "<Figure size 432x288 with 1 Axes>"
            ]
          },
          "metadata": {
            "tags": [],
            "needs_background": "light"
          }
        }
      ]
    },
    {
      "cell_type": "markdown",
      "metadata": {
        "id": "1qgklZOJuEXE"
      },
      "source": [
        "# Preprocessing data (Standardization and Normalization)"
      ]
    },
    {
      "cell_type": "markdown",
      "metadata": {
        "id": "dDZRj2rbsyaR"
      },
      "source": [
        "**How long we should train for?**\n",
        "\n",
        "TesnorFlow has a solution. It's called [ EarlyStopping callback (see the documentation), which is a TensorFlow component we can add to our model to stop training training once it stops improving a certain metric.] "
      ]
    },
    {
      "cell_type": "code",
      "metadata": {
        "colab": {
          "base_uri": "https://localhost:8080/",
          "height": 203
        },
        "id": "uMWNl-gCvA-c",
        "outputId": "3950d315-e89e-427a-bc6d-8de81774cb48"
      },
      "source": [
        "# Read again the csv.\n",
        "insurance_data_1 = pd.read_csv(\"https://raw.githubusercontent.com/stedy/Machine-Learning-with-R-datasets/master/insurance.csv\")\n",
        "insurance_data_1.head()"
      ],
      "execution_count": 20,
      "outputs": [
        {
          "output_type": "execute_result",
          "data": {
            "text/html": [
              "<div>\n",
              "<style scoped>\n",
              "    .dataframe tbody tr th:only-of-type {\n",
              "        vertical-align: middle;\n",
              "    }\n",
              "\n",
              "    .dataframe tbody tr th {\n",
              "        vertical-align: top;\n",
              "    }\n",
              "\n",
              "    .dataframe thead th {\n",
              "        text-align: right;\n",
              "    }\n",
              "</style>\n",
              "<table border=\"1\" class=\"dataframe\">\n",
              "  <thead>\n",
              "    <tr style=\"text-align: right;\">\n",
              "      <th></th>\n",
              "      <th>age</th>\n",
              "      <th>sex</th>\n",
              "      <th>bmi</th>\n",
              "      <th>children</th>\n",
              "      <th>smoker</th>\n",
              "      <th>region</th>\n",
              "      <th>charges</th>\n",
              "    </tr>\n",
              "  </thead>\n",
              "  <tbody>\n",
              "    <tr>\n",
              "      <th>0</th>\n",
              "      <td>19</td>\n",
              "      <td>female</td>\n",
              "      <td>27.900</td>\n",
              "      <td>0</td>\n",
              "      <td>yes</td>\n",
              "      <td>southwest</td>\n",
              "      <td>16884.92400</td>\n",
              "    </tr>\n",
              "    <tr>\n",
              "      <th>1</th>\n",
              "      <td>18</td>\n",
              "      <td>male</td>\n",
              "      <td>33.770</td>\n",
              "      <td>1</td>\n",
              "      <td>no</td>\n",
              "      <td>southeast</td>\n",
              "      <td>1725.55230</td>\n",
              "    </tr>\n",
              "    <tr>\n",
              "      <th>2</th>\n",
              "      <td>28</td>\n",
              "      <td>male</td>\n",
              "      <td>33.000</td>\n",
              "      <td>3</td>\n",
              "      <td>no</td>\n",
              "      <td>southeast</td>\n",
              "      <td>4449.46200</td>\n",
              "    </tr>\n",
              "    <tr>\n",
              "      <th>3</th>\n",
              "      <td>33</td>\n",
              "      <td>male</td>\n",
              "      <td>22.705</td>\n",
              "      <td>0</td>\n",
              "      <td>no</td>\n",
              "      <td>northwest</td>\n",
              "      <td>21984.47061</td>\n",
              "    </tr>\n",
              "    <tr>\n",
              "      <th>4</th>\n",
              "      <td>32</td>\n",
              "      <td>male</td>\n",
              "      <td>28.880</td>\n",
              "      <td>0</td>\n",
              "      <td>no</td>\n",
              "      <td>northwest</td>\n",
              "      <td>3866.85520</td>\n",
              "    </tr>\n",
              "  </tbody>\n",
              "</table>\n",
              "</div>"
            ],
            "text/plain": [
              "   age     sex     bmi  children smoker     region      charges\n",
              "0   19  female  27.900         0    yes  southwest  16884.92400\n",
              "1   18    male  33.770         1     no  southeast   1725.55230\n",
              "2   28    male  33.000         3     no  southeast   4449.46200\n",
              "3   33    male  22.705         0     no  northwest  21984.47061\n",
              "4   32    male  28.880         0     no  northwest   3866.85520"
            ]
          },
          "metadata": {
            "tags": []
          },
          "execution_count": 20
        }
      ]
    },
    {
      "cell_type": "code",
      "metadata": {
        "colab": {
          "base_uri": "https://localhost:8080/",
          "height": 692
        },
        "id": "FHrT1dzorot9",
        "outputId": "47f05a0b-3f5b-4e83-ee86-a102133a61b3"
      },
      "source": [
        "# Plot the histogram of total dataset.\n",
        "insurance_data_1.hist(figsize= (10,10)) ## plot the histogram for all except the categorical variables."
      ],
      "execution_count": 21,
      "outputs": [
        {
          "output_type": "execute_result",
          "data": {
            "text/plain": [
              "array([[<matplotlib.axes._subplots.AxesSubplot object at 0x7f421c045850>,\n",
              "        <matplotlib.axes._subplots.AxesSubplot object at 0x7f421bae4b90>],\n",
              "       [<matplotlib.axes._subplots.AxesSubplot object at 0x7f421baa8110>,\n",
              "        <matplotlib.axes._subplots.AxesSubplot object at 0x7f421ba5b650>]],\n",
              "      dtype=object)"
            ]
          },
          "metadata": {
            "tags": []
          },
          "execution_count": 21
        },
        {
          "output_type": "display_data",
          "data": {
            "image/png": "[encoded data removed]",
            "text/plain": [
              "<Figure size 720x720 with 4 Axes>"
            ]
          },
          "metadata": {
            "tags": [],
            "needs_background": "light"
          }
        }
      ]
    },
    {
      "cell_type": "code",
      "metadata": {
        "id": "kzozNj0Qw9x5"
      },
      "source": [
        "from sklearn.compose import make_column_transformer\n",
        "from sklearn.preprocessing import MinMaxScaler, OneHotEncoder\n",
        "from sklearn.model_selection import train_test_split\n",
        "\n",
        "# Create a column Transformer\n",
        "ct = make_column_transformer(\n",
        "    (MinMaxScaler(), [\"age\", \"bmi\", \"children\"]), # Trun all values in these coolumns between 0 and 1\n",
        "    (OneHotEncoder(handle_unknown = \"ignore\"), [\"sex\", \"smoker\", \"region\"])\n",
        ")\n",
        "\n",
        "# Create X and y\n",
        "X = insurance_data_1.drop(\"charges\", axis = 1)\n",
        "y = insurance_data_1[\"charges\"]\n",
        "\n",
        "# Build training and test dataset\n",
        "X_train1, X_test1, y_train1, y_test1 = train_test_split(X, y, test_size = 0.2, random_state = 42)\n",
        "\n",
        "# Fit the column transformer to our training data\n",
        "ct.fit(X_train1)\n",
        "\n",
        "# transforming our training data and test data with normalization and OneHotEncoder\n",
        "X_train_norm = ct.transform(X_train1)\n",
        "X_test_norm = ct.transform(X_test1)"
      ],
      "execution_count": 22,
      "outputs": []
    },
    {
      "cell_type": "code",
      "metadata": {
        "id": "2c-oOpK6z6JG",
        "colab": {
          "base_uri": "https://localhost:8080/"
        },
        "outputId": "45fe87cb-05bd-4d3c-dfd5-3a472075384c"
      },
      "source": [
        "# Compare between X_train1 and X_train_norm.\n",
        "X_train1.loc[0], X_train_norm[0]     # X_train1 is a dataframe and X_train_norm is a numpy array.\n",
        "                                     \n",
        "#type(X_train1), type(X_train_norm)  # we can check the type by type()"
      ],
      "execution_count": 23,
      "outputs": [
        {
          "output_type": "execute_result",
          "data": {
            "text/plain": [
              "(age                19\n",
              " sex            female\n",
              " bmi              27.9\n",
              " children            0\n",
              " smoker            yes\n",
              " region      southwest\n",
              " Name: 0, dtype: object,\n",
              " array([0.60869565, 0.10734463, 0.4       , 1.        , 0.        ,\n",
              "        1.        , 0.        , 0.        , 1.        , 0.        ,\n",
              "        0.        ]))"
            ]
          },
          "metadata": {
            "tags": []
          },
          "execution_count": 23
        }
      ]
    },
    {
      "cell_type": "code",
      "metadata": {
        "colab": {
          "base_uri": "https://localhost:8080/"
        },
        "id": "A6aJIaC9IyF3",
        "outputId": "180ff9ea-898c-46cb-95ac-8c02e04d438d"
      },
      "source": [
        "# Building another Neural Network to fit the normalized data.\n",
        "tf.random.set_seed(42)\n",
        "\n",
        "# Creating the model architecture. Here, We will build the third model.\n",
        "insurance_model_3 = tf.keras.Sequential([\n",
        "    tf.keras.layers.Dense(100),\n",
        "    tf.keras.layers.Dense(50),\n",
        "    tf.keras.layers.Dense(20),\n",
        "    tf.keras.layers.Dense(5),\n",
        "    tf.keras.layers.Dense(1)\n",
        "])\n",
        "\n",
        "# Compile the model.\n",
        "insurance_model_3.compile(loss = tf.keras.losses.mae,\n",
        "                          optimizer = tf.keras.optimizers.Adam(),\n",
        "                          metrics = [\"mae\"])\n",
        "\n",
        "# Now, fit the model\n",
        "history1 = insurance_model_3.fit(X_train_norm, y_train1, epochs = 200, verbose = 2)"
      ],
      "execution_count": 28,
      "outputs": [
        {
          "output_type": "stream",
          "text": [
            "Epoch 1/200\n",
            "34/34 - 0s - loss: 13339.6016 - mae: 13339.6016\n",
            "Epoch 2/200\n",
            "34/34 - 0s - loss: 13253.4756 - mae: 13253.4756\n",
            "Epoch 3/200\n",
            "34/34 - 0s - loss: 12617.2588 - mae: 12617.2588\n",
            "Epoch 4/200\n",
            "34/34 - 0s - loss: 10207.0557 - mae: 10207.0557\n",
            "Epoch 5/200\n",
            "34/34 - 0s - loss: 8069.6953 - mae: 8069.6953\n",
            "Epoch 6/200\n",
            "34/34 - 0s - loss: 7782.2192 - mae: 7782.2192\n",
            "Epoch 7/200\n",
            "34/34 - 0s - loss: 7554.2222 - mae: 7554.2222\n",
            "Epoch 8/200\n",
            "34/34 - 0s - loss: 7325.5615 - mae: 7325.5615\n",
            "Epoch 9/200\n",
            "34/34 - 0s - loss: 7065.1851 - mae: 7065.1851\n",
            "Epoch 10/200\n",
            "34/34 - 0s - loss: 6745.0908 - mae: 6745.0908\n",
            "Epoch 11/200\n",
            "34/34 - 0s - loss: 6348.0117 - mae: 6348.0117\n",
            "Epoch 12/200\n",
            "34/34 - 0s - loss: 5800.2993 - mae: 5800.2993\n",
            "Epoch 13/200\n",
            "34/34 - 0s - loss: 5073.0166 - mae: 5073.0166\n",
            "Epoch 14/200\n",
            "34/34 - 0s - loss: 4278.0386 - mae: 4278.0386\n",
            "Epoch 15/200\n",
            "34/34 - 0s - loss: 3766.4561 - mae: 3766.4561\n",
            "Epoch 16/200\n",
            "34/34 - 0s - loss: 3660.5322 - mae: 3660.5322\n",
            "Epoch 17/200\n",
            "34/34 - 0s - loss: 3648.4514 - mae: 3648.4514\n",
            "Epoch 18/200\n",
            "34/34 - 0s - loss: 3627.6428 - mae: 3627.6428\n",
            "Epoch 19/200\n",
            "34/34 - 0s - loss: 3627.2268 - mae: 3627.2268\n",
            "Epoch 20/200\n",
            "34/34 - 0s - loss: 3608.4290 - mae: 3608.4290\n",
            "Epoch 21/200\n",
            "34/34 - 0s - loss: 3597.1448 - mae: 3597.1448\n",
            "Epoch 22/200\n",
            "34/34 - 0s - loss: 3582.0862 - mae: 3582.0862\n",
            "Epoch 23/200\n",
            "34/34 - 0s - loss: 3576.9736 - mae: 3576.9736\n",
            "Epoch 24/200\n",
            "34/34 - 0s - loss: 3566.5886 - mae: 3566.5886\n",
            "Epoch 25/200\n",
            "34/34 - 0s - loss: 3562.7678 - mae: 3562.7678\n",
            "Epoch 26/200\n",
            "34/34 - 0s - loss: 3538.0454 - mae: 3538.0454\n",
            "Epoch 27/200\n",
            "34/34 - 0s - loss: 3532.2468 - mae: 3532.2468\n",
            "Epoch 28/200\n",
            "34/34 - 0s - loss: 3532.4131 - mae: 3532.4131\n",
            "Epoch 29/200\n",
            "34/34 - 0s - loss: 3532.7271 - mae: 3532.7271\n",
            "Epoch 30/200\n",
            "34/34 - 0s - loss: 3529.8176 - mae: 3529.8176\n",
            "Epoch 31/200\n",
            "34/34 - 0s - loss: 3525.5679 - mae: 3525.5679\n",
            "Epoch 32/200\n",
            "34/34 - 0s - loss: 3501.3567 - mae: 3501.3567\n",
            "Epoch 33/200\n",
            "34/34 - 0s - loss: 3514.0969 - mae: 3514.0969\n",
            "Epoch 34/200\n",
            "34/34 - 0s - loss: 3478.7446 - mae: 3478.7446\n",
            "Epoch 35/200\n",
            "34/34 - 0s - loss: 3487.5862 - mae: 3487.5862\n",
            "Epoch 36/200\n",
            "34/34 - 0s - loss: 3482.6045 - mae: 3482.6045\n",
            "Epoch 37/200\n",
            "34/34 - 0s - loss: 3491.4766 - mae: 3491.4766\n",
            "Epoch 38/200\n",
            "34/34 - 0s - loss: 3501.8657 - mae: 3501.8657\n",
            "Epoch 39/200\n",
            "34/34 - 0s - loss: 3484.7219 - mae: 3484.7219\n",
            "Epoch 40/200\n",
            "34/34 - 0s - loss: 3501.6140 - mae: 3501.6140\n",
            "Epoch 41/200\n",
            "34/34 - 0s - loss: 3488.4099 - mae: 3488.4099\n",
            "Epoch 42/200\n",
            "34/34 - 0s - loss: 3490.9795 - mae: 3490.9795\n",
            "Epoch 43/200\n",
            "34/34 - 0s - loss: 3487.0115 - mae: 3487.0115\n",
            "Epoch 44/200\n",
            "34/34 - 0s - loss: 3485.0784 - mae: 3485.0784\n",
            "Epoch 45/200\n",
            "34/34 - 0s - loss: 3477.9275 - mae: 3477.9275\n",
            "Epoch 46/200\n",
            "34/34 - 0s - loss: 3486.7085 - mae: 3486.7085\n",
            "Epoch 47/200\n",
            "34/34 - 0s - loss: 3491.4729 - mae: 3491.4729\n",
            "Epoch 48/200\n",
            "34/34 - 0s - loss: 3484.9299 - mae: 3484.9299\n",
            "Epoch 49/200\n",
            "34/34 - 0s - loss: 3505.4253 - mae: 3505.4253\n",
            "Epoch 50/200\n",
            "34/34 - 0s - loss: 3479.5776 - mae: 3479.5776\n",
            "Epoch 51/200\n",
            "34/34 - 0s - loss: 3479.1150 - mae: 3479.1150\n",
            "Epoch 52/200\n",
            "34/34 - 0s - loss: 3487.0586 - mae: 3487.0586\n",
            "Epoch 53/200\n",
            "34/34 - 0s - loss: 3476.5886 - mae: 3476.5886\n",
            "Epoch 54/200\n",
            "34/34 - 0s - loss: 3493.7849 - mae: 3493.7849\n",
            "Epoch 55/200\n",
            "34/34 - 0s - loss: 3506.3352 - mae: 3506.3352\n",
            "Epoch 56/200\n",
            "34/34 - 0s - loss: 3487.7837 - mae: 3487.7837\n",
            "Epoch 57/200\n",
            "34/34 - 0s - loss: 3482.5215 - mae: 3482.5215\n",
            "Epoch 58/200\n",
            "34/34 - 0s - loss: 3480.7524 - mae: 3480.7524\n",
            "Epoch 59/200\n",
            "34/34 - 0s - loss: 3488.6858 - mae: 3488.6858\n",
            "Epoch 60/200\n",
            "34/34 - 0s - loss: 3492.4719 - mae: 3492.4719\n",
            "Epoch 61/200\n",
            "34/34 - 0s - loss: 3497.8870 - mae: 3497.8870\n",
            "Epoch 62/200\n",
            "34/34 - 0s - loss: 3485.2681 - mae: 3485.2681\n",
            "Epoch 63/200\n",
            "34/34 - 0s - loss: 3481.4199 - mae: 3481.4199\n",
            "Epoch 64/200\n",
            "34/34 - 0s - loss: 3487.6306 - mae: 3487.6306\n",
            "Epoch 65/200\n",
            "34/34 - 0s - loss: 3488.6414 - mae: 3488.6414\n",
            "Epoch 66/200\n",
            "34/34 - 0s - loss: 3498.2075 - mae: 3498.2075\n",
            "Epoch 67/200\n",
            "34/34 - 0s - loss: 3481.5156 - mae: 3481.5156\n",
            "Epoch 68/200\n",
            "34/34 - 0s - loss: 3489.9912 - mae: 3489.9912\n",
            "Epoch 69/200\n",
            "34/34 - 0s - loss: 3478.9170 - mae: 3478.9170\n",
            "Epoch 70/200\n",
            "34/34 - 0s - loss: 3492.4338 - mae: 3492.4338\n",
            "Epoch 71/200\n",
            "34/34 - 0s - loss: 3483.9775 - mae: 3483.9775\n",
            "Epoch 72/200\n",
            "34/34 - 0s - loss: 3490.3279 - mae: 3490.3279\n",
            "Epoch 73/200\n",
            "34/34 - 0s - loss: 3491.7112 - mae: 3491.7112\n",
            "Epoch 74/200\n",
            "34/34 - 0s - loss: 3481.5798 - mae: 3481.5798\n",
            "Epoch 75/200\n",
            "34/34 - 0s - loss: 3481.9985 - mae: 3481.9985\n",
            "Epoch 76/200\n",
            "34/34 - 0s - loss: 3483.5083 - mae: 3483.5083\n",
            "Epoch 77/200\n",
            "34/34 - 0s - loss: 3482.6255 - mae: 3482.6255\n",
            "Epoch 78/200\n",
            "34/34 - 0s - loss: 3483.6924 - mae: 3483.6924\n",
            "Epoch 79/200\n",
            "34/34 - 0s - loss: 3489.1782 - mae: 3489.1782\n",
            "Epoch 80/200\n",
            "34/34 - 0s - loss: 3489.6108 - mae: 3489.6108\n",
            "Epoch 81/200\n",
            "34/34 - 0s - loss: 3490.5557 - mae: 3490.5557\n",
            "Epoch 82/200\n",
            "34/34 - 0s - loss: 3481.6067 - mae: 3481.6067\n",
            "Epoch 83/200\n",
            "34/34 - 0s - loss: 3484.0610 - mae: 3484.0610\n",
            "Epoch 84/200\n",
            "34/34 - 0s - loss: 3487.1313 - mae: 3487.1313\n",
            "Epoch 85/200\n",
            "34/34 - 0s - loss: 3479.2981 - mae: 3479.2981\n",
            "Epoch 86/200\n",
            "34/34 - 0s - loss: 3478.7693 - mae: 3478.7693\n",
            "Epoch 87/200\n",
            "34/34 - 0s - loss: 3488.7473 - mae: 3488.7473\n",
            "Epoch 88/200\n",
            "34/34 - 0s - loss: 3483.9661 - mae: 3483.9661\n",
            "Epoch 89/200\n",
            "34/34 - 0s - loss: 3483.5210 - mae: 3483.5210\n",
            "Epoch 90/200\n",
            "34/34 - 0s - loss: 3482.4832 - mae: 3482.4832\n",
            "Epoch 91/200\n",
            "34/34 - 0s - loss: 3482.1003 - mae: 3482.1003\n",
            "Epoch 92/200\n",
            "34/34 - 0s - loss: 3492.6702 - mae: 3492.6702\n",
            "Epoch 93/200\n",
            "34/34 - 0s - loss: 3480.1785 - mae: 3480.1785\n",
            "Epoch 94/200\n",
            "34/34 - 0s - loss: 3483.5615 - mae: 3483.5615\n",
            "Epoch 95/200\n",
            "34/34 - 0s - loss: 3480.6479 - mae: 3480.6479\n",
            "Epoch 96/200\n",
            "34/34 - 0s - loss: 3489.0613 - mae: 3489.0613\n",
            "Epoch 97/200\n",
            "34/34 - 0s - loss: 3494.1633 - mae: 3494.1633\n",
            "Epoch 98/200\n",
            "34/34 - 0s - loss: 3483.3442 - mae: 3483.3442\n",
            "Epoch 99/200\n",
            "34/34 - 0s - loss: 3492.6416 - mae: 3492.6416\n",
            "Epoch 100/200\n",
            "34/34 - 0s - loss: 3487.2590 - mae: 3487.2590\n",
            "Epoch 101/200\n",
            "34/34 - 0s - loss: 3489.7244 - mae: 3489.7244\n",
            "Epoch 102/200\n",
            "34/34 - 0s - loss: 3480.4365 - mae: 3480.4365\n",
            "Epoch 103/200\n",
            "34/34 - 0s - loss: 3491.6875 - mae: 3491.6875\n",
            "Epoch 104/200\n",
            "34/34 - 0s - loss: 3479.2217 - mae: 3479.2217\n",
            "Epoch 105/200\n",
            "34/34 - 0s - loss: 3490.1770 - mae: 3490.1770\n",
            "Epoch 106/200\n",
            "34/34 - 0s - loss: 3484.1387 - mae: 3484.1387\n",
            "Epoch 107/200\n",
            "34/34 - 0s - loss: 3480.6362 - mae: 3480.6362\n",
            "Epoch 108/200\n",
            "34/34 - 0s - loss: 3481.1428 - mae: 3481.1428\n",
            "Epoch 109/200\n",
            "34/34 - 0s - loss: 3484.8044 - mae: 3484.8044\n",
            "Epoch 110/200\n",
            "34/34 - 0s - loss: 3482.2998 - mae: 3482.2998\n",
            "Epoch 111/200\n",
            "34/34 - 0s - loss: 3492.4873 - mae: 3492.4873\n",
            "Epoch 112/200\n",
            "34/34 - 0s - loss: 3492.1033 - mae: 3492.1033\n",
            "Epoch 113/200\n",
            "34/34 - 0s - loss: 3489.2004 - mae: 3489.2004\n",
            "Epoch 114/200\n",
            "34/34 - 0s - loss: 3518.0837 - mae: 3518.0837\n",
            "Epoch 115/200\n",
            "34/34 - 0s - loss: 3497.7158 - mae: 3497.7158\n",
            "Epoch 116/200\n",
            "34/34 - 0s - loss: 3488.4656 - mae: 3488.4656\n",
            "Epoch 117/200\n",
            "34/34 - 0s - loss: 3490.4265 - mae: 3490.4265\n",
            "Epoch 118/200\n",
            "34/34 - 0s - loss: 3478.5825 - mae: 3478.5825\n",
            "Epoch 119/200\n",
            "34/34 - 0s - loss: 3485.9983 - mae: 3485.9983\n",
            "Epoch 120/200\n",
            "34/34 - 0s - loss: 3480.4043 - mae: 3480.4043\n",
            "Epoch 121/200\n",
            "34/34 - 0s - loss: 3502.3396 - mae: 3502.3396\n",
            "Epoch 122/200\n",
            "34/34 - 0s - loss: 3499.6802 - mae: 3499.6802\n",
            "Epoch 123/200\n",
            "34/34 - 0s - loss: 3487.2444 - mae: 3487.2444\n",
            "Epoch 124/200\n",
            "34/34 - 0s - loss: 3481.9077 - mae: 3481.9077\n",
            "Epoch 125/200\n",
            "34/34 - 0s - loss: 3490.4038 - mae: 3490.4038\n",
            "Epoch 126/200\n",
            "34/34 - 0s - loss: 3492.2378 - mae: 3492.2378\n",
            "Epoch 127/200\n",
            "34/34 - 0s - loss: 3491.9026 - mae: 3491.9026\n",
            "Epoch 128/200\n",
            "34/34 - 0s - loss: 3490.0076 - mae: 3490.0076\n",
            "Epoch 129/200\n",
            "34/34 - 0s - loss: 3511.2507 - mae: 3511.2507\n",
            "Epoch 130/200\n",
            "34/34 - 0s - loss: 3485.6707 - mae: 3485.6707\n",
            "Epoch 131/200\n",
            "34/34 - 0s - loss: 3485.2156 - mae: 3485.2156\n",
            "Epoch 132/200\n",
            "34/34 - 0s - loss: 3483.0071 - mae: 3483.0071\n",
            "Epoch 133/200\n",
            "34/34 - 0s - loss: 3481.4365 - mae: 3481.4365\n",
            "Epoch 134/200\n",
            "34/34 - 0s - loss: 3482.4385 - mae: 3482.4385\n",
            "Epoch 135/200\n",
            "34/34 - 0s - loss: 3484.6194 - mae: 3484.6194\n",
            "Epoch 136/200\n",
            "34/34 - 0s - loss: 3479.2424 - mae: 3479.2424\n",
            "Epoch 137/200\n",
            "34/34 - 0s - loss: 3490.6487 - mae: 3490.6487\n",
            "Epoch 138/200\n",
            "34/34 - 0s - loss: 3494.4167 - mae: 3494.4167\n",
            "Epoch 139/200\n",
            "34/34 - 0s - loss: 3484.9822 - mae: 3484.9822\n",
            "Epoch 140/200\n",
            "34/34 - 0s - loss: 3488.4246 - mae: 3488.4246\n",
            "Epoch 141/200\n",
            "34/34 - 0s - loss: 3495.9016 - mae: 3495.9016\n",
            "Epoch 142/200\n",
            "34/34 - 0s - loss: 3496.4023 - mae: 3496.4023\n",
            "Epoch 143/200\n",
            "34/34 - 0s - loss: 3486.3425 - mae: 3486.3425\n",
            "Epoch 144/200\n",
            "34/34 - 0s - loss: 3488.6616 - mae: 3488.6616\n",
            "Epoch 145/200\n",
            "34/34 - 0s - loss: 3484.1711 - mae: 3484.1711\n",
            "Epoch 146/200\n",
            "34/34 - 0s - loss: 3502.6545 - mae: 3502.6545\n",
            "Epoch 147/200\n",
            "34/34 - 0s - loss: 3485.9333 - mae: 3485.9333\n",
            "Epoch 148/200\n",
            "34/34 - 0s - loss: 3496.8965 - mae: 3496.8965\n",
            "Epoch 149/200\n",
            "34/34 - 0s - loss: 3482.1272 - mae: 3482.1272\n",
            "Epoch 150/200\n",
            "34/34 - 0s - loss: 3477.5657 - mae: 3477.5657\n",
            "Epoch 151/200\n",
            "34/34 - 0s - loss: 3489.8057 - mae: 3489.8057\n",
            "Epoch 152/200\n",
            "34/34 - 0s - loss: 3493.8320 - mae: 3493.8320\n",
            "Epoch 153/200\n",
            "34/34 - 0s - loss: 3490.4658 - mae: 3490.4658\n",
            "Epoch 154/200\n",
            "34/34 - 0s - loss: 3483.9080 - mae: 3483.9080\n",
            "Epoch 155/200\n",
            "34/34 - 0s - loss: 3488.8252 - mae: 3488.8252\n",
            "Epoch 156/200\n",
            "34/34 - 0s - loss: 3484.6692 - mae: 3484.6692\n",
            "Epoch 157/200\n",
            "34/34 - 0s - loss: 3492.6511 - mae: 3492.6511\n",
            "Epoch 158/200\n",
            "34/34 - 0s - loss: 3486.8696 - mae: 3486.8696\n",
            "Epoch 159/200\n",
            "34/34 - 0s - loss: 3479.0759 - mae: 3479.0759\n",
            "Epoch 160/200\n",
            "34/34 - 0s - loss: 3487.6960 - mae: 3487.6960\n",
            "Epoch 161/200\n",
            "34/34 - 0s - loss: 3486.8477 - mae: 3486.8477\n",
            "Epoch 162/200\n",
            "34/34 - 0s - loss: 3481.4241 - mae: 3481.4241\n",
            "Epoch 163/200\n",
            "34/34 - 0s - loss: 3482.8608 - mae: 3482.8608\n",
            "Epoch 164/200\n",
            "34/34 - 0s - loss: 3491.3801 - mae: 3491.3801\n",
            "Epoch 165/200\n",
            "34/34 - 0s - loss: 3481.0583 - mae: 3481.0583\n",
            "Epoch 166/200\n",
            "34/34 - 0s - loss: 3484.2412 - mae: 3484.2412\n",
            "Epoch 167/200\n",
            "34/34 - 0s - loss: 3487.1511 - mae: 3487.1511\n",
            "Epoch 168/200\n",
            "34/34 - 0s - loss: 3485.9641 - mae: 3485.9641\n",
            "Epoch 169/200\n",
            "34/34 - 0s - loss: 3482.0972 - mae: 3482.0972\n",
            "Epoch 170/200\n",
            "34/34 - 0s - loss: 3481.3779 - mae: 3481.3779\n",
            "Epoch 171/200\n",
            "34/34 - 0s - loss: 3488.6013 - mae: 3488.6013\n",
            "Epoch 172/200\n",
            "34/34 - 0s - loss: 3491.4678 - mae: 3491.4678\n",
            "Epoch 173/200\n",
            "34/34 - 0s - loss: 3478.1504 - mae: 3478.1504\n",
            "Epoch 174/200\n",
            "34/34 - 0s - loss: 3484.6921 - mae: 3484.6921\n",
            "Epoch 175/200\n",
            "34/34 - 0s - loss: 3484.1763 - mae: 3484.1763\n",
            "Epoch 176/200\n",
            "34/34 - 0s - loss: 3497.8860 - mae: 3497.8860\n",
            "Epoch 177/200\n",
            "34/34 - 0s - loss: 3483.8059 - mae: 3483.8059\n",
            "Epoch 178/200\n",
            "34/34 - 0s - loss: 3485.5979 - mae: 3485.5979\n",
            "Epoch 179/200\n",
            "34/34 - 0s - loss: 3498.5820 - mae: 3498.5820\n",
            "Epoch 180/200\n",
            "34/34 - 0s - loss: 3495.3813 - mae: 3495.3813\n",
            "Epoch 181/200\n",
            "34/34 - 0s - loss: 3487.6606 - mae: 3487.6606\n",
            "Epoch 182/200\n",
            "34/34 - 0s - loss: 3492.8384 - mae: 3492.8384\n",
            "Epoch 183/200\n",
            "34/34 - 0s - loss: 3486.5325 - mae: 3486.5325\n",
            "Epoch 184/200\n",
            "34/34 - 0s - loss: 3489.2361 - mae: 3489.2361\n",
            "Epoch 185/200\n",
            "34/34 - 0s - loss: 3486.7710 - mae: 3486.7710\n",
            "Epoch 186/200\n",
            "34/34 - 0s - loss: 3494.0830 - mae: 3494.0830\n",
            "Epoch 187/200\n",
            "34/34 - 0s - loss: 3482.7576 - mae: 3482.7576\n",
            "Epoch 188/200\n",
            "34/34 - 0s - loss: 3487.9333 - mae: 3487.9333\n",
            "Epoch 189/200\n",
            "34/34 - 0s - loss: 3481.4500 - mae: 3481.4500\n",
            "Epoch 190/200\n",
            "34/34 - 0s - loss: 3490.0120 - mae: 3490.0120\n",
            "Epoch 191/200\n",
            "34/34 - 0s - loss: 3498.1216 - mae: 3498.1216\n",
            "Epoch 192/200\n",
            "34/34 - 0s - loss: 3489.4429 - mae: 3489.4429\n",
            "Epoch 193/200\n",
            "34/34 - 0s - loss: 3486.8062 - mae: 3486.8062\n",
            "Epoch 194/200\n",
            "34/34 - 0s - loss: 3488.9509 - mae: 3488.9509\n",
            "Epoch 195/200\n",
            "34/34 - 0s - loss: 3477.0444 - mae: 3477.0444\n",
            "Epoch 196/200\n",
            "34/34 - 0s - loss: 3492.5798 - mae: 3492.5798\n",
            "Epoch 197/200\n",
            "34/34 - 0s - loss: 3482.9307 - mae: 3482.9307\n",
            "Epoch 198/200\n",
            "34/34 - 0s - loss: 3501.1318 - mae: 3501.1318\n",
            "Epoch 199/200\n",
            "34/34 - 0s - loss: 3494.3887 - mae: 3494.3887\n",
            "Epoch 200/200\n",
            "34/34 - 0s - loss: 3482.0972 - mae: 3482.0972\n"
          ],
          "name": "stdout"
        }
      ]
    },
    {
      "cell_type": "code",
      "metadata": {
        "colab": {
          "base_uri": "https://localhost:8080/"
        },
        "id": "cIZ99nmFSYZo",
        "outputId": "f95a610b-617e-4eac-9e79-259eb3818a82"
      },
      "source": [
        "insurance_model_3.summary()"
      ],
      "execution_count": 29,
      "outputs": [
        {
          "output_type": "stream",
          "text": [
            "Model: \"sequential_3\"\n",
            "_________________________________________________________________\n",
            "Layer (type)                 Output Shape              Param #   \n",
            "=================================================================\n",
            "dense_18 (Dense)             (None, 100)               1200      \n",
            "_________________________________________________________________\n",
            "dense_19 (Dense)             (None, 50)                5050      \n",
            "_________________________________________________________________\n",
            "dense_20 (Dense)             (None, 20)                1020      \n",
            "_________________________________________________________________\n",
            "dense_21 (Dense)             (None, 5)                 105       \n",
            "_________________________________________________________________\n",
            "dense_22 (Dense)             (None, 1)                 6         \n",
            "=================================================================\n",
            "Total params: 7,381\n",
            "Trainable params: 7,381\n",
            "Non-trainable params: 0\n",
            "_________________________________________________________________\n"
          ],
          "name": "stdout"
        }
      ]
    },
    {
      "cell_type": "code",
      "metadata": {
        "colab": {
          "base_uri": "https://localhost:8080/"
        },
        "id": "U0q4pvzZNNi5",
        "outputId": "23b65fd8-3703-4641-87b4-5a308561f580"
      },
      "source": [
        "insurance_model_3.evaluate(X_test_norm, y_test)"
      ],
      "execution_count": 30,
      "outputs": [
        {
          "output_type": "stream",
          "text": [
            "9/9 [==============================] - 0s 2ms/step - loss: 3168.7322 - mae: 3168.7322\n"
          ],
          "name": "stdout"
        },
        {
          "output_type": "execute_result",
          "data": {
            "text/plain": [
              "[3168.732177734375, 3168.732177734375]"
            ]
          },
          "metadata": {
            "tags": []
          },
          "execution_count": 30
        }
      ]
    },
    {
      "cell_type": "code",
      "metadata": {
        "colab": {
          "base_uri": "https://localhost:8080/",
          "height": 296
        },
        "id": "9hO76kpkSOsE",
        "outputId": "1e272f74-f2fe-4a2c-dfd4-1bb4f575bdca"
      },
      "source": [
        "# Plot. (Also known as a loss curve or training curve)\n",
        "pd.DataFrame(history1.history).plot()\n",
        "plt.ylabel(\"Loss\")\n",
        "plt.xlabel(\"Epochs\")"
      ],
      "execution_count": 31,
      "outputs": [
        {
          "output_type": "execute_result",
          "data": {
            "text/plain": [
              "Text(0.5, 0, 'Epochs')"
            ]
          },
          "metadata": {
            "tags": []
          },
          "execution_count": 31
        },
        {
          "output_type": "display_data",
          "data": {
            "image/png": "[encoded data removed]",
            "text/plain": [
              "<Figure size 432x288 with 1 Axes>"
            ]
          },
          "metadata": {
            "tags": [],
            "needs_background": "light"
          }
        }
      ]
    },
    {
      "cell_type": "markdown",
      "metadata": {
        "id": "MR16FldatycY"
      },
      "source": [
        "# Model Architecture.\n",
        "\n",
        "**See the different Model architecture.**\n",
        "\n",
        "Evaluation on different model"
      ]
    },
    {
      "cell_type": "code",
      "metadata": {
        "colab": {
          "base_uri": "https://localhost:8080/"
        },
        "id": "GuSmHwQutpiC",
        "outputId": "791edad5-c510-4d5a-bbc6-87ffa39b1089"
      },
      "source": [
        "insurance_model.summary()"
      ],
      "execution_count": 32,
      "outputs": [
        {
          "output_type": "stream",
          "text": [
            "Model: \"sequential\"\n",
            "_________________________________________________________________\n",
            "Layer (type)                 Output Shape              Param #   \n",
            "=================================================================\n",
            "dense (Dense)                (None, 10)                120       \n",
            "_________________________________________________________________\n",
            "dense_1 (Dense)              (None, 5)                 55        \n",
            "_________________________________________________________________\n",
            "dense_2 (Dense)              (None, 3)                 18        \n",
            "_________________________________________________________________\n",
            "dense_3 (Dense)              (None, 2)                 8         \n",
            "_________________________________________________________________\n",
            "dense_4 (Dense)              (None, 1)                 3         \n",
            "=================================================================\n",
            "Total params: 204\n",
            "Trainable params: 204\n",
            "Non-trainable params: 0\n",
            "_________________________________________________________________\n"
          ],
          "name": "stdout"
        }
      ]
    },
    {
      "cell_type": "code",
      "metadata": {
        "colab": {
          "base_uri": "https://localhost:8080/"
        },
        "id": "NTuWB5lOuUA2",
        "outputId": "bf09970d-bf16-4fb1-d8cd-d6c220a43421"
      },
      "source": [
        "# Evaluate the first model\n",
        "insurance_model.evaluate(X_test, y_test)"
      ],
      "execution_count": 36,
      "outputs": [
        {
          "output_type": "stream",
          "text": [
            "9/9 [==============================] - 0s 2ms/step - loss: 6009.1719 - mae: 6009.1719\n"
          ],
          "name": "stdout"
        },
        {
          "output_type": "execute_result",
          "data": {
            "text/plain": [
              "[6009.171875, 6009.171875]"
            ]
          },
          "metadata": {
            "tags": []
          },
          "execution_count": 36
        }
      ]
    },
    {
      "cell_type": "code",
      "metadata": {
        "colab": {
          "base_uri": "https://localhost:8080/"
        },
        "id": "x4RiJ40St-Eb",
        "outputId": "f1f9039c-3053-4cb8-f529-ec7648872233"
      },
      "source": [
        "insurance_model_2.summary()"
      ],
      "execution_count": 33,
      "outputs": [
        {
          "output_type": "stream",
          "text": [
            "Model: \"sequential_1\"\n",
            "_________________________________________________________________\n",
            "Layer (type)                 Output Shape              Param #   \n",
            "=================================================================\n",
            "dense_5 (Dense)              (None, 100)               1200      \n",
            "_________________________________________________________________\n",
            "dense_6 (Dense)              (None, 50)                5050      \n",
            "_________________________________________________________________\n",
            "dense_7 (Dense)              (None, 25)                1275      \n",
            "_________________________________________________________________\n",
            "dense_8 (Dense)              (None, 12)                312       \n",
            "_________________________________________________________________\n",
            "dense_9 (Dense)              (None, 6)                 78        \n",
            "_________________________________________________________________\n",
            "dense_10 (Dense)             (None, 3)                 21        \n",
            "_________________________________________________________________\n",
            "dense_11 (Dense)             (None, 2)                 8         \n",
            "_________________________________________________________________\n",
            "dense_12 (Dense)             (None, 1)                 3         \n",
            "=================================================================\n",
            "Total params: 7,947\n",
            "Trainable params: 7,947\n",
            "Non-trainable params: 0\n",
            "_________________________________________________________________\n"
          ],
          "name": "stdout"
        }
      ]
    },
    {
      "cell_type": "code",
      "metadata": {
        "colab": {
          "base_uri": "https://localhost:8080/"
        },
        "id": "SoDCbSqsuMLJ",
        "outputId": "3a19b7c0-4e0c-4c4e-eca8-2b2543db0d84"
      },
      "source": [
        "# Evaluate the model_2\n",
        "insurance_model_2.evaluate(X_test, y_test)"
      ],
      "execution_count": 35,
      "outputs": [
        {
          "output_type": "stream",
          "text": [
            "9/9 [==============================] - 0s 2ms/step - loss: 3168.3882 - mae: 3168.3882\n"
          ],
          "name": "stdout"
        },
        {
          "output_type": "execute_result",
          "data": {
            "text/plain": [
              "[3168.38818359375, 3168.38818359375]"
            ]
          },
          "metadata": {
            "tags": []
          },
          "execution_count": 35
        }
      ]
    },
    {
      "cell_type": "code",
      "metadata": {
        "colab": {
          "base_uri": "https://localhost:8080/"
        },
        "id": "-LsjTOEQuAiq",
        "outputId": "c16023ee-75de-4276-8f45-927d731dc103"
      },
      "source": [
        "insurance_model_3.summary()"
      ],
      "execution_count": 34,
      "outputs": [
        {
          "output_type": "stream",
          "text": [
            "Model: \"sequential_3\"\n",
            "_________________________________________________________________\n",
            "Layer (type)                 Output Shape              Param #   \n",
            "=================================================================\n",
            "dense_18 (Dense)             (None, 100)               1200      \n",
            "_________________________________________________________________\n",
            "dense_19 (Dense)             (None, 50)                5050      \n",
            "_________________________________________________________________\n",
            "dense_20 (Dense)             (None, 20)                1020      \n",
            "_________________________________________________________________\n",
            "dense_21 (Dense)             (None, 5)                 105       \n",
            "_________________________________________________________________\n",
            "dense_22 (Dense)             (None, 1)                 6         \n",
            "=================================================================\n",
            "Total params: 7,381\n",
            "Trainable params: 7,381\n",
            "Non-trainable params: 0\n",
            "_________________________________________________________________\n"
          ],
          "name": "stdout"
        }
      ]
    },
    {
      "cell_type": "code",
      "metadata": {
        "colab": {
          "base_uri": "https://localhost:8080/"
        },
        "id": "oUs1-m-3uFn9",
        "outputId": "84461f85-17b9-49e5-b92a-91d75c098b11"
      },
      "source": [
        "# Evaluate the third model\n",
        "insurance_model_3.evaluate(X_test_norm, y_test)"
      ],
      "execution_count": 37,
      "outputs": [
        {
          "output_type": "stream",
          "text": [
            "9/9 [==============================] - 0s 1ms/step - loss: 3168.7322 - mae: 3168.7322\n"
          ],
          "name": "stdout"
        },
        {
          "output_type": "execute_result",
          "data": {
            "text/plain": [
              "[3168.732177734375, 3168.732177734375]"
            ]
          },
          "metadata": {
            "tags": []
          },
          "execution_count": 37
        }
      ]
    },
    {
      "cell_type": "code",
      "metadata": {
        "id": "5pZ5O3RqukzK"
      },
      "source": [
        ""
      ],
      "execution_count": null,
      "outputs": []
    }
  ]
}